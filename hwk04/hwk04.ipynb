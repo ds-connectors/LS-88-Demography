{
 "cells": [
  {
   "cell_type": "code",
   "execution_count": 1,
   "metadata": {},
   "outputs": [
    {
     "data": {
      "text/html": [
       "<style>\n",
       ".imagesource {\n",
       "    font-size: xx-small;\n",
       "}\n",
       ".response {\n",
       "    background-color: #00CCCC;\n",
       "}\n",
       ".solution {\n",
       "    background-color: #CC77CC;\n",
       "}\n",
       "</style>\n"
      ],
      "text/plain": [
       "<IPython.core.display.HTML object>"
      ]
     },
     "execution_count": 1,
     "metadata": {},
     "output_type": "execute_result"
    }
   ],
   "source": [
    "from IPython.core.display import HTML\n",
    "from datascience import *\n",
    "\n",
    "import matplotlib\n",
    "matplotlib.use('Agg')\n",
    "%matplotlib inline\n",
    "import matplotlib.pyplot as plt\n",
    "import numpy as np\n",
    "import os\n",
    "plt.style.use('fivethirtyeight')\n",
    "\n",
    "import pandas as pd\n",
    "import zipfile\n",
    "import io\n",
    "import math\n",
    "\n",
    "def css_styling():\n",
    "    styles = open('../notebook_styles.css', 'r').read()\n",
    "    return HTML(styles)\n",
    "css_styling()"
   ]
  },
  {
   "cell_type": "code",
   "execution_count": 2,
   "metadata": {},
   "outputs": [
    {
     "name": "stdout",
     "output_type": "stream",
     "text": [
      "=====================================================================\n",
      "Assignment: L&S88-02: Hwk 04\n",
      "OK, version v1.12.5\n",
      "=====================================================================\n",
      "\n",
      "Successfully logged in as feehan@berkeley.edu\n"
     ]
    }
   ],
   "source": [
    "#Loading testing data\n",
    "from client.api.notebook import Notebook \n",
    "hwk04 = Notebook('hwk04.ok')\n",
    "_ = hwk04.auth(inline=True)"
   ]
  },
  {
   "cell_type": "markdown",
   "metadata": {},
   "source": [
    "# Hwk 04"
   ]
  },
  {
   "cell_type": "markdown",
   "metadata": {},
   "source": [
    "## Part I: Population growth and changes in mortality and fertility"
   ]
  },
  {
   "cell_type": "markdown",
   "metadata": {},
   "source": [
    "In Labs 05 and 06, we took a look at formal demography and population projections.  We discovered, among other things, that both fertility and mortality can affect the intrinsic growth rate: when fertility increases, the growth rate increases; and, when mortality decreases, the growth rate increases.\n",
    "\n",
    "In this part of the homework, we're going to (1) be sure we understand what different growth rates imply about population size over time; and (2) use the tools we developed in class to understand the relative importance of changes in fertility and mortality. In other words, we're going to try to determine which one makes a bigger difference to the growth rate."
   ]
  },
  {
   "cell_type": "markdown",
   "metadata": {},
   "source": [
    "As we did in Lab 6, we'll load the `leslie` module to make use of the various population projection functions."
   ]
  },
  {
   "cell_type": "code",
   "execution_count": 3,
   "metadata": {},
   "outputs": [],
   "source": [
    "import leslie"
   ]
  },
  {
   "cell_type": "markdown",
   "metadata": {},
   "source": [
    "We have added a new function, called `build_leslie_matrix`, to the `leslie` module. `build_leslie_matrix` takes two arguments:\n",
    "\n",
    "* `lt`, the first argument, is a lifetable, such as would be returned by the function `get_lt`\n",
    "* `asfr`, the second argument, is a set of age-specific fertility rates, such as would be returned by the function `get_asfr`"
   ]
  },
  {
   "cell_type": "markdown",
   "metadata": {},
   "source": [
    "Here is an example of `build_leslie_matrix` in action. The following code makes a Leslie matrix using (1) death rates for 1990 France (i.e. the 1990 France life table); and (2) fertility rates for 2000 Italy."
   ]
  },
  {
   "cell_type": "code",
   "execution_count": 4,
   "metadata": {},
   "outputs": [
    {
     "data": {
      "text/plain": [
       "(17, 17)"
      ]
     },
     "execution_count": 4,
     "metadata": {},
     "output_type": "execute_result"
    }
   ],
   "source": [
    "demo_lt = leslie.get_lt('France', 1990)\n",
    "demo_asfr = leslie.get_asfr('Italy', 2000)\n",
    "\n",
    "demo_lm = leslie.build_leslie_matrix(demo_lt, demo_asfr)\n",
    "demo_lm.shape"
   ]
  },
  {
   "cell_type": "markdown",
   "metadata": {},
   "source": [
    "You'll remember that before we've only made Leslie matrices based on the real-world experience of a particular country in a particular year. The nice thing about `build_leslie_matrix` is that we can give it any life table and fertility data we like -- we're not restricted to fertility and mortality that actually happened.\n",
    "\n",
    "What we're going to do now is to learn about whether changes in mortality or fertility have a bigger impact on the growth rate by constructing Leslie matrices for (i) a baseline scenario; (ii) fertility rates that are increased by 10%; (iii) mortality rates that are decreased by 10%. (We will look at mortality decreases and fertility increases since both with push the growth rate up, leading to more population growth.)"
   ]
  },
  {
   "cell_type": "markdown",
   "metadata": {},
   "source": [
    "## What affects the growth rate more: mortality or fertility?"
   ]
  },
  {
   "cell_type": "markdown",
   "metadata": {},
   "source": [
    "**Question - Grab the life tables and the fertility rates for 1990 Uganda and use `build_leslie_matrix` to make a Leslie matrix out of them.**"
   ]
  },
  {
   "cell_type": "code",
   "execution_count": null,
   "metadata": {},
   "outputs": [],
   "source": [
    "...\n",
    "...\n",
    "\n",
    "uganda_90_lm = leslie.build_leslie_matrix(..., ...)\n",
    "uganda_90_lm"
   ]
  },
  {
   "cell_type": "code",
   "execution_count": 18,
   "metadata": {},
   "outputs": [
    {
     "name": "stdout",
     "output_type": "stream",
     "text": [
      "~~~~~~~~~~~~~~~~~~~~~~~~~~~~~~~~~~~~~~~~~~~~~~~~~~~~~~~~~~~~~~~~~~~~~\n",
      "Running tests\n",
      "\n",
      "---------------------------------------------------------------------\n",
      "Test summary\n",
      "    Passed: 2\n",
      "    Failed: 0\n",
      "[ooooooooook] 100.0% passed\n",
      "\n"
     ]
    }
   ],
   "source": [
    "_ = hwk04.grade('test_uganda_lm')"
   ]
  },
  {
   "cell_type": "markdown",
   "metadata": {},
   "source": [
    "**Question - calculate the growth rate associated with the Leslie matrix you just created?**   \n",
    "*[HINT: the `leslie` package has a function called `get_growth_rate` based on the one you used in Lab 05]*."
   ]
  },
  {
   "cell_type": "code",
   "execution_count": null,
   "metadata": {},
   "outputs": [],
   "source": [
    "uganda_90_r = ...\n",
    "uganda_90_r"
   ]
  },
  {
   "cell_type": "code",
   "execution_count": 24,
   "metadata": {},
   "outputs": [
    {
     "name": "stdout",
     "output_type": "stream",
     "text": [
      "~~~~~~~~~~~~~~~~~~~~~~~~~~~~~~~~~~~~~~~~~~~~~~~~~~~~~~~~~~~~~~~~~~~~~\n",
      "Running tests\n",
      "\n",
      "---------------------------------------------------------------------\n",
      "Test summary\n",
      "    Passed: 1\n",
      "    Failed: 0\n",
      "[ooooooooook] 100.0% passed\n",
      "\n"
     ]
    }
   ],
   "source": [
    "_ = hwk04.grade('test_uganda_r')"
   ]
  },
  {
   "cell_type": "markdown",
   "metadata": {},
   "source": [
    "**Question - Does the growth rate you just calculated imply (a) long-term population growth; (b) no long-term population change; or (c) long-term population decline?**"
   ]
  },
  {
   "cell_type": "markdown",
   "metadata": {},
   "source": [
    "[ANSWER HERE]"
   ]
  },
  {
   "cell_type": "markdown",
   "metadata": {},
   "source": [
    "Great - so we have our baseline scenario. Now we'll investigate whether the growth rate gets changed more by increasing birth rates by 10 percent, or by lowering death rates by 10 percent."
   ]
  },
  {
   "cell_type": "markdown",
   "metadata": {},
   "source": [
    "**Question - Make a copy of the 1990 Uganda age-specific fertility rate data and then change the fertility rates (the `asfr` column) to make them 10% higher.**   "
   ]
  },
  {
   "cell_type": "code",
   "execution_count": null,
   "metadata": {},
   "outputs": [],
   "source": [
    "uganda_90_high_asfr = uganda_90_asfr.copy()\n",
    "uganda_90_high_asfr = ...\n",
    "uganda_90_high_asfr"
   ]
  },
  {
   "cell_type": "code",
   "execution_count": 36,
   "metadata": {},
   "outputs": [
    {
     "name": "stdout",
     "output_type": "stream",
     "text": [
      "~~~~~~~~~~~~~~~~~~~~~~~~~~~~~~~~~~~~~~~~~~~~~~~~~~~~~~~~~~~~~~~~~~~~~\n",
      "Running tests\n",
      "\n",
      "---------------------------------------------------------------------\n",
      "Test summary\n",
      "    Passed: 1\n",
      "    Failed: 0\n",
      "[ooooooooook] 100.0% passed\n",
      "\n"
     ]
    }
   ],
   "source": [
    "_ = hwk04.grade('test_uganda_high_asfr')"
   ]
  },
  {
   "cell_type": "markdown",
   "metadata": {},
   "source": [
    "**Question - Make a Leslie matrix out of the increased Uganda ASFRs and Uganda's 1990 life table.**"
   ]
  },
  {
   "cell_type": "code",
   "execution_count": null,
   "metadata": {},
   "outputs": [],
   "source": [
    "uganda_high_fert_lm = ...\n",
    "uganda_high_fert_lm"
   ]
  },
  {
   "cell_type": "code",
   "execution_count": 43,
   "metadata": {},
   "outputs": [
    {
     "name": "stdout",
     "output_type": "stream",
     "text": [
      "~~~~~~~~~~~~~~~~~~~~~~~~~~~~~~~~~~~~~~~~~~~~~~~~~~~~~~~~~~~~~~~~~~~~~\n",
      "Running tests\n",
      "\n",
      "---------------------------------------------------------------------\n",
      "Test summary\n",
      "    Passed: 2\n",
      "    Failed: 0\n",
      "[ooooooooook] 100.0% passed\n",
      "\n"
     ]
    }
   ],
   "source": [
    "_ = hwk04.grade('test_uganda_high_asfr_lm')"
   ]
  },
  {
   "cell_type": "markdown",
   "metadata": {},
   "source": [
    "**Question - Now calculate the growth rate that results from increasing fertility rates by 10 percent.**"
   ]
  },
  {
   "cell_type": "code",
   "execution_count": null,
   "metadata": {},
   "outputs": [],
   "source": [
    "uganda_high_fert_r = ...\n",
    "uganda_high_fert_r"
   ]
  },
  {
   "cell_type": "code",
   "execution_count": 45,
   "metadata": {},
   "outputs": [
    {
     "name": "stdout",
     "output_type": "stream",
     "text": [
      "=====================================================================\n",
      "Assignment: L&S88-02: Hwk 04\n",
      "OK, version v1.12.5\n",
      "=====================================================================\n",
      "\n",
      "Successfully logged in as feehan@berkeley.edu\n",
      "~~~~~~~~~~~~~~~~~~~~~~~~~~~~~~~~~~~~~~~~~~~~~~~~~~~~~~~~~~~~~~~~~~~~~\n",
      "Running tests\n",
      "\n",
      "---------------------------------------------------------------------\n",
      "Test summary\n",
      "    Passed: 1\n",
      "    Failed: 0\n",
      "[ooooooooook] 100.0% passed\n",
      "\n"
     ]
    }
   ],
   "source": [
    "_ = hwk04.grade('test_uganda_high_fert_r')"
   ]
  },
  {
   "cell_type": "markdown",
   "metadata": {},
   "source": [
    "Now we'll turn to the final scenario, in which death rates are reduced by 10%.  This is a bit more complex than changing fertility rates: in the life table, when death rates change, that causes all of the other columns to change as well. So we've written a function that will take a life table and change the death rates (and all of the other columns) for you:"
   ]
  },
  {
   "cell_type": "code",
   "execution_count": 46,
   "metadata": {},
   "outputs": [
    {
     "data": {
      "text/html": [
       "<table border=\"1\" class=\"dataframe\">\n",
       "    <thead>\n",
       "        <tr>\n",
       "            <th>row</th> <th>variant</th> <th>area</th> <th>notes</th> <th>country_code</th> <th>period</th> <th>age</th> <th>age_interval_width</th> <th>death_rate</th> <th>q</th> <th>p</th> <th>l</th> <th>d</th> <th>L</th> <th>S</th> <th>T</th> <th>e</th> <th>a</th> <th>sex</th>\n",
       "        </tr>\n",
       "    </thead>\n",
       "    <tbody>\n",
       "        <tr>\n",
       "            <td>59148</td> <td>Estimates</td> <td>Canada</td> <td>nan  </td> <td>124         </td> <td>2015  </td> <td>0   </td> <td>1                 </td> <td>0.0047751 </td> <td>0.00475383 </td> <td>0.995246</td> <td>100000 </td> <td>475.383</td> <td>99554.6</td> <td>0.995446</td> <td>8.2704e+06 </td> <td>82.704 </td> <td>0.0629702</td> <td>female</td>\n",
       "        </tr>\n",
       "        <tr>\n",
       "            <td>59149</td> <td>Estimates</td> <td>Canada</td> <td>nan  </td> <td>124         </td> <td>2015  </td> <td>1   </td> <td>4                 </td> <td>0.0001584 </td> <td>0.000633351</td> <td>0.999367</td> <td>99524.6</td> <td>63.034 </td> <td>397942 </td> <td>0.99947 </td> <td>7.90683e+06</td> <td>79.446 </td> <td>1.51697  </td> <td>female</td>\n",
       "        </tr>\n",
       "        <tr>\n",
       "            <td>59150</td> <td>Estimates</td> <td>Canada</td> <td>nan  </td> <td>124         </td> <td>2015  </td> <td>5   </td> <td>5                 </td> <td>8.14e-05  </td> <td>0.000406917</td> <td>0.999593</td> <td>99461.6</td> <td>40.4726</td> <td>497207 </td> <td>0.99958 </td> <td>7.59645e+06</td> <td>76.3757</td> <td>2.5      </td> <td>female</td>\n",
       "        </tr>\n",
       "        <tr>\n",
       "            <td>59151</td> <td>Estimates</td> <td>Canada</td> <td>nan  </td> <td>124         </td> <td>2015  </td> <td>10  </td> <td>5                 </td> <td>0.0001034 </td> <td>0.000516866</td> <td>0.999483</td> <td>99421.1</td> <td>51.3874</td> <td>496977 </td> <td>0.999229</td> <td>7.22263e+06</td> <td>72.6469</td> <td>2.5      </td> <td>female</td>\n",
       "        </tr>\n",
       "        <tr>\n",
       "            <td>59152</td> <td>Estimates</td> <td>Canada</td> <td>nan  </td> <td>124         </td> <td>2015  </td> <td>15  </td> <td>5                 </td> <td>0.0002607 </td> <td>0.00130273 </td> <td>0.998697</td> <td>99369.7</td> <td>129.452</td> <td>496556 </td> <td>0.998634</td> <td>6.80645e+06</td> <td>68.4962</td> <td>2.73707  </td> <td>female</td>\n",
       "        </tr>\n",
       "        <tr>\n",
       "            <td>59153</td> <td>Estimates</td> <td>Canada</td> <td>nan  </td> <td>124         </td> <td>2015  </td> <td>20  </td> <td>5                 </td> <td>0.0003234 </td> <td>0.00161572 </td> <td>0.998384</td> <td>99240.3</td> <td>160.345</td> <td>495809 </td> <td>0.998497</td> <td>6.36238e+06</td> <td>64.1109</td> <td>2.55533  </td> <td>female</td>\n",
       "        </tr>\n",
       "        <tr>\n",
       "            <td>59154</td> <td>Estimates</td> <td>Canada</td> <td>nan  </td> <td>124         </td> <td>2015  </td> <td>25  </td> <td>5                 </td> <td>0.000341  </td> <td>0.00170359 </td> <td>0.998296</td> <td>99079.9</td> <td>168.791</td> <td>494990 </td> <td>0.998222</td> <td>5.90014e+06</td> <td>59.5493</td> <td>2.57117  </td> <td>female</td>\n",
       "        </tr>\n",
       "        <tr>\n",
       "            <td>59155</td> <td>Estimates</td> <td>Canada</td> <td>nan  </td> <td>124         </td> <td>2015  </td> <td>30  </td> <td>5                 </td> <td>0.0004565 </td> <td>0.00228003 </td> <td>0.99772 </td> <td>98911.1</td> <td>225.521</td> <td>494021 </td> <td>0.997549</td> <td>5.42601e+06</td> <td>54.8574</td> <td>2.63108  </td> <td>female</td>\n",
       "        </tr>\n",
       "        <tr>\n",
       "            <td>59156</td> <td>Estimates</td> <td>Canada</td> <td>nan  </td> <td>124         </td> <td>2015  </td> <td>35  </td> <td>5                 </td> <td>0.0006424 </td> <td>0.00320719 </td> <td>0.996793</td> <td>98685.6</td> <td>316.504</td> <td>492690 </td> <td>0.996312</td> <td>4.94387e+06</td> <td>50.0971</td> <td>2.66689  </td> <td>female</td>\n",
       "        </tr>\n",
       "        <tr>\n",
       "            <td>59157</td> <td>Estimates</td> <td>Canada</td> <td>nan  </td> <td>124         </td> <td>2015  </td> <td>40  </td> <td>5                 </td> <td>0.001023  </td> <td>0.005103   </td> <td>0.994897</td> <td>98369.1</td> <td>501.977</td> <td>490692 </td> <td>0.993952</td> <td>4.45644e+06</td> <td>45.3032</td> <td>2.70101  </td> <td>female</td>\n",
       "        </tr>\n",
       "    </tbody>\n",
       "</table>\n",
       "<p>... (9 rows omitted)</p>"
      ],
      "text/plain": [
       "row   | variant   | area   | notes | country_code | period | age  | age_interval_width | death_rate | q           | p        | l       | d       | L       | S        | T           | e       | a         | sex\n",
       "59148 | Estimates | Canada | nan   | 124          | 2015   | 0    | 1                  | 0.0047751  | 0.00475383  | 0.995246 | 100000  | 475.383 | 99554.6 | 0.995446 | 8.2704e+06  | 82.704  | 0.0629702 | female\n",
       "59149 | Estimates | Canada | nan   | 124          | 2015   | 1    | 4                  | 0.0001584  | 0.000633351 | 0.999367 | 99524.6 | 63.034  | 397942  | 0.99947  | 7.90683e+06 | 79.446  | 1.51697   | female\n",
       "59150 | Estimates | Canada | nan   | 124          | 2015   | 5    | 5                  | 8.14e-05   | 0.000406917 | 0.999593 | 99461.6 | 40.4726 | 497207  | 0.99958  | 7.59645e+06 | 76.3757 | 2.5       | female\n",
       "59151 | Estimates | Canada | nan   | 124          | 2015   | 10   | 5                  | 0.0001034  | 0.000516866 | 0.999483 | 99421.1 | 51.3874 | 496977  | 0.999229 | 7.22263e+06 | 72.6469 | 2.5       | female\n",
       "59152 | Estimates | Canada | nan   | 124          | 2015   | 15   | 5                  | 0.0002607  | 0.00130273  | 0.998697 | 99369.7 | 129.452 | 496556  | 0.998634 | 6.80645e+06 | 68.4962 | 2.73707   | female\n",
       "59153 | Estimates | Canada | nan   | 124          | 2015   | 20   | 5                  | 0.0003234  | 0.00161572  | 0.998384 | 99240.3 | 160.345 | 495809  | 0.998497 | 6.36238e+06 | 64.1109 | 2.55533   | female\n",
       "59154 | Estimates | Canada | nan   | 124          | 2015   | 25   | 5                  | 0.000341   | 0.00170359  | 0.998296 | 99079.9 | 168.791 | 494990  | 0.998222 | 5.90014e+06 | 59.5493 | 2.57117   | female\n",
       "59155 | Estimates | Canada | nan   | 124          | 2015   | 30   | 5                  | 0.0004565  | 0.00228003  | 0.99772  | 98911.1 | 225.521 | 494021  | 0.997549 | 5.42601e+06 | 54.8574 | 2.63108   | female\n",
       "59156 | Estimates | Canada | nan   | 124          | 2015   | 35   | 5                  | 0.0006424  | 0.00320719  | 0.996793 | 98685.6 | 316.504 | 492690  | 0.996312 | 4.94387e+06 | 50.0971 | 2.66689   | female\n",
       "59157 | Estimates | Canada | nan   | 124          | 2015   | 40   | 5                  | 0.001023   | 0.005103    | 0.994897 | 98369.1 | 501.977 | 490692  | 0.993952 | 4.45644e+06 | 45.3032 | 2.70101   | female\n",
       "... (9 rows omitted)"
      ]
     },
     "execution_count": 46,
     "metadata": {},
     "output_type": "execute_result"
    }
   ],
   "source": [
    "def change_lt_death_rates(lt, change, radix=100000):\n",
    "    \"\"\"\n",
    "    Given a life table `lt`, such as would be returned by `get_lt()`,\n",
    "    change the death rates by multiplying them by `change`\n",
    "    \"\"\"\n",
    "    \n",
    "    ## NOTE: this function assumes the a column does not change\n",
    "    ## this is an approximation - a better approach would use graduation\n",
    "    \n",
    "    new_lt = lt.copy()\n",
    "\n",
    "    # update m\n",
    "    new_lt['death_rate'] = new_lt['death_rate'] * change\n",
    "\n",
    "    # update q, assuming a stays the same (an approximation!)\n",
    "    new_lt['q'] = (new_lt['age_interval_width']*new_lt['death_rate']) / \\\n",
    "                  (1 + (new_lt['age_interval_width'] - new_lt['a'])*new_lt['death_rate'])\n",
    "    new_lt['q'][-1] = 0\n",
    "\n",
    "    new_lt['p'] = 1 - new_lt['q']\n",
    "\n",
    "    new_lt['l'][0] = radix\n",
    "\n",
    "    for i in np.arange(start=1, stop=new_lt.num_rows):\n",
    "        new_lt['l'][i] = new_lt['l'][i-1] * new_lt['p'][i-1]\n",
    "\n",
    "    new_lt['d'] = np.append(new_lt['l'][:-1] - new_lt['l'][1:], new_lt['l'][-1])\n",
    "\n",
    "    new_lt['L'] = np.append((new_lt['l'][1:]*new_lt['age_interval_width'][:-1]) + \\\n",
    "                                (new_lt['d'][:-1]*new_lt['a'][:-1]),\\\n",
    "                                new_lt['l'][-1]/new_lt['death_rate'][-1])\n",
    "    \n",
    "    new_lt['T'] = np.flip(np.cumsum(new_lt['L']), axis=0)\n",
    "    \n",
    "    new_lt['e'] = new_lt['T']/new_lt['l']\n",
    "    \n",
    "    return(new_lt)\n",
    "\n",
    "## EXAMPLE: increase death rates for 2015 Canada by 10%\n",
    "new_canada_lt = change_lt_death_rates(leslie.get_lt('Canada', 2015), 1.1)\n",
    "new_canada_lt"
   ]
  },
  {
   "cell_type": "markdown",
   "metadata": {},
   "source": [
    "**Question - Use `change_lt_death_rates` to produce a new lifetable with Uganda's 1990 death rates decreased by 10%.**"
   ]
  },
  {
   "cell_type": "code",
   "execution_count": null,
   "metadata": {},
   "outputs": [],
   "source": [
    "uganda_90_low_mort = ...\n",
    "uganda_90_low_mort"
   ]
  },
  {
   "cell_type": "code",
   "execution_count": 53,
   "metadata": {},
   "outputs": [
    {
     "name": "stdout",
     "output_type": "stream",
     "text": [
      "=====================================================================\n",
      "Assignment: L&S88-02: Hwk 04\n",
      "OK, version v1.12.5\n",
      "=====================================================================\n",
      "\n",
      "Successfully logged in as feehan@berkeley.edu\n",
      "~~~~~~~~~~~~~~~~~~~~~~~~~~~~~~~~~~~~~~~~~~~~~~~~~~~~~~~~~~~~~~~~~~~~~\n",
      "Running tests\n",
      "\n",
      "---------------------------------------------------------------------\n",
      "Test summary\n",
      "    Passed: 1\n",
      "    Failed: 0\n",
      "[ooooooooook] 100.0% passed\n",
      "\n"
     ]
    }
   ],
   "source": [
    "_ = hwk04.grade('test_uganda_low_mort_lt')"
   ]
  },
  {
   "cell_type": "markdown",
   "metadata": {},
   "source": [
    "**Question - Make a Leslie matrix out of the decreased death rates and Uganda's 1990 fertility rates.**"
   ]
  },
  {
   "cell_type": "code",
   "execution_count": null,
   "metadata": {},
   "outputs": [],
   "source": [
    "uganda_low_mort_lm = ...\n",
    "uganda_low_mort_lm"
   ]
  },
  {
   "cell_type": "code",
   "execution_count": 57,
   "metadata": {},
   "outputs": [
    {
     "name": "stdout",
     "output_type": "stream",
     "text": [
      "=====================================================================\n",
      "Assignment: L&S88-02: Hwk 04\n",
      "OK, version v1.12.5\n",
      "=====================================================================\n",
      "\n",
      "Successfully logged in as feehan@berkeley.edu\n",
      "~~~~~~~~~~~~~~~~~~~~~~~~~~~~~~~~~~~~~~~~~~~~~~~~~~~~~~~~~~~~~~~~~~~~~\n",
      "Running tests\n",
      "\n",
      "---------------------------------------------------------------------\n",
      "Test summary\n",
      "    Passed: 2\n",
      "    Failed: 0\n",
      "[ooooooooook] 100.0% passed\n",
      "\n"
     ]
    }
   ],
   "source": [
    "_ = hwk04.grade('test_uganda_low_mort_lm')"
   ]
  },
  {
   "cell_type": "markdown",
   "metadata": {},
   "source": [
    "**Question - what is the growth rate that results from reducing fertility rates by 10 percent?**"
   ]
  },
  {
   "cell_type": "code",
   "execution_count": null,
   "metadata": {},
   "outputs": [],
   "source": [
    "uganda_low_mort_r = ...\n",
    "uganda_low_mort_r"
   ]
  },
  {
   "cell_type": "code",
   "execution_count": 59,
   "metadata": {},
   "outputs": [
    {
     "name": "stdout",
     "output_type": "stream",
     "text": [
      "=====================================================================\n",
      "Assignment: L&S88-02: Hwk 04\n",
      "OK, version v1.12.5\n",
      "=====================================================================\n",
      "\n",
      "Successfully logged in as feehan@berkeley.edu\n",
      "~~~~~~~~~~~~~~~~~~~~~~~~~~~~~~~~~~~~~~~~~~~~~~~~~~~~~~~~~~~~~~~~~~~~~\n",
      "Running tests\n",
      "\n",
      "---------------------------------------------------------------------\n",
      "Test summary\n",
      "    Passed: 1\n",
      "    Failed: 0\n",
      "[ooooooooook] 100.0% passed\n",
      "\n"
     ]
    }
   ],
   "source": [
    "_ = hwk04.grade('test_uganda_low_mort_r')"
   ]
  },
  {
   "cell_type": "markdown",
   "metadata": {},
   "source": [
    "**Question - what made a bigger difference to the growth rate: reducing mortality rates or increasing fertility rates?**"
   ]
  },
  {
   "cell_type": "markdown",
   "metadata": {},
   "source": [
    "[ANSWER HERE]"
   ]
  },
  {
   "cell_type": "markdown",
   "metadata": {},
   "source": [
    "## Part II: Synthesizing in- and out-migration"
   ]
  },
  {
   "cell_type": "markdown",
   "metadata": {},
   "source": [
    "In Lab 07, we looked at migration within the United States. We came up with two ways to measure migration for a particular county: the in-migration rate and the out-migration rate.\n",
    "\n",
    "In this part of the homework, we're going to extend this analysis by trying to synthesize in-migration and out-migration for a given county.\n",
    "\n",
    "I've created a library that has the code that we developed in Lab 07 for convenience; it's called `mig`. Let's load it now:"
   ]
  },
  {
   "cell_type": "code",
   "execution_count": 60,
   "metadata": {},
   "outputs": [
    {
     "name": "stderr",
     "output_type": "stream",
     "text": [
      "//anaconda/lib/python3.5/site-packages/matplotlib/__init__.py:1405: UserWarning: \n",
      "This call to matplotlib.use() has no effect because the backend has already\n",
      "been chosen; matplotlib.use() must be called *before* pylab, matplotlib.pyplot,\n",
      "or matplotlib.backends is imported for the first time.\n",
      "\n",
      "  warnings.warn(_use_error_msg)\n"
     ]
    }
   ],
   "source": [
    "import mig"
   ]
  },
  {
   "cell_type": "markdown",
   "metadata": {},
   "source": [
    "(Don't worry if you get a warrning and some red text from matplotlib.)   \n",
    "The `mig` library has the `map_counties` function, which we'll use a little later."
   ]
  },
  {
   "cell_type": "markdown",
   "metadata": {},
   "source": [
    "In Lab 07, we made `in_migrants` and `out_migrants` Tables. We saved versions of these files to avoid having to repeat all of the analysis from Lab 07 for this homework. Let's load the files now:"
   ]
  },
  {
   "cell_type": "code",
   "execution_count": 61,
   "metadata": {},
   "outputs": [
    {
     "data": {
      "text/html": [
       "<table border=\"1\" class=\"dataframe\">\n",
       "    <thead>\n",
       "        <tr>\n",
       "            <th>fips</th> <th>num_out_migrants</th> <th>county_name</th> <th>state</th> <th>pop_2015</th> <th>omr</th>\n",
       "        </tr>\n",
       "    </thead>\n",
       "    <tbody>\n",
       "        <tr>\n",
       "            <td>1001</td> <td>1542            </td> <td>Autauga County </td> <td>AL   </td> <td>54838   </td> <td>0.0281192 </td>\n",
       "        </tr>\n",
       "        <tr>\n",
       "            <td>1003</td> <td>2823            </td> <td>Baldwin County </td> <td>AL   </td> <td>202863  </td> <td>0.0139158 </td>\n",
       "        </tr>\n",
       "        <tr>\n",
       "            <td>1005</td> <td>318             </td> <td>Barbour County </td> <td>AL   </td> <td>26264   </td> <td>0.0121078 </td>\n",
       "        </tr>\n",
       "        <tr>\n",
       "            <td>1007</td> <td>464             </td> <td>Bibb County    </td> <td>AL   </td> <td>22561   </td> <td>0.0205665 </td>\n",
       "        </tr>\n",
       "        <tr>\n",
       "            <td>1009</td> <td>1444            </td> <td>Blount County  </td> <td>AL   </td> <td>57590   </td> <td>0.0250738 </td>\n",
       "        </tr>\n",
       "        <tr>\n",
       "            <td>1011</td> <td>120             </td> <td>Bullock County </td> <td>AL   </td> <td>10419   </td> <td>0.0115174 </td>\n",
       "        </tr>\n",
       "        <tr>\n",
       "            <td>1013</td> <td>179             </td> <td>Butler County  </td> <td>AL   </td> <td>20141   </td> <td>0.00888734</td>\n",
       "        </tr>\n",
       "        <tr>\n",
       "            <td>1015</td> <td>2091            </td> <td>Calhoun County </td> <td>AL   </td> <td>115505  </td> <td>0.0181031 </td>\n",
       "        </tr>\n",
       "        <tr>\n",
       "            <td>1017</td> <td>962             </td> <td>Chambers County</td> <td>AL   </td> <td>33968   </td> <td>0.0283208 </td>\n",
       "        </tr>\n",
       "        <tr>\n",
       "            <td>1019</td> <td>421             </td> <td>Cherokee County</td> <td>AL   </td> <td>25741   </td> <td>0.0163552 </td>\n",
       "        </tr>\n",
       "    </tbody>\n",
       "</table>\n",
       "<p>... (2661 rows omitted)</p>"
      ],
      "text/plain": [
       "fips | num_out_migrants | county_name     | state | pop_2015 | omr\n",
       "1001 | 1542             | Autauga County  | AL    | 54838    | 0.0281192\n",
       "1003 | 2823             | Baldwin County  | AL    | 202863   | 0.0139158\n",
       "1005 | 318              | Barbour County  | AL    | 26264    | 0.0121078\n",
       "1007 | 464              | Bibb County     | AL    | 22561    | 0.0205665\n",
       "1009 | 1444             | Blount County   | AL    | 57590    | 0.0250738\n",
       "1011 | 120              | Bullock County  | AL    | 10419    | 0.0115174\n",
       "1013 | 179              | Butler County   | AL    | 20141    | 0.00888734\n",
       "1015 | 2091             | Calhoun County  | AL    | 115505   | 0.0181031\n",
       "1017 | 962              | Chambers County | AL    | 33968    | 0.0283208\n",
       "1019 | 421              | Cherokee County | AL    | 25741    | 0.0163552\n",
       "... (2661 rows omitted)"
      ]
     },
     "execution_count": 61,
     "metadata": {},
     "output_type": "execute_result"
    }
   ],
   "source": [
    "out_migrants = Table.read_table('out_migrants.csv')\n",
    "out_migrants"
   ]
  },
  {
   "cell_type": "code",
   "execution_count": 62,
   "metadata": {},
   "outputs": [
    {
     "data": {
      "text/html": [
       "<table border=\"1\" class=\"dataframe\">\n",
       "    <thead>\n",
       "        <tr>\n",
       "            <th>fips</th> <th>num_in_migrants</th> <th>county_name</th> <th>state</th> <th>pop_2015</th> <th>imr</th>\n",
       "        </tr>\n",
       "    </thead>\n",
       "    <tbody>\n",
       "        <tr>\n",
       "            <td>1001</td> <td>1794           </td> <td>Autauga County </td> <td>AL   </td> <td>54838   </td> <td>0.0327145 </td>\n",
       "        </tr>\n",
       "        <tr>\n",
       "            <td>1003</td> <td>3521           </td> <td>Baldwin County </td> <td>AL   </td> <td>202863  </td> <td>0.0173565 </td>\n",
       "        </tr>\n",
       "        <tr>\n",
       "            <td>1005</td> <td>294            </td> <td>Barbour County </td> <td>AL   </td> <td>26264   </td> <td>0.011194  </td>\n",
       "        </tr>\n",
       "        <tr>\n",
       "            <td>1007</td> <td>494            </td> <td>Bibb County    </td> <td>AL   </td> <td>22561   </td> <td>0.0218962 </td>\n",
       "        </tr>\n",
       "        <tr>\n",
       "            <td>1009</td> <td>1501           </td> <td>Blount County  </td> <td>AL   </td> <td>57590   </td> <td>0.0260636 </td>\n",
       "        </tr>\n",
       "        <tr>\n",
       "            <td>1011</td> <td>61             </td> <td>Bullock County </td> <td>AL   </td> <td>10419   </td> <td>0.00585469</td>\n",
       "        </tr>\n",
       "        <tr>\n",
       "            <td>1013</td> <td>150            </td> <td>Butler County  </td> <td>AL   </td> <td>20141   </td> <td>0.0074475 </td>\n",
       "        </tr>\n",
       "        <tr>\n",
       "            <td>1015</td> <td>1794           </td> <td>Calhoun County </td> <td>AL   </td> <td>115505  </td> <td>0.0155318 </td>\n",
       "        </tr>\n",
       "        <tr>\n",
       "            <td>1017</td> <td>921            </td> <td>Chambers County</td> <td>AL   </td> <td>33968   </td> <td>0.0271138 </td>\n",
       "        </tr>\n",
       "        <tr>\n",
       "            <td>1019</td> <td>438            </td> <td>Cherokee County</td> <td>AL   </td> <td>25741   </td> <td>0.0170157 </td>\n",
       "        </tr>\n",
       "    </tbody>\n",
       "</table>\n",
       "<p>... (2685 rows omitted)</p>"
      ],
      "text/plain": [
       "fips | num_in_migrants | county_name     | state | pop_2015 | imr\n",
       "1001 | 1794            | Autauga County  | AL    | 54838    | 0.0327145\n",
       "1003 | 3521            | Baldwin County  | AL    | 202863   | 0.0173565\n",
       "1005 | 294             | Barbour County  | AL    | 26264    | 0.011194\n",
       "1007 | 494             | Bibb County     | AL    | 22561    | 0.0218962\n",
       "1009 | 1501            | Blount County   | AL    | 57590    | 0.0260636\n",
       "1011 | 61              | Bullock County  | AL    | 10419    | 0.00585469\n",
       "1013 | 150             | Butler County   | AL    | 20141    | 0.0074475\n",
       "1015 | 1794            | Calhoun County  | AL    | 115505   | 0.0155318\n",
       "1017 | 921             | Chambers County | AL    | 33968    | 0.0271138\n",
       "1019 | 438             | Cherokee County | AL    | 25741    | 0.0170157\n",
       "... (2685 rows omitted)"
      ]
     },
     "execution_count": 62,
     "metadata": {},
     "output_type": "execute_result"
    }
   ],
   "source": [
    "in_migrants = Table.read_table('in_migrants.csv')\n",
    "in_migrants"
   ]
  },
  {
   "cell_type": "markdown",
   "metadata": {},
   "source": [
    "Recall that, for out migrants, `omr` is the out migration rate and for in-migrants, `imr` is the in-migration rate."
   ]
  },
  {
   "cell_type": "markdown",
   "metadata": {},
   "source": [
    "### Net migration rates"
   ]
  },
  {
   "cell_type": "markdown",
   "metadata": {},
   "source": [
    "One way to synthesize in- and out-migration rates is to define a *net migration rate*:\n",
    "\n",
    "$$\n",
    "\\text{Net-Migration Rate (NMR)} = \\frac{\\text{# people moving into county} - \\text{# people moving out of county}}{\\text{# people in county}}.\n",
    "$$\n",
    "\n",
    "(You'll notice that this is also equal to the in-migration rate minus the out-migration rate.)\n",
    "\n",
    "The net migration rate is helpful because it tells us whether, overall, migration is increasing or decreasing the county population. Counties with a negative net migration rate are losing residents, while counties with a positive net migration rate are gaining residents.\n"
   ]
  },
  {
   "cell_type": "markdown",
   "metadata": {},
   "source": [
    "**Question - Join the `out_migrants` and `in_migrants` tables together to produce a table that has `omr` and `imr` for each county.**"
   ]
  },
  {
   "cell_type": "code",
   "execution_count": null,
   "metadata": {},
   "outputs": [],
   "source": [
    "net_migrants = ...\n",
    "net_migrants"
   ]
  },
  {
   "cell_type": "code",
   "execution_count": 70,
   "metadata": {},
   "outputs": [
    {
     "name": "stdout",
     "output_type": "stream",
     "text": [
      "~~~~~~~~~~~~~~~~~~~~~~~~~~~~~~~~~~~~~~~~~~~~~~~~~~~~~~~~~~~~~~~~~~~~~\n",
      "Running tests\n",
      "\n",
      "---------------------------------------------------------------------\n",
      "Test summary\n",
      "    Passed: 2\n",
      "    Failed: 0\n",
      "[ooooooooook] 100.0% passed\n",
      "\n"
     ]
    }
   ],
   "source": [
    "_ = hwk04.grade('test_create_net_migrants')"
   ]
  },
  {
   "cell_type": "markdown",
   "metadata": {},
   "source": [
    "**Question - Add a column to the `net_migrants` table with the net migration rate; you should call the new column `nmr`.**"
   ]
  },
  {
   "cell_type": "code",
   "execution_count": null,
   "metadata": {},
   "outputs": [],
   "source": [
    "net_migrants = ...\n",
    "net_migrants"
   ]
  },
  {
   "cell_type": "code",
   "execution_count": 77,
   "metadata": {},
   "outputs": [
    {
     "name": "stdout",
     "output_type": "stream",
     "text": [
      "=====================================================================\n",
      "Assignment: L&S88-02: Hwk 04\n",
      "OK, version v1.12.5\n",
      "=====================================================================\n",
      "\n",
      "Successfully logged in as feehan@berkeley.edu\n",
      "~~~~~~~~~~~~~~~~~~~~~~~~~~~~~~~~~~~~~~~~~~~~~~~~~~~~~~~~~~~~~~~~~~~~~\n",
      "Running tests\n",
      "\n",
      "---------------------------------------------------------------------\n",
      "Test summary\n",
      "    Passed: 1\n",
      "    Failed: 0\n",
      "[ooooooooook] 100.0% passed\n",
      "\n"
     ]
    }
   ],
   "source": [
    "_ = hwk04.grade('test_nmr')"
   ]
  },
  {
   "cell_type": "markdown",
   "metadata": {},
   "source": [
    "**Question - Make a histogram that shows the distribution of net migration rates across all of the counties in the dataset.**"
   ]
  },
  {
   "cell_type": "code",
   "execution_count": null,
   "metadata": {},
   "outputs": [],
   "source": [
    "..."
   ]
  },
  {
   "cell_type": "markdown",
   "metadata": {},
   "source": [
    "Your histogram should reveal that most counties have net migration rates that are pretty close to zero, and that the distribution is pretty symmetric."
   ]
  },
  {
   "cell_type": "markdown",
   "metadata": {},
   "source": [
    "Now we'll try to understand which countries have high and low net migration rates."
   ]
  },
  {
   "cell_type": "markdown",
   "metadata": {},
   "source": [
    "**Question - which three counties have the lowest net migration rates?**"
   ]
  },
  {
   "cell_type": "code",
   "execution_count": null,
   "metadata": {},
   "outputs": [],
   "source": [
    "..."
   ]
  },
  {
   "cell_type": "markdown",
   "metadata": {},
   "source": [
    "[ANSWER HERE]"
   ]
  },
  {
   "cell_type": "markdown",
   "metadata": {},
   "source": [
    "**Question - which counties have highest net migration rates?**"
   ]
  },
  {
   "cell_type": "code",
   "execution_count": null,
   "metadata": {},
   "outputs": [],
   "source": [
    "..."
   ]
  },
  {
   "cell_type": "markdown",
   "metadata": {},
   "source": [
    "[ANSWER HERE]"
   ]
  },
  {
   "cell_type": "markdown",
   "metadata": {},
   "source": [
    "**Question - Make a scatterplot that compares each county's population (x axis) to its net migration rate (y axis)**"
   ]
  },
  {
   "cell_type": "code",
   "execution_count": null,
   "metadata": {},
   "outputs": [],
   "source": [
    "..."
   ]
  },
  {
   "cell_type": "markdown",
   "metadata": {},
   "source": [
    "**Question - What does the scatterplot lead you to conclude about the relationship between how extreme net migration rates are and the size of each county?**"
   ]
  },
  {
   "cell_type": "markdown",
   "metadata": {},
   "source": [
    "[ANSWER HERE]"
   ]
  },
  {
   "cell_type": "markdown",
   "metadata": {},
   "source": [
    "**Question - Make a map of net migration rates**   \n",
    "*[NOTE: some counties which have little data will not show up on your map]*"
   ]
  },
  {
   "cell_type": "code",
   "execution_count": null,
   "metadata": {},
   "outputs": [],
   "source": [
    "..."
   ]
  },
  {
   "cell_type": "markdown",
   "metadata": {},
   "source": [
    "### Population turnover "
   ]
  },
  {
   "cell_type": "markdown",
   "metadata": {},
   "source": [
    "The net migration rate tells us how in-migration and out-migration balance out to affect population size. But there is another way to synthesize in- and out-migration rates that we will call *population turnover*:\n",
    "\n",
    "$$\n",
    "\\text{Population turnover rate (PTR)} = \\frac{\\text{# people moving into county} + \\text{# people moving out of county}}{\\text{# people in county}}.\n",
    "$$\n",
    "\n",
    "(You'll notice that this is also equal to the in-migration rate plus the out-migration rate.)\n",
    "\n",
    "The population turnover rate tells us how much movement there is into and out of the county, without worrying about whether this movement ends up increasing or decreasing the size of the population."
   ]
  },
  {
   "cell_type": "markdown",
   "metadata": {},
   "source": [
    "**Question - Give an example of a situation in which two counties might have the same net migration rate of 0, but different population turnover rates.**"
   ]
  },
  {
   "cell_type": "markdown",
   "metadata": {},
   "source": [
    "[ANSWER HERE]"
   ]
  },
  {
   "cell_type": "markdown",
   "metadata": {},
   "source": [
    "**Question - Add a new column to your `net_migrants` dataset that has population turnover; call the column `ptr`.**"
   ]
  },
  {
   "cell_type": "code",
   "execution_count": null,
   "metadata": {},
   "outputs": [],
   "source": [
    "net_migrants = ...\n",
    "net_migrants"
   ]
  },
  {
   "cell_type": "code",
   "execution_count": 81,
   "metadata": {},
   "outputs": [
    {
     "name": "stdout",
     "output_type": "stream",
     "text": [
      "=====================================================================\n",
      "Assignment: L&S88-02: Hwk 04\n",
      "OK, version v1.12.5\n",
      "=====================================================================\n",
      "\n",
      "Successfully logged in as feehan@berkeley.edu\n",
      "~~~~~~~~~~~~~~~~~~~~~~~~~~~~~~~~~~~~~~~~~~~~~~~~~~~~~~~~~~~~~~~~~~~~~\n",
      "Running tests\n",
      "\n",
      "---------------------------------------------------------------------\n",
      "Test summary\n",
      "    Passed: 1\n",
      "    Failed: 0\n",
      "[ooooooooook] 100.0% passed\n",
      "\n"
     ]
    }
   ],
   "source": [
    "_ = hwk04.grade('test_ptr')"
   ]
  },
  {
   "cell_type": "markdown",
   "metadata": {},
   "source": [
    "**Question - Make a map of population turnover rates**   \n",
    "*[NOTE: some counties which have little data will not show up on your map]*"
   ]
  },
  {
   "cell_type": "code",
   "execution_count": null,
   "metadata": {},
   "outputs": [],
   "source": [
    "..."
   ]
  },
  {
   "cell_type": "markdown",
   "metadata": {},
   "source": [
    "Let's see if there appears to be any relationship between population turnover and net migration: do places with more change also tend to experience a net loss or gain of people?"
   ]
  },
  {
   "cell_type": "markdown",
   "metadata": {},
   "source": [
    "**Question - Make a scatterplot comparing the population turnover rate (x axis) and the net migration rate (y axis) across all counties in the datset.**"
   ]
  },
  {
   "cell_type": "code",
   "execution_count": null,
   "metadata": {},
   "outputs": [],
   "source": [
    "..."
   ]
  },
  {
   "cell_type": "markdown",
   "metadata": {},
   "source": [
    "It can be helpful to summarize the relationship shown in the scatterplot above with a single number. We'll use the correlation coefficient to do so. We haven't talked about the correlation coefficient in our class, but it was discussed in Data 8; briefly, the correlation coefficient summarizes the strength of the linear relationship between two variables: when the correlation coefficient is close to -1, the two variables have a very strong negative relationship; when the correlation coefficient is close to +1, the two variables have a very strong positive relationship; and when the correlation coefficients is near 0, the two variables are not related.\n",
    "\n",
    "We'll use code from the Data 8 textbook to help calculate the correlation coefficient:"
   ]
  },
  {
   "cell_type": "code",
   "execution_count": 82,
   "metadata": {},
   "outputs": [],
   "source": [
    "## from Data 8 textbook:\n",
    "### https://www.inferentialthinking.com/chapters/15/2/Regression_Line.html\n",
    "def standard_units(xyz):\n",
    "    \"Convert any array of numbers to standard units.\"\n",
    "    return (xyz - np.mean(xyz))/np.std(xyz)  \n",
    "\n",
    "def correlation(t, label_x, label_y):\n",
    "    return np.mean(standard_units(t.column(label_x))*standard_units(t.column(label_y)))"
   ]
  },
  {
   "cell_type": "markdown",
   "metadata": {},
   "source": [
    "**Question - Calculate the correlation between the net migration rate and the population turnover rate.**"
   ]
  },
  {
   "cell_type": "code",
   "execution_count": null,
   "metadata": {},
   "outputs": [],
   "source": [
    "nmr_ptr_corr = ...\n",
    "nmr_ptr_corr"
   ]
  },
  {
   "cell_type": "code",
   "execution_count": 84,
   "metadata": {},
   "outputs": [
    {
     "name": "stdout",
     "output_type": "stream",
     "text": [
      "=====================================================================\n",
      "Assignment: L&S88-02: Hwk 04\n",
      "OK, version v1.12.5\n",
      "=====================================================================\n",
      "\n",
      "Successfully logged in as feehan@berkeley.edu\n",
      "~~~~~~~~~~~~~~~~~~~~~~~~~~~~~~~~~~~~~~~~~~~~~~~~~~~~~~~~~~~~~~~~~~~~~\n",
      "Running tests\n",
      "\n",
      "---------------------------------------------------------------------\n",
      "Test summary\n",
      "    Passed: 1\n",
      "    Failed: 0\n",
      "[ooooooooook] 100.0% passed\n",
      "\n"
     ]
    }
   ],
   "source": [
    "_ = hwk04.grade('test_corr_nmr_ptr')"
   ]
  },
  {
   "cell_type": "markdown",
   "metadata": {},
   "source": [
    "**Question - What does the correlation coefficient suggest about the relationship between turnover and net migration across US counties?**"
   ]
  },
  {
   "cell_type": "markdown",
   "metadata": {},
   "source": [
    "[ANSWER HERE]"
   ]
  },
  {
   "cell_type": "markdown",
   "metadata": {},
   "source": [
    "Note that a more careful analysis, which we'll have to leave for the future, would try to account for the fact that smaller counties tend to have more extreme NMR and PTR values."
   ]
  },
  {
   "cell_type": "markdown",
   "metadata": {},
   "source": [
    "## Run all tests"
   ]
  },
  {
   "cell_type": "markdown",
   "metadata": {},
   "source": [
    "This cell just re-runs all of the unit tests in the notebook, to summarize the results"
   ]
  },
  {
   "cell_type": "code",
   "execution_count": 85,
   "metadata": {},
   "outputs": [
    {
     "name": "stdout",
     "output_type": "stream",
     "text": [
      "Running all tests...\n",
      "~~~~~~~~~~~~~~~~~~~~~~~~~~~~~~~~~~~~~~~~~~~~~~~~~~~~~~~~~~~~~~~~~~~~~\n",
      "Running tests\n",
      "\n",
      "---------------------------------------------------------------------\n",
      "Test summary\n",
      "    Passed: 2\n",
      "    Failed: 0\n",
      "[ooooooooook] 100.0% passed\n",
      "\n",
      "~~~~~~~~~~~~~~~~~~~~~~~~~~~~~~~~~~~~~~~~~~~~~~~~~~~~~~~~~~~~~~~~~~~~~\n",
      "Running tests\n",
      "\n",
      "---------------------------------------------------------------------\n",
      "Test summary\n",
      "    Passed: 1\n",
      "    Failed: 0\n",
      "[ooooooooook] 100.0% passed\n",
      "\n",
      "~~~~~~~~~~~~~~~~~~~~~~~~~~~~~~~~~~~~~~~~~~~~~~~~~~~~~~~~~~~~~~~~~~~~~\n",
      "Running tests\n",
      "\n",
      "---------------------------------------------------------------------\n",
      "Test summary\n",
      "    Passed: 1\n",
      "    Failed: 0\n",
      "[ooooooooook] 100.0% passed\n",
      "\n",
      "~~~~~~~~~~~~~~~~~~~~~~~~~~~~~~~~~~~~~~~~~~~~~~~~~~~~~~~~~~~~~~~~~~~~~\n",
      "Running tests\n",
      "\n",
      "---------------------------------------------------------------------\n",
      "Test summary\n",
      "    Passed: 1\n",
      "    Failed: 0\n",
      "[ooooooooook] 100.0% passed\n",
      "\n",
      "~~~~~~~~~~~~~~~~~~~~~~~~~~~~~~~~~~~~~~~~~~~~~~~~~~~~~~~~~~~~~~~~~~~~~\n",
      "Running tests\n",
      "\n",
      "---------------------------------------------------------------------\n",
      "Test summary\n",
      "    Passed: 1\n",
      "    Failed: 0\n",
      "[ooooooooook] 100.0% passed\n",
      "\n",
      "~~~~~~~~~~~~~~~~~~~~~~~~~~~~~~~~~~~~~~~~~~~~~~~~~~~~~~~~~~~~~~~~~~~~~\n",
      "Running tests\n",
      "\n",
      "---------------------------------------------------------------------\n",
      "Test summary\n",
      "    Passed: 1\n",
      "    Failed: 0\n",
      "[ooooooooook] 100.0% passed\n",
      "\n",
      "~~~~~~~~~~~~~~~~~~~~~~~~~~~~~~~~~~~~~~~~~~~~~~~~~~~~~~~~~~~~~~~~~~~~~\n",
      "Running tests\n",
      "\n",
      "---------------------------------------------------------------------\n",
      "Test summary\n",
      "    Passed: 1\n",
      "    Failed: 0\n",
      "[ooooooooook] 100.0% passed\n",
      "\n",
      "~~~~~~~~~~~~~~~~~~~~~~~~~~~~~~~~~~~~~~~~~~~~~~~~~~~~~~~~~~~~~~~~~~~~~\n",
      "Running tests\n",
      "\n",
      "---------------------------------------------------------------------\n",
      "Test summary\n",
      "    Passed: 1\n",
      "    Failed: 0\n",
      "[ooooooooook] 100.0% passed\n",
      "\n",
      "~~~~~~~~~~~~~~~~~~~~~~~~~~~~~~~~~~~~~~~~~~~~~~~~~~~~~~~~~~~~~~~~~~~~~\n",
      "Running tests\n",
      "\n",
      "---------------------------------------------------------------------\n",
      "Test summary\n",
      "    Passed: 2\n",
      "    Failed: 0\n",
      "[ooooooooook] 100.0% passed\n",
      "\n",
      "~~~~~~~~~~~~~~~~~~~~~~~~~~~~~~~~~~~~~~~~~~~~~~~~~~~~~~~~~~~~~~~~~~~~~\n",
      "Running tests\n",
      "\n",
      "---------------------------------------------------------------------\n",
      "Test summary\n",
      "    Passed: 1\n",
      "    Failed: 0\n",
      "[ooooooooook] 100.0% passed\n",
      "\n",
      "~~~~~~~~~~~~~~~~~~~~~~~~~~~~~~~~~~~~~~~~~~~~~~~~~~~~~~~~~~~~~~~~~~~~~\n",
      "Running tests\n",
      "\n",
      "---------------------------------------------------------------------\n",
      "Test summary\n",
      "    Passed: 2\n",
      "    Failed: 0\n",
      "[ooooooooook] 100.0% passed\n",
      "\n",
      "~~~~~~~~~~~~~~~~~~~~~~~~~~~~~~~~~~~~~~~~~~~~~~~~~~~~~~~~~~~~~~~~~~~~~\n",
      "Running tests\n",
      "\n",
      "---------------------------------------------------------------------\n",
      "Test summary\n",
      "    Passed: 2\n",
      "    Failed: 0\n",
      "[ooooooooook] 100.0% passed\n",
      "\n",
      "~~~~~~~~~~~~~~~~~~~~~~~~~~~~~~~~~~~~~~~~~~~~~~~~~~~~~~~~~~~~~~~~~~~~~\n",
      "Running tests\n",
      "\n",
      "---------------------------------------------------------------------\n",
      "Test summary\n",
      "    Passed: 1\n",
      "    Failed: 0\n",
      "[ooooooooook] 100.0% passed\n",
      "\n",
      "Finished running all tests.\n"
     ]
    }
   ],
   "source": [
    "# this cell runs all the tests at once!\n",
    "print(\"Running all tests...\")\n",
    "_ = [hwk04.grade(q[:-3]) for q in os.listdir(\"tests\") if q.startswith('test')]\n",
    "print(\"Finished running all tests.\")"
   ]
  },
  {
   "cell_type": "markdown",
   "metadata": {},
   "source": [
    "### SUBMIT your assignment"
   ]
  },
  {
   "cell_type": "markdown",
   "metadata": {},
   "source": [
    "Please submit your lab in by running the cell below. You can submit as many times as you want, up to the due date and time. **No late submissions are allowed**, and the system will prevent you from being able to submit late."
   ]
  },
  {
   "cell_type": "code",
   "execution_count": null,
   "metadata": {},
   "outputs": [],
   "source": [
    "_ = hwk04.submit()"
   ]
  }
 ],
 "metadata": {
  "anaconda-cloud": {},
  "kernelspec": {
   "display_name": "Python [default]",
   "language": "python",
   "name": "python3"
  },
  "language_info": {
   "codemirror_mode": {
    "name": "ipython",
    "version": 3
   },
   "file_extension": ".py",
   "mimetype": "text/x-python",
   "name": "python",
   "nbconvert_exporter": "python",
   "pygments_lexer": "ipython3",
   "version": "3.5.2"
  }
 },
 "nbformat": 4,
 "nbformat_minor": 1
}

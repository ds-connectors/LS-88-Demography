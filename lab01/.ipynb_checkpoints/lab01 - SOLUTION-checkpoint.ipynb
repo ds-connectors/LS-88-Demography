{
 "cells": [
  {
   "cell_type": "code",
   "execution_count": 6,
   "metadata": {},
   "outputs": [
    {
     "name": "stderr",
     "output_type": "stream",
     "text": [
      "//anaconda/lib/python3.5/site-packages/matplotlib/__init__.py:1405: UserWarning: \n",
      "This call to matplotlib.use() has no effect because the backend has already\n",
      "been chosen; matplotlib.use() must be called *before* pylab, matplotlib.pyplot,\n",
      "or matplotlib.backends is imported for the first time.\n",
      "\n",
      "  warnings.warn(_use_error_msg)\n"
     ]
    },
    {
     "data": {
      "text/html": [
       "<style>\n",
       ".imagesource {\n",
       "    font-size: xx-small;\n",
       "}\n",
       ".response {\n",
       "    background-color: #00CCCC;\n",
       "}\n",
       ".solution {\n",
       "    background-color: #CC77CC;\n",
       "}\n",
       "</style>\n"
      ],
      "text/plain": [
       "<IPython.core.display.HTML object>"
      ]
     },
     "execution_count": 6,
     "metadata": {},
     "output_type": "execute_result"
    }
   ],
   "source": [
    "from IPython.core.display import HTML\n",
    "from datascience import *\n",
    "\n",
    "import matplotlib\n",
    "matplotlib.use('Agg')\n",
    "%matplotlib inline\n",
    "import matplotlib.pyplot as plt\n",
    "import numpy as np\n",
    "import os\n",
    "plt.style.use('fivethirtyeight')\n",
    "\n",
    "import pandas as pd\n",
    "import zipfile\n",
    "import io\n",
    "import math\n",
    "\n",
    "def css_styling():\n",
    "    styles = open('../notebook_styles.css', 'r').read()\n",
    "    return HTML(styles)\n",
    "css_styling()"
   ]
  },
  {
   "cell_type": "code",
   "execution_count": 7,
   "metadata": {},
   "outputs": [
    {
     "name": "stdout",
     "output_type": "stream",
     "text": [
      "=====================================================================\n",
      "Assignment: L&S88-02: Lab 01\n",
      "OK, version v1.12.5\n",
      "=====================================================================\n",
      "\n",
      "Successfully logged in as feehan@berkeley.edu\n"
     ]
    }
   ],
   "source": [
    "#Loading testing data\n",
    "from client.api.notebook import Notebook \n",
    "lab01 = Notebook('lab01.ok')\n",
    "_ = lab01.auth(inline=True)"
   ]
  },
  {
   "cell_type": "markdown",
   "metadata": {},
   "source": [
    "# Lab 01 - Life and death in the United States"
   ]
  },
  {
   "cell_type": "markdown",
   "metadata": {},
   "source": [
    "## Speedy review of life tables"
   ]
  },
  {
   "cell_type": "markdown",
   "metadata": {},
   "source": [
    "Last class, you learned some of the basics of the **period life table**. The period life table is a key concept in the study of mortality."
   ]
  },
  {
   "cell_type": "markdown",
   "metadata": {},
   "source": [
    "Let's quickly review some of the material that Denys covered in the guest lecture last week."
   ]
  },
  {
   "cell_type": "markdown",
   "metadata": {},
   "source": [
    "**Life table concepts, columns and notation**\n",
    "\n",
    "The life tables we'll work with today describe the experience of hypothetical cohort of people who start at age 0. The mortality experience of this hypothetical cohort is given by observed mortality in a real world population (e.g. a U.S. state).  The number of people who start at age 0 in the hypothetical cohort is called the **radix**; today, we'll use life tables that have a couple of important properties:\n",
    "\n",
    "* the radix is 100,000 people\n",
    "* the width of all of the age intervals is 1\n",
    "\n",
    "With that in mind, we'll use the following names for the columns of the life table:\n",
    "\n",
    "* `lx` - the number of people who survive to exact age $x$ (called $l_x$ in mathematical notation)\n",
    "* `dx` - the number of deaths between ages $x$ and $x + 1$ (called ${}_nd_x$ in mathematical notation)\n",
    "* `qx` - the probability of dying between ages $x$ and $x+1$, given survival to age $x$ (called ${}_nq_x$ in mathematical notation)\n",
    "* `mx` - the death *rate* between ages $x$ and $x+1$ in the life table population (called ${}_nm_x$ in mathematical notation)\n",
    "* `Lx` - the number of person-years lived between ages $x$ and $x + 1$ by people in the life table population (called ${}_nL_x$ in mathematical notation)\n",
    "* `ax` - the average number of years lived *among people who die* in the interval from $x$ to $x + 1$ (called ${}_na_x$ in mathematical notation)\n",
    "* `Tx` - the total number of person-years lived above exact age $x$ (called $T_x$ in mathematical notation)\n",
    "* `ex` - the (remaining) life expectancy at exact age $x$ (called $e_x$ in mathematical notation)\n"
   ]
  },
  {
   "cell_type": "markdown",
   "metadata": {},
   "source": [
    "## Introductions"
   ]
  },
  {
   "cell_type": "markdown",
   "metadata": {},
   "source": [
    "**What is your partner's name?**"
   ]
  },
  {
   "cell_type": "markdown",
   "metadata": {},
   "source": [
    "[ANSWER HERE]"
   ]
  },
  {
   "cell_type": "markdown",
   "metadata": {},
   "source": [
    "**Which U.S. State has your partner spent the most time in?**"
   ]
  },
  {
   "cell_type": "markdown",
   "metadata": {},
   "source": [
    "[ANSWER HERE]"
   ]
  },
  {
   "cell_type": "markdown",
   "metadata": {},
   "source": [
    "**Which U.S. State would your partner most like to visit in the future?**"
   ]
  },
  {
   "cell_type": "markdown",
   "metadata": {},
   "source": [
    "[ANSWER HERE]"
   ]
  },
  {
   "cell_type": "markdown",
   "metadata": {},
   "source": [
    "Let's start with a couple of questions that will check your understanding of life tables. (Be sure to discuss these with your parnter.)"
   ]
  },
  {
   "cell_type": "markdown",
   "metadata": {},
   "source": [
    "**Question** What is another name for $l_0$?"
   ]
  },
  {
   "cell_type": "markdown",
   "metadata": {},
   "source": [
    "[ANSWER HERE]"
   ]
  },
  {
   "cell_type": "markdown",
   "metadata": {},
   "source": [
    "SOLUTION:  \n",
    "$l_0$ is equal to the radix of the life table"
   ]
  },
  {
   "cell_type": "markdown",
   "metadata": {},
   "source": [
    "**Question** What is the relationship between `Lx`, `ax`, and `dx`?"
   ]
  },
  {
   "cell_type": "markdown",
   "metadata": {},
   "source": [
    "[ANSWER HERE]"
   ]
  },
  {
   "cell_type": "markdown",
   "metadata": {},
   "source": [
    "SOLUTION:  \n",
    "$L_x = l_x + d_x*a_x$  \n",
    "(This is a special case of the formula you discussed last week, since the width of the age interval here is $n=1$)"
   ]
  },
  {
   "cell_type": "markdown",
   "metadata": {},
   "source": [
    "**Question** How can life expectancy at age $x$ be calculated from other columns in the life table?"
   ]
  },
  {
   "cell_type": "markdown",
   "metadata": {},
   "source": [
    "[ANSWER HERE]"
   ]
  },
  {
   "cell_type": "markdown",
   "metadata": {},
   "source": [
    "SOLUTION:  \n",
    "$e_x = T_x / l_x$  \n"
   ]
  },
  {
   "cell_type": "markdown",
   "metadata": {},
   "source": [
    " "
   ]
  },
  {
   "cell_type": "markdown",
   "metadata": {},
   "source": [
    "Great -- good to review!\n",
    "\n",
    "Moving forward, in today's class, we'll start to use what we learned last week by exploring life tables for the US states. Our goals are:\n",
    "\n",
    "* to build our understanding of life tables\n",
    "* to start to recognize some characteristic patterns of mortality in human populations\n",
    "* to investigate how different human populations vary in terms of mortality\n",
    "* to get some practice using the tools you're learning in Data 8"
   ]
  },
  {
   "cell_type": "markdown",
   "metadata": {},
   "source": [
    " "
   ]
  },
  {
   "cell_type": "markdown",
   "metadata": {},
   "source": [
    "### The US Mortality Database"
   ]
  },
  {
   "cell_type": "markdown",
   "metadata": {},
   "source": [
    "We'll be looking at life tables from the [United States Mortality Database](https://usa.mortality.org/), a brand-new resource that was produced by researchers here at UC Berkeley, along with collaborators at INED (the French Demographic institute) and the UN. The USMD has life tables for each US state starting several decades in the past, and going up to 2015.\n",
    "\n",
    "You have signed up for access to the USMD as part of the first homework."
   ]
  },
  {
   "cell_type": "markdown",
   "metadata": {},
   "source": [
    "Since we will be looking at life tables for different US States, it will be helpful to have a list that has all of the two-letter  codes for the 50 states and for Washington, D.C."
   ]
  },
  {
   "cell_type": "code",
   "execution_count": 8,
   "metadata": {},
   "outputs": [],
   "source": [
    "## all of the state codes\n",
    "all_states = \\\n",
    "       ['AK', 'AL', 'AR', 'AZ', 'CA', 'CO', 'CT', 'DC', 'DE', 'FL', 'GA',\\\n",
    "       'HI', 'IA', 'ID', 'IL', 'IN', 'KS', 'KY', 'LA', 'MA', 'MD', 'ME',\\\n",
    "       'MI', 'MN', 'MO', 'MS', 'MT', 'NC', 'ND', 'NE', 'NH', 'NJ', 'NM',\\\n",
    "       'NV', 'NY', 'OH', 'OK', 'OR', 'PA', 'RI', 'SC', 'SD', 'TN', 'TX',\\\n",
    "       'UT', 'VA', 'VT', 'WA', 'WI', 'WV', 'WY']"
   ]
  },
  {
   "cell_type": "markdown",
   "metadata": {},
   "source": [
    "In order to make it easier to read in data from the USMD, I've written a simple function, `get_state_lt`. Look at the function and try to get a sense for how it works. (It's OK if you don't understand every detail at this point.)"
   ]
  },
  {
   "cell_type": "code",
   "execution_count": 9,
   "metadata": {},
   "outputs": [],
   "source": [
    "def get_state_lt(state_code, sex_code, year = None):\n",
    "    \"\"\"\n",
    "    Grab the life table data for a given state, sex, and time period\n",
    "    \n",
    "    Arguments:\n",
    "      state_code - the two-letter state abbreviation, all caps (example: 'CA' or 'NY')\n",
    "      sex_code - either 'f' for females, 'm' for males, or 'b' for both\n",
    "      year - the year (if not used, all years are returned)\n",
    "    \"\"\"\n",
    "    \n",
    "    zipurl = os.path.join('../data/temp-us-lifetables.zip')\n",
    "    \n",
    "    fileurl = os.path.join('States', state_code, state_code + '_' + sex_code + 'ltper_1x1.csv')\n",
    "    \n",
    "    #zipurl = \"https://www.dennisfeehan.org/temp-us-lifetables.zip\"\n",
    "    #r = requests.get(zipurl)\n",
    "    #with zipfile.ZipFile(io.BytesIO(r.content)) as archive:\n",
    "    with zipfile.ZipFile(zipurl) as archive:        \n",
    "        with archive.open(fileurl) as ltfile:\n",
    "            lt_data_raw = pd.read_csv(ltfile)\n",
    "            lt_data = Table.from_df(lt_data_raw)\n",
    "\n",
    "    # remove the highest age group\n",
    "    lt_data = lt_data.where('Age', are.not_equal_to('110+'))\n",
    "    \n",
    "    # convert everything but state name and sex to numeric data types\n",
    "    for cur_col in lt_data.labels[2:]:\n",
    "        lt_data[cur_col] = pd.to_numeric(lt_data[cur_col])\n",
    "    \n",
    "    if year is not None:\n",
    "        lt_data = lt_data.where('Year', are.equal_to(int(year)))\n",
    "    else:\n",
    "        print(\"No year specified, so returning all years.\")\n",
    "        \n",
    "    return(lt_data)\n"
   ]
  },
  {
   "cell_type": "markdown",
   "metadata": {},
   "source": [
    "**Now use the `get_state_lt` function to read in the life table for New York males in 2015**"
   ]
  },
  {
   "cell_type": "code",
   "execution_count": 5,
   "metadata": {},
   "outputs": [
    {
     "ename": "TypeError",
     "evalue": "get_state_lt() missing 1 required positional argument: 'sex_code'",
     "output_type": "error",
     "traceback": [
      "\u001b[0;31m---------------------------------------------------------------------------\u001b[0m",
      "\u001b[0;31mTypeError\u001b[0m                                 Traceback (most recent call last)",
      "\u001b[0;32m<ipython-input-5-db171781307d>\u001b[0m in \u001b[0;36m<module>\u001b[0;34m()\u001b[0m\n\u001b[0;32m----> 1\u001b[0;31m \u001b[0mtest_lt\u001b[0m \u001b[0;34m=\u001b[0m \u001b[0mget_state_lt\u001b[0m\u001b[0;34m(\u001b[0m\u001b[0;34m...\u001b[0m\u001b[0;34m)\u001b[0m\u001b[0;34m\u001b[0m\u001b[0m\n\u001b[0m\u001b[1;32m      2\u001b[0m \u001b[0mtest_lt\u001b[0m\u001b[0;34m\u001b[0m\u001b[0m\n",
      "\u001b[0;31mTypeError\u001b[0m: get_state_lt() missing 1 required positional argument: 'sex_code'"
     ]
    }
   ],
   "source": [
    "test_lt = get_state_lt(...)\n",
    "test_lt"
   ]
  },
  {
   "cell_type": "code",
   "execution_count": 10,
   "metadata": {},
   "outputs": [
    {
     "data": {
      "text/html": [
       "<table border=\"1\" class=\"dataframe\">\n",
       "    <thead>\n",
       "        <tr>\n",
       "            <th>PopName</th> <th>Sex</th> <th>Year</th> <th>Age</th> <th>mx</th> <th>qx</th> <th>ax</th> <th>lx</th> <th>dx</th> <th>Lx</th> <th>Tx</th> <th>ex</th>\n",
       "        </tr>\n",
       "    </thead>\n",
       "    <tbody>\n",
       "        <tr>\n",
       "            <td>NY     </td> <td>m   </td> <td>2015</td> <td>0   </td> <td>0.00501</td> <td>0.00499</td> <td>0.06</td> <td>100000</td> <td>499 </td> <td>99530</td> <td>7839743</td> <td>78.4 </td>\n",
       "        </tr>\n",
       "    </tbody>\n",
       "        <tr>\n",
       "            <td>NY     </td> <td>m   </td> <td>2015</td> <td>1   </td> <td>0.00028</td> <td>0.00028</td> <td>0.5 </td> <td>99501 </td> <td>28  </td> <td>99487</td> <td>7740213</td> <td>77.79</td>\n",
       "        </tr>\n",
       "    </tbody>\n",
       "        <tr>\n",
       "            <td>NY     </td> <td>m   </td> <td>2015</td> <td>2   </td> <td>0.00018</td> <td>0.00018</td> <td>0.5 </td> <td>99473 </td> <td>17  </td> <td>99465</td> <td>7640726</td> <td>76.81</td>\n",
       "        </tr>\n",
       "    </tbody>\n",
       "        <tr>\n",
       "            <td>NY     </td> <td>m   </td> <td>2015</td> <td>3   </td> <td>0.00017</td> <td>0.00017</td> <td>0.5 </td> <td>99456 </td> <td>17  </td> <td>99448</td> <td>7541262</td> <td>75.83</td>\n",
       "        </tr>\n",
       "    </tbody>\n",
       "        <tr>\n",
       "            <td>NY     </td> <td>m   </td> <td>2015</td> <td>4   </td> <td>0.00014</td> <td>0.00014</td> <td>0.5 </td> <td>99439 </td> <td>14  </td> <td>99432</td> <td>7441814</td> <td>74.84</td>\n",
       "        </tr>\n",
       "    </tbody>\n",
       "        <tr>\n",
       "            <td>NY     </td> <td>m   </td> <td>2015</td> <td>5   </td> <td>0.0001 </td> <td>0.0001 </td> <td>0.5 </td> <td>99425 </td> <td>10  </td> <td>99420</td> <td>7342382</td> <td>73.85</td>\n",
       "        </tr>\n",
       "    </tbody>\n",
       "        <tr>\n",
       "            <td>NY     </td> <td>m   </td> <td>2015</td> <td>6   </td> <td>0.0001 </td> <td>0.0001 </td> <td>0.5 </td> <td>99415 </td> <td>10  </td> <td>99410</td> <td>7242962</td> <td>72.86</td>\n",
       "        </tr>\n",
       "    </tbody>\n",
       "        <tr>\n",
       "            <td>NY     </td> <td>m   </td> <td>2015</td> <td>7   </td> <td>9e-05  </td> <td>9e-05  </td> <td>0.5 </td> <td>99405 </td> <td>9   </td> <td>99401</td> <td>7143552</td> <td>71.86</td>\n",
       "        </tr>\n",
       "    </tbody>\n",
       "        <tr>\n",
       "            <td>NY     </td> <td>m   </td> <td>2015</td> <td>8   </td> <td>0.00012</td> <td>0.00012</td> <td>0.5 </td> <td>99396 </td> <td>12  </td> <td>99390</td> <td>7044151</td> <td>70.87</td>\n",
       "        </tr>\n",
       "    </tbody>\n",
       "        <tr>\n",
       "            <td>NY     </td> <td>m   </td> <td>2015</td> <td>9   </td> <td>6e-05  </td> <td>6e-05  </td> <td>0.5 </td> <td>99384 </td> <td>6   </td> <td>99381</td> <td>6944761</td> <td>69.88</td>\n",
       "        </tr>\n",
       "    </tbody>\n",
       "</table>\n",
       "<p>... (100 rows omitted)</p"
      ],
      "text/plain": [
       "PopName | Sex  | Year | Age  | mx      | qx      | ax   | lx     | dx   | Lx    | Tx      | ex\n",
       "NY      | m    | 2015 | 0    | 0.00501 | 0.00499 | 0.06 | 100000 | 499  | 99530 | 7839743 | 78.4\n",
       "NY      | m    | 2015 | 1    | 0.00028 | 0.00028 | 0.5  | 99501  | 28   | 99487 | 7740213 | 77.79\n",
       "NY      | m    | 2015 | 2    | 0.00018 | 0.00018 | 0.5  | 99473  | 17   | 99465 | 7640726 | 76.81\n",
       "NY      | m    | 2015 | 3    | 0.00017 | 0.00017 | 0.5  | 99456  | 17   | 99448 | 7541262 | 75.83\n",
       "NY      | m    | 2015 | 4    | 0.00014 | 0.00014 | 0.5  | 99439  | 14   | 99432 | 7441814 | 74.84\n",
       "NY      | m    | 2015 | 5    | 0.0001  | 0.0001  | 0.5  | 99425  | 10   | 99420 | 7342382 | 73.85\n",
       "NY      | m    | 2015 | 6    | 0.0001  | 0.0001  | 0.5  | 99415  | 10   | 99410 | 7242962 | 72.86\n",
       "NY      | m    | 2015 | 7    | 9e-05   | 9e-05   | 0.5  | 99405  | 9    | 99401 | 7143552 | 71.86\n",
       "NY      | m    | 2015 | 8    | 0.00012 | 0.00012 | 0.5  | 99396  | 12   | 99390 | 7044151 | 70.87\n",
       "NY      | m    | 2015 | 9    | 6e-05   | 6e-05   | 0.5  | 99384  | 6    | 99381 | 6944761 | 69.88\n",
       "... (100 rows omitted)"
      ]
     },
     "execution_count": 10,
     "metadata": {},
     "output_type": "execute_result"
    }
   ],
   "source": [
    "## SOLUTION\n",
    "test_lt = get_state_lt('NY', 'm', 2015)\n",
    "test_lt"
   ]
  },
  {
   "cell_type": "code",
   "execution_count": null,
   "metadata": {},
   "outputs": [],
   "source": [
    "_ = lab01.grade('test_load_lt')"
   ]
  },
  {
   "cell_type": "markdown",
   "metadata": {},
   "source": [
    "You can see that, in addition to the life table columns you discussed last week, a USMD life table has the following columns:\n",
    "\n",
    "* `PopName` - the state code\n",
    "* `Sex` - 'm' for males, 'f' for females, and 'b' for both\n",
    "* `Year` - the period (calendar year) that the life table is based on. The most recent year is 2015."
   ]
  },
  {
   "cell_type": "markdown",
   "metadata": {},
   "source": [
    "## Visualize columns of the life table for Californian women"
   ]
  },
  {
   "cell_type": "markdown",
   "metadata": {},
   "source": [
    "We'll start a deeper dive into US life tables using Californian women in 2015 as an example."
   ]
  },
  {
   "cell_type": "markdown",
   "metadata": {},
   "source": [
    "**Question: Use the `get_state_lt` function to retrieve the life table for Californan females in 2015**"
   ]
  },
  {
   "cell_type": "code",
   "execution_count": null,
   "metadata": {},
   "outputs": [],
   "source": [
    "ca_f_lt = ...\n",
    "ca_f_lt"
   ]
  },
  {
   "cell_type": "code",
   "execution_count": 11,
   "metadata": {},
   "outputs": [
    {
     "data": {
      "text/html": [
       "<table border=\"1\" class=\"dataframe\">\n",
       "    <thead>\n",
       "        <tr>\n",
       "            <th>PopName</th> <th>Sex</th> <th>Year</th> <th>Age</th> <th>mx</th> <th>qx</th> <th>ax</th> <th>lx</th> <th>dx</th> <th>Lx</th> <th>Tx</th> <th>ex</th>\n",
       "        </tr>\n",
       "    </thead>\n",
       "    <tbody>\n",
       "        <tr>\n",
       "            <td>CA     </td> <td>f   </td> <td>2015</td> <td>0   </td> <td>0.00398</td> <td>0.00396</td> <td>0.06</td> <td>100000</td> <td>396 </td> <td>99629</td> <td>8337899</td> <td>83.38</td>\n",
       "        </tr>\n",
       "    </tbody>\n",
       "        <tr>\n",
       "            <td>CA     </td> <td>f   </td> <td>2015</td> <td>1   </td> <td>0.00024</td> <td>0.00024</td> <td>0.5 </td> <td>99604 </td> <td>24  </td> <td>99592</td> <td>8238270</td> <td>82.71</td>\n",
       "        </tr>\n",
       "    </tbody>\n",
       "        <tr>\n",
       "            <td>CA     </td> <td>f   </td> <td>2015</td> <td>2   </td> <td>0.00014</td> <td>0.00014</td> <td>0.5 </td> <td>99580 </td> <td>14  </td> <td>99572</td> <td>8138678</td> <td>81.73</td>\n",
       "        </tr>\n",
       "    </tbody>\n",
       "        <tr>\n",
       "            <td>CA     </td> <td>f   </td> <td>2015</td> <td>3   </td> <td>0.00015</td> <td>0.00015</td> <td>0.5 </td> <td>99565 </td> <td>15  </td> <td>99558</td> <td>8039106</td> <td>80.74</td>\n",
       "        </tr>\n",
       "    </tbody>\n",
       "        <tr>\n",
       "            <td>CA     </td> <td>f   </td> <td>2015</td> <td>4   </td> <td>0.00011</td> <td>0.00011</td> <td>0.5 </td> <td>99550 </td> <td>11  </td> <td>99545</td> <td>7939548</td> <td>79.75</td>\n",
       "        </tr>\n",
       "    </tbody>\n",
       "        <tr>\n",
       "            <td>CA     </td> <td>f   </td> <td>2015</td> <td>5   </td> <td>7e-05  </td> <td>7e-05  </td> <td>0.5 </td> <td>99540 </td> <td>7   </td> <td>99536</td> <td>7840003</td> <td>78.76</td>\n",
       "        </tr>\n",
       "    </tbody>\n",
       "        <tr>\n",
       "            <td>CA     </td> <td>f   </td> <td>2015</td> <td>6   </td> <td>0.0001 </td> <td>0.0001 </td> <td>0.5 </td> <td>99533 </td> <td>10  </td> <td>99528</td> <td>7740467</td> <td>77.77</td>\n",
       "        </tr>\n",
       "    </tbody>\n",
       "        <tr>\n",
       "            <td>CA     </td> <td>f   </td> <td>2015</td> <td>7   </td> <td>6e-05  </td> <td>6e-05  </td> <td>0.5 </td> <td>99523 </td> <td>6   </td> <td>99520</td> <td>7640939</td> <td>76.78</td>\n",
       "        </tr>\n",
       "    </tbody>\n",
       "        <tr>\n",
       "            <td>CA     </td> <td>f   </td> <td>2015</td> <td>8   </td> <td>4e-05  </td> <td>4e-05  </td> <td>0.5 </td> <td>99517 </td> <td>4   </td> <td>99514</td> <td>7541419</td> <td>75.78</td>\n",
       "        </tr>\n",
       "    </tbody>\n",
       "        <tr>\n",
       "            <td>CA     </td> <td>f   </td> <td>2015</td> <td>9   </td> <td>6e-05  </td> <td>6e-05  </td> <td>0.5 </td> <td>99512 </td> <td>6   </td> <td>99509</td> <td>7441905</td> <td>74.78</td>\n",
       "        </tr>\n",
       "    </tbody>\n",
       "</table>\n",
       "<p>... (100 rows omitted)</p"
      ],
      "text/plain": [
       "PopName | Sex  | Year | Age  | mx      | qx      | ax   | lx     | dx   | Lx    | Tx      | ex\n",
       "CA      | f    | 2015 | 0    | 0.00398 | 0.00396 | 0.06 | 100000 | 396  | 99629 | 8337899 | 83.38\n",
       "CA      | f    | 2015 | 1    | 0.00024 | 0.00024 | 0.5  | 99604  | 24   | 99592 | 8238270 | 82.71\n",
       "CA      | f    | 2015 | 2    | 0.00014 | 0.00014 | 0.5  | 99580  | 14   | 99572 | 8138678 | 81.73\n",
       "CA      | f    | 2015 | 3    | 0.00015 | 0.00015 | 0.5  | 99565  | 15   | 99558 | 8039106 | 80.74\n",
       "CA      | f    | 2015 | 4    | 0.00011 | 0.00011 | 0.5  | 99550  | 11   | 99545 | 7939548 | 79.75\n",
       "CA      | f    | 2015 | 5    | 7e-05   | 7e-05   | 0.5  | 99540  | 7    | 99536 | 7840003 | 78.76\n",
       "CA      | f    | 2015 | 6    | 0.0001  | 0.0001  | 0.5  | 99533  | 10   | 99528 | 7740467 | 77.77\n",
       "CA      | f    | 2015 | 7    | 6e-05   | 6e-05   | 0.5  | 99523  | 6    | 99520 | 7640939 | 76.78\n",
       "CA      | f    | 2015 | 8    | 4e-05   | 4e-05   | 0.5  | 99517  | 4    | 99514 | 7541419 | 75.78\n",
       "CA      | f    | 2015 | 9    | 6e-05   | 6e-05   | 0.5  | 99512  | 6    | 99509 | 7441905 | 74.78\n",
       "... (100 rows omitted)"
      ]
     },
     "execution_count": 11,
     "metadata": {},
     "output_type": "execute_result"
    }
   ],
   "source": [
    "## SOLUTION\n",
    "ca_f_lt = get_state_lt('CA', 'f', 2015)\n",
    "ca_f_lt"
   ]
  },
  {
   "cell_type": "code",
   "execution_count": 12,
   "metadata": {},
   "outputs": [
    {
     "name": "stdout",
     "output_type": "stream",
     "text": [
      "~~~~~~~~~~~~~~~~~~~~~~~~~~~~~~~~~~~~~~~~~~~~~~~~~~~~~~~~~~~~~~~~~~~~~\n",
      "Running tests\n",
      "\n",
      "---------------------------------------------------------------------\n",
      "Test summary\n",
      "    Passed: 4\n",
      "    Failed: 0\n",
      "[ooooooooook] 100.0% passed\n",
      "\n"
     ]
    }
   ],
   "source": [
    "_ = lab01.grade('test_load_lt_caf')"
   ]
  },
  {
   "cell_type": "markdown",
   "metadata": {},
   "source": [
    "**Question: Plot the survivorship column (Lx) by age**"
   ]
  },
  {
   "cell_type": "code",
   "execution_count": null,
   "metadata": {},
   "outputs": [],
   "source": [
    "..."
   ]
  },
  {
   "cell_type": "code",
   "execution_count": 13,
   "metadata": {},
   "outputs": [
    {
     "data": {
      "image/png": "[encoded data removed]",
      "text/plain": [
       "<matplotlib.figure.Figure at 0x11edeffd0>"
      ]
     },
     "metadata": {},
     "output_type": "display_data"
    }
   ],
   "source": [
    "## SOLUTION\n",
    "ca_f_lt.plot('Age', 'lx')"
   ]
  },
  {
   "cell_type": "markdown",
   "metadata": {},
   "source": [
    "**Question: Plot the life table number of deaths (dx) by age**"
   ]
  },
  {
   "cell_type": "code",
   "execution_count": null,
   "metadata": {},
   "outputs": [],
   "source": [
    "..."
   ]
  },
  {
   "cell_type": "code",
   "execution_count": 14,
   "metadata": {},
   "outputs": [
    {
     "data": {
      "image/png": "[encoded data removed]",
      "text/plain": [
       "<matplotlib.figure.Figure at 0x11ede5cf8>"
      ]
     },
     "metadata": {},
     "output_type": "display_data"
    }
   ],
   "source": [
    "## SOLUTION\n",
    "ca_f_lt.plot('Age', 'dx')"
   ]
  },
  {
   "cell_type": "markdown",
   "metadata": {},
   "source": [
    "**Question: Plot the life table death rate (mx) by age**"
   ]
  },
  {
   "cell_type": "code",
   "execution_count": null,
   "metadata": {},
   "outputs": [],
   "source": [
    "..."
   ]
  },
  {
   "cell_type": "code",
   "execution_count": 15,
   "metadata": {},
   "outputs": [
    {
     "data": {
      "image/png": "[encoded data removed]",
      "text/plain": [
       "<matplotlib.figure.Figure at 0x12291c4a8>"
      ]
     },
     "metadata": {},
     "output_type": "display_data"
    }
   ],
   "source": [
    "## SOLUTION\n",
    "ca_f_lt.plot('Age', 'mx')"
   ]
  },
  {
   "cell_type": "markdown",
   "metadata": {},
   "source": [
    "Death rates like the ones you just plotted are central to the study of mortality; however, as the plot reveals, they vary tremendously across the age range.  In fact, they vary so much that it can be hard to see much helpful information on a plot like the one above.  Therefore, demographers usually look at the logarithm of the death rate, rather than the death rates themselves."
   ]
  },
  {
   "cell_type": "markdown",
   "metadata": {},
   "source": [
    "**Create a new column called logmx that has the log of the life table death rate; plot logmx by age**  \n",
    "*[HINT: the function `np.log` will take the logarithm of a Series for you]*"
   ]
  },
  {
   "cell_type": "code",
   "execution_count": null,
   "metadata": {},
   "outputs": [],
   "source": [
    "ca_f_lt = ca_f_lt.with_column('logmx', ...)\n",
    "ca_f_lt"
   ]
  },
  {
   "cell_type": "code",
   "execution_count": 16,
   "metadata": {},
   "outputs": [
    {
     "data": {
      "text/html": [
       "<table border=\"1\" class=\"dataframe\">\n",
       "    <thead>\n",
       "        <tr>\n",
       "            <th>PopName</th> <th>Sex</th> <th>Year</th> <th>Age</th> <th>mx</th> <th>qx</th> <th>ax</th> <th>lx</th> <th>dx</th> <th>Lx</th> <th>Tx</th> <th>ex</th> <th>logmx</th>\n",
       "        </tr>\n",
       "    </thead>\n",
       "    <tbody>\n",
       "        <tr>\n",
       "            <td>CA     </td> <td>f   </td> <td>2015</td> <td>0   </td> <td>0.00398</td> <td>0.00396</td> <td>0.06</td> <td>100000</td> <td>396 </td> <td>99629</td> <td>8337899</td> <td>83.38</td> <td>-5.52647</td>\n",
       "        </tr>\n",
       "    </tbody>\n",
       "        <tr>\n",
       "            <td>CA     </td> <td>f   </td> <td>2015</td> <td>1   </td> <td>0.00024</td> <td>0.00024</td> <td>0.5 </td> <td>99604 </td> <td>24  </td> <td>99592</td> <td>8238270</td> <td>82.71</td> <td>-8.33487</td>\n",
       "        </tr>\n",
       "    </tbody>\n",
       "        <tr>\n",
       "            <td>CA     </td> <td>f   </td> <td>2015</td> <td>2   </td> <td>0.00014</td> <td>0.00014</td> <td>0.5 </td> <td>99580 </td> <td>14  </td> <td>99572</td> <td>8138678</td> <td>81.73</td> <td>-8.87387</td>\n",
       "        </tr>\n",
       "    </tbody>\n",
       "        <tr>\n",
       "            <td>CA     </td> <td>f   </td> <td>2015</td> <td>3   </td> <td>0.00015</td> <td>0.00015</td> <td>0.5 </td> <td>99565 </td> <td>15  </td> <td>99558</td> <td>8039106</td> <td>80.74</td> <td>-8.80488</td>\n",
       "        </tr>\n",
       "    </tbody>\n",
       "        <tr>\n",
       "            <td>CA     </td> <td>f   </td> <td>2015</td> <td>4   </td> <td>0.00011</td> <td>0.00011</td> <td>0.5 </td> <td>99550 </td> <td>11  </td> <td>99545</td> <td>7939548</td> <td>79.75</td> <td>-9.11503</td>\n",
       "        </tr>\n",
       "    </tbody>\n",
       "        <tr>\n",
       "            <td>CA     </td> <td>f   </td> <td>2015</td> <td>5   </td> <td>7e-05  </td> <td>7e-05  </td> <td>0.5 </td> <td>99540 </td> <td>7   </td> <td>99536</td> <td>7840003</td> <td>78.76</td> <td>-9.56702</td>\n",
       "        </tr>\n",
       "    </tbody>\n",
       "        <tr>\n",
       "            <td>CA     </td> <td>f   </td> <td>2015</td> <td>6   </td> <td>0.0001 </td> <td>0.0001 </td> <td>0.5 </td> <td>99533 </td> <td>10  </td> <td>99528</td> <td>7740467</td> <td>77.77</td> <td>-9.21034</td>\n",
       "        </tr>\n",
       "    </tbody>\n",
       "        <tr>\n",
       "            <td>CA     </td> <td>f   </td> <td>2015</td> <td>7   </td> <td>6e-05  </td> <td>6e-05  </td> <td>0.5 </td> <td>99523 </td> <td>6   </td> <td>99520</td> <td>7640939</td> <td>76.78</td> <td>-9.72117</td>\n",
       "        </tr>\n",
       "    </tbody>\n",
       "        <tr>\n",
       "            <td>CA     </td> <td>f   </td> <td>2015</td> <td>8   </td> <td>4e-05  </td> <td>4e-05  </td> <td>0.5 </td> <td>99517 </td> <td>4   </td> <td>99514</td> <td>7541419</td> <td>75.78</td> <td>-10.1266</td>\n",
       "        </tr>\n",
       "    </tbody>\n",
       "        <tr>\n",
       "            <td>CA     </td> <td>f   </td> <td>2015</td> <td>9   </td> <td>6e-05  </td> <td>6e-05  </td> <td>0.5 </td> <td>99512 </td> <td>6   </td> <td>99509</td> <td>7441905</td> <td>74.78</td> <td>-9.72117</td>\n",
       "        </tr>\n",
       "    </tbody>\n",
       "</table>\n",
       "<p>... (100 rows omitted)</p"
      ],
      "text/plain": [
       "PopName | Sex  | Year | Age  | mx      | qx      | ax   | lx     | dx   | Lx    | Tx      | ex    | logmx\n",
       "CA      | f    | 2015 | 0    | 0.00398 | 0.00396 | 0.06 | 100000 | 396  | 99629 | 8337899 | 83.38 | -5.52647\n",
       "CA      | f    | 2015 | 1    | 0.00024 | 0.00024 | 0.5  | 99604  | 24   | 99592 | 8238270 | 82.71 | -8.33487\n",
       "CA      | f    | 2015 | 2    | 0.00014 | 0.00014 | 0.5  | 99580  | 14   | 99572 | 8138678 | 81.73 | -8.87387\n",
       "CA      | f    | 2015 | 3    | 0.00015 | 0.00015 | 0.5  | 99565  | 15   | 99558 | 8039106 | 80.74 | -8.80488\n",
       "CA      | f    | 2015 | 4    | 0.00011 | 0.00011 | 0.5  | 99550  | 11   | 99545 | 7939548 | 79.75 | -9.11503\n",
       "CA      | f    | 2015 | 5    | 7e-05   | 7e-05   | 0.5  | 99540  | 7    | 99536 | 7840003 | 78.76 | -9.56702\n",
       "CA      | f    | 2015 | 6    | 0.0001  | 0.0001  | 0.5  | 99533  | 10   | 99528 | 7740467 | 77.77 | -9.21034\n",
       "CA      | f    | 2015 | 7    | 6e-05   | 6e-05   | 0.5  | 99523  | 6    | 99520 | 7640939 | 76.78 | -9.72117\n",
       "CA      | f    | 2015 | 8    | 4e-05   | 4e-05   | 0.5  | 99517  | 4    | 99514 | 7541419 | 75.78 | -10.1266\n",
       "CA      | f    | 2015 | 9    | 6e-05   | 6e-05   | 0.5  | 99512  | 6    | 99509 | 7441905 | 74.78 | -9.72117\n",
       "... (100 rows omitted)"
      ]
     },
     "execution_count": 16,
     "metadata": {},
     "output_type": "execute_result"
    }
   ],
   "source": [
    "## SOLUTION\n",
    "ca_f_lt = ca_f_lt.with_column('logmx', np.log(ca_f_lt.column('mx')))\n",
    "ca_f_lt"
   ]
  },
  {
   "cell_type": "code",
   "execution_count": 17,
   "metadata": {},
   "outputs": [
    {
     "name": "stdout",
     "output_type": "stream",
     "text": [
      "~~~~~~~~~~~~~~~~~~~~~~~~~~~~~~~~~~~~~~~~~~~~~~~~~~~~~~~~~~~~~~~~~~~~~\n",
      "Running tests\n",
      "\n",
      "---------------------------------------------------------------------\n",
      "Test summary\n",
      "    Passed: 1\n",
      "    Failed: 0\n",
      "[ooooooooook] 100.0% passed\n",
      "\n"
     ]
    }
   ],
   "source": [
    "_ = lab01.grade('test_logmx')"
   ]
  },
  {
   "cell_type": "markdown",
   "metadata": {},
   "source": [
    "**Question: Now plot the log of the life table death rate by age**"
   ]
  },
  {
   "cell_type": "code",
   "execution_count": null,
   "metadata": {},
   "outputs": [],
   "source": [
    "..."
   ]
  },
  {
   "cell_type": "code",
   "execution_count": 18,
   "metadata": {},
   "outputs": [
    {
     "data": {
      "image/png": "[encoded data removed]",
      "text/plain": [
       "<matplotlib.figure.Figure at 0x122a80a20>"
      ]
     },
     "metadata": {},
     "output_type": "display_data"
    }
   ],
   "source": [
    "## SOLUTION\n",
    "ca_f_lt.plot('Age', 'logmx')"
   ]
  },
  {
   "cell_type": "markdown",
   "metadata": {},
   "source": [
    "**About what age seems to have the lowest death rate?**"
   ]
  },
  {
   "cell_type": "markdown",
   "metadata": {},
   "source": [
    "[ANSWER HERE]"
   ]
  },
  {
   "cell_type": "markdown",
   "metadata": {},
   "source": [
    "Last class, you discussed how to use the life table to calculate life expectancy at birth: it is the life table number of people who reach age x divided by the total person-years lived above age x."
   ]
  },
  {
   "cell_type": "markdown",
   "metadata": {},
   "source": [
    "**Question: use the CA female life table to calculate life expectancy at birth**"
   ]
  },
  {
   "cell_type": "code",
   "execution_count": null,
   "metadata": {},
   "outputs": [],
   "source": [
    "radix = 100000 # this is the radix for all of the USMD lifetables\n",
    "ca_f_e0 = ... / ...\n",
    "ca_f_e0"
   ]
  },
  {
   "cell_type": "code",
   "execution_count": 19,
   "metadata": {},
   "outputs": [
    {
     "data": {
      "text/plain": [
       "83.378439999999998"
      ]
     },
     "execution_count": 19,
     "metadata": {},
     "output_type": "execute_result"
    }
   ],
   "source": [
    "## SOLUTION\n",
    "radix = 100000 # this is the radix for all of the USMD lifetables\n",
    "ca_f_e0 = np.sum(ca_f_lt.column('Lx')) / radix\n",
    "ca_f_e0"
   ]
  },
  {
   "cell_type": "code",
   "execution_count": 20,
   "metadata": {},
   "outputs": [
    {
     "name": "stdout",
     "output_type": "stream",
     "text": [
      "~~~~~~~~~~~~~~~~~~~~~~~~~~~~~~~~~~~~~~~~~~~~~~~~~~~~~~~~~~~~~~~~~~~~~\n",
      "Running tests\n",
      "\n",
      "---------------------------------------------------------------------\n",
      "Test summary\n",
      "    Passed: 1\n",
      "    Failed: 0\n",
      "[ooooooooook] 100.0% passed\n",
      "\n"
     ]
    }
   ],
   "source": [
    "_ = lab01.grade('test_manual_ex')"
   ]
  },
  {
   "cell_type": "markdown",
   "metadata": {},
   "source": [
    "**Question: Now compare your calculation to the `ex` entry in the first row of the life table**"
   ]
  },
  {
   "cell_type": "code",
   "execution_count": null,
   "metadata": {},
   "outputs": [],
   "source": [
    "... # print the first few rows of the life table to compare"
   ]
  },
  {
   "cell_type": "code",
   "execution_count": 21,
   "metadata": {},
   "outputs": [
    {
     "data": {
      "text/html": [
       "<table border=\"1\" class=\"dataframe\">\n",
       "    <thead>\n",
       "        <tr>\n",
       "            <th>PopName</th> <th>Sex</th> <th>Year</th> <th>Age</th> <th>mx</th> <th>qx</th> <th>ax</th> <th>lx</th> <th>dx</th> <th>Lx</th> <th>Tx</th> <th>ex</th> <th>logmx</th>\n",
       "        </tr>\n",
       "    </thead>\n",
       "    <tbody>\n",
       "        <tr>\n",
       "            <td>CA     </td> <td>f   </td> <td>2015</td> <td>0   </td> <td>0.00398</td> <td>0.00396</td> <td>0.06</td> <td>100000</td> <td>396 </td> <td>99629</td> <td>8337899</td> <td>83.38</td> <td>-5.52647</td>\n",
       "        </tr>\n",
       "    </tbody>\n",
       "        <tr>\n",
       "            <td>CA     </td> <td>f   </td> <td>2015</td> <td>1   </td> <td>0.00024</td> <td>0.00024</td> <td>0.5 </td> <td>99604 </td> <td>24  </td> <td>99592</td> <td>8238270</td> <td>82.71</td> <td>-8.33487</td>\n",
       "        </tr>\n",
       "    </tbody>\n",
       "        <tr>\n",
       "            <td>CA     </td> <td>f   </td> <td>2015</td> <td>2   </td> <td>0.00014</td> <td>0.00014</td> <td>0.5 </td> <td>99580 </td> <td>14  </td> <td>99572</td> <td>8138678</td> <td>81.73</td> <td>-8.87387</td>\n",
       "        </tr>\n",
       "    </tbody>\n",
       "        <tr>\n",
       "            <td>CA     </td> <td>f   </td> <td>2015</td> <td>3   </td> <td>0.00015</td> <td>0.00015</td> <td>0.5 </td> <td>99565 </td> <td>15  </td> <td>99558</td> <td>8039106</td> <td>80.74</td> <td>-8.80488</td>\n",
       "        </tr>\n",
       "    </tbody>\n",
       "        <tr>\n",
       "            <td>CA     </td> <td>f   </td> <td>2015</td> <td>4   </td> <td>0.00011</td> <td>0.00011</td> <td>0.5 </td> <td>99550 </td> <td>11  </td> <td>99545</td> <td>7939548</td> <td>79.75</td> <td>-9.11503</td>\n",
       "        </tr>\n",
       "    </tbody>\n",
       "        <tr>\n",
       "            <td>CA     </td> <td>f   </td> <td>2015</td> <td>5   </td> <td>7e-05  </td> <td>7e-05  </td> <td>0.5 </td> <td>99540 </td> <td>7   </td> <td>99536</td> <td>7840003</td> <td>78.76</td> <td>-9.56702</td>\n",
       "        </tr>\n",
       "    </tbody>\n",
       "        <tr>\n",
       "            <td>CA     </td> <td>f   </td> <td>2015</td> <td>6   </td> <td>0.0001 </td> <td>0.0001 </td> <td>0.5 </td> <td>99533 </td> <td>10  </td> <td>99528</td> <td>7740467</td> <td>77.77</td> <td>-9.21034</td>\n",
       "        </tr>\n",
       "    </tbody>\n",
       "        <tr>\n",
       "            <td>CA     </td> <td>f   </td> <td>2015</td> <td>7   </td> <td>6e-05  </td> <td>6e-05  </td> <td>0.5 </td> <td>99523 </td> <td>6   </td> <td>99520</td> <td>7640939</td> <td>76.78</td> <td>-9.72117</td>\n",
       "        </tr>\n",
       "    </tbody>\n",
       "        <tr>\n",
       "            <td>CA     </td> <td>f   </td> <td>2015</td> <td>8   </td> <td>4e-05  </td> <td>4e-05  </td> <td>0.5 </td> <td>99517 </td> <td>4   </td> <td>99514</td> <td>7541419</td> <td>75.78</td> <td>-10.1266</td>\n",
       "        </tr>\n",
       "    </tbody>\n",
       "        <tr>\n",
       "            <td>CA     </td> <td>f   </td> <td>2015</td> <td>9   </td> <td>6e-05  </td> <td>6e-05  </td> <td>0.5 </td> <td>99512 </td> <td>6   </td> <td>99509</td> <td>7441905</td> <td>74.78</td> <td>-9.72117</td>\n",
       "        </tr>\n",
       "    </tbody>\n",
       "</table>\n",
       "<p>... (100 rows omitted)</p"
      ],
      "text/plain": [
       "PopName | Sex  | Year | Age  | mx      | qx      | ax   | lx     | dx   | Lx    | Tx      | ex    | logmx\n",
       "CA      | f    | 2015 | 0    | 0.00398 | 0.00396 | 0.06 | 100000 | 396  | 99629 | 8337899 | 83.38 | -5.52647\n",
       "CA      | f    | 2015 | 1    | 0.00024 | 0.00024 | 0.5  | 99604  | 24   | 99592 | 8238270 | 82.71 | -8.33487\n",
       "CA      | f    | 2015 | 2    | 0.00014 | 0.00014 | 0.5  | 99580  | 14   | 99572 | 8138678 | 81.73 | -8.87387\n",
       "CA      | f    | 2015 | 3    | 0.00015 | 0.00015 | 0.5  | 99565  | 15   | 99558 | 8039106 | 80.74 | -8.80488\n",
       "CA      | f    | 2015 | 4    | 0.00011 | 0.00011 | 0.5  | 99550  | 11   | 99545 | 7939548 | 79.75 | -9.11503\n",
       "CA      | f    | 2015 | 5    | 7e-05   | 7e-05   | 0.5  | 99540  | 7    | 99536 | 7840003 | 78.76 | -9.56702\n",
       "CA      | f    | 2015 | 6    | 0.0001  | 0.0001  | 0.5  | 99533  | 10   | 99528 | 7740467 | 77.77 | -9.21034\n",
       "CA      | f    | 2015 | 7    | 6e-05   | 6e-05   | 0.5  | 99523  | 6    | 99520 | 7640939 | 76.78 | -9.72117\n",
       "CA      | f    | 2015 | 8    | 4e-05   | 4e-05   | 0.5  | 99517  | 4    | 99514 | 7541419 | 75.78 | -10.1266\n",
       "CA      | f    | 2015 | 9    | 6e-05   | 6e-05   | 0.5  | 99512  | 6    | 99509 | 7441905 | 74.78 | -9.72117\n",
       "... (100 rows omitted)"
      ]
     },
     "execution_count": 21,
     "metadata": {},
     "output_type": "execute_result"
    }
   ],
   "source": [
    "## SOLUTION\n",
    "ca_f_lt # print the first few rows of the life table to compare"
   ]
  },
  {
   "cell_type": "markdown",
   "metadata": {},
   "source": [
    "We most often discuss life expectancy at birth, but life expectancy can be calculated at any age; the *ex* column of the life table has the expected number of years of life to be lived above each age.\n",
    "\n",
    "**Question: Plot life expectancy by age**"
   ]
  },
  {
   "cell_type": "code",
   "execution_count": null,
   "metadata": {},
   "outputs": [],
   "source": [
    "..."
   ]
  },
  {
   "cell_type": "code",
   "execution_count": 22,
   "metadata": {},
   "outputs": [
    {
     "data": {
      "image/png": "[encoded data removed]",
      "text/plain": [
       "<matplotlib.figure.Figure at 0x122aeaef0>"
      ]
     },
     "metadata": {},
     "output_type": "display_data"
    }
   ],
   "source": [
    "## SOLUTION\n",
    "ca_f_lt.plot('Age', 'ex')"
   ]
  },
  {
   "cell_type": "markdown",
   "metadata": {},
   "source": [
    "**Does anything surprise you about the plot of life expectancy by age?**"
   ]
  },
  {
   "cell_type": "markdown",
   "metadata": {},
   "source": [
    "[Answer here]"
   ]
  },
  {
   "cell_type": "markdown",
   "metadata": {},
   "source": [
    "## Comparing California and another state"
   ]
  },
  {
   "cell_type": "markdown",
   "metadata": {},
   "source": [
    "**Question: Now plot the dx column of the life table for New Hampshire females in 2015.**  \n",
    "*[NOTE: naturally, you will have to open the life table before you can plot it]*"
   ]
  },
  {
   "cell_type": "code",
   "execution_count": null,
   "metadata": {},
   "outputs": [],
   "source": [
    "..."
   ]
  },
  {
   "cell_type": "code",
   "execution_count": 23,
   "metadata": {},
   "outputs": [
    {
     "data": {
      "image/png": "[encoded data removed]",
      "text/plain": [
       "<matplotlib.figure.Figure at 0x122fa9588>"
      ]
     },
     "metadata": {},
     "output_type": "display_data"
    }
   ],
   "source": [
    "## SOLUTION\n",
    "nh_f_lt = get_state_lt('NH', 'f', 2015)\n",
    "nh_f_lt\n",
    "nh_f_lt.plot('Age', 'dx')"
   ]
  },
  {
   "cell_type": "markdown",
   "metadata": {},
   "source": [
    "**Question: ... and calculate the log death rates and plot them by age for NH females as well.**"
   ]
  },
  {
   "cell_type": "code",
   "execution_count": null,
   "metadata": {},
   "outputs": [],
   "source": [
    "nh_f_lt = nh_f_lt.with_column('logmx', ...)\n",
    "nh_f_lt.plot(...)"
   ]
  },
  {
   "cell_type": "code",
   "execution_count": 24,
   "metadata": {},
   "outputs": [
    {
     "name": "stderr",
     "output_type": "stream",
     "text": [
      "//anaconda/lib/python3.5/site-packages/ipykernel/__main__.py:2: RuntimeWarning: divide by zero encountered in log\n",
      "  from ipykernel import kernelapp as app\n"
     ]
    },
    {
     "data": {
      "image/png": "[encoded data removed]",
      "text/plain": [
       "<matplotlib.figure.Figure at 0x1236f5f28>"
      ]
     },
     "metadata": {},
     "output_type": "display_data"
    }
   ],
   "source": [
    "## SOLUTION\n",
    "nh_f_lt = nh_f_lt.with_column('logmx', np.log(nh_f_lt.column('mx')))\n",
    "nh_f_lt.plot(\"Age\", \"logmx\")"
   ]
  },
  {
   "cell_type": "markdown",
   "metadata": {},
   "source": [
    "**Question: What difference do you notice between the plots for NH females and the analogous plots you made earlier for CA females? What might explain this difference?**"
   ]
  },
  {
   "cell_type": "markdown",
   "metadata": {},
   "source": [
    "[answer here]"
   ]
  },
  {
   "cell_type": "markdown",
   "metadata": {},
   "source": [
    "[SOLUTION]\n",
    "A big difference is that the curves are much less smooth for NH than they were for CA. That is likely due to the fact that NH is much smaller than California, meaning that the death rate for each age is likely to be more susceptible to random variation."
   ]
  },
  {
   "cell_type": "markdown",
   "metadata": {},
   "source": [
    "**Question: What similarities do you notice between the plot for NH females and the plot you made earlier for CA females?**"
   ]
  },
  {
   "cell_type": "markdown",
   "metadata": {},
   "source": [
    "[answer here]"
   ]
  },
  {
   "cell_type": "markdown",
   "metadata": {},
   "source": [
    "[SOLUTION] Taking dx as an example, both plots have the same general shape: there is an uptick at age 0, followed by a sharp decline to around age 10 or 15; then there's a smooth increase up to a single peak a little above age 80, and a decline after that."
   ]
  },
  {
   "cell_type": "markdown",
   "metadata": {},
   "source": [
    "## Comparing males and females"
   ]
  },
  {
   "cell_type": "markdown",
   "metadata": {},
   "source": [
    "Now we'll start to compare some life table quantities for males and for females."
   ]
  },
  {
   "cell_type": "markdown",
   "metadata": {},
   "source": [
    "**Question: Get the life tables for California males and females in 2015**"
   ]
  },
  {
   "cell_type": "code",
   "execution_count": null,
   "metadata": {},
   "outputs": [],
   "source": [
    "ca_lt_f = ...\n",
    "ca_lt_m = ..."
   ]
  },
  {
   "cell_type": "code",
   "execution_count": 25,
   "metadata": {},
   "outputs": [],
   "source": [
    "## SOLUTION\n",
    "ca_lt_f = get_state_lt('CA', 'f', 2015)\n",
    "ca_lt_m = get_state_lt('CA', 'm', 2015)"
   ]
  },
  {
   "cell_type": "markdown",
   "metadata": {},
   "source": [
    "**Question: Now make a new table whose colums are 'Age', 'Males' (with male ex column), and 'Females' (with female ex column)**"
   ]
  },
  {
   "cell_type": "code",
   "execution_count": null,
   "metadata": {},
   "outputs": [],
   "source": [
    "ca_lt_ex = Table().with_columns('Age', ...,\n",
    "                                'Males', ...,\n",
    "                                'Females', ...)\n",
    "ca_lt_ex"
   ]
  },
  {
   "cell_type": "code",
   "execution_count": 26,
   "metadata": {},
   "outputs": [
    {
     "data": {
      "text/html": [
       "<table border=\"1\" class=\"dataframe\">\n",
       "    <thead>\n",
       "        <tr>\n",
       "            <th>Age</th> <th>Males</th> <th>Females</th>\n",
       "        </tr>\n",
       "    </thead>\n",
       "    <tbody>\n",
       "        <tr>\n",
       "            <td>0   </td> <td>78.75</td> <td>83.38  </td>\n",
       "        </tr>\n",
       "    </tbody>\n",
       "        <tr>\n",
       "            <td>1   </td> <td>78.12</td> <td>82.71  </td>\n",
       "        </tr>\n",
       "    </tbody>\n",
       "        <tr>\n",
       "            <td>2   </td> <td>77.15</td> <td>81.73  </td>\n",
       "        </tr>\n",
       "    </tbody>\n",
       "        <tr>\n",
       "            <td>3   </td> <td>76.16</td> <td>80.74  </td>\n",
       "        </tr>\n",
       "    </tbody>\n",
       "        <tr>\n",
       "            <td>4   </td> <td>75.17</td> <td>79.75  </td>\n",
       "        </tr>\n",
       "    </tbody>\n",
       "        <tr>\n",
       "            <td>5   </td> <td>74.18</td> <td>78.76  </td>\n",
       "        </tr>\n",
       "    </tbody>\n",
       "        <tr>\n",
       "            <td>6   </td> <td>73.18</td> <td>77.77  </td>\n",
       "        </tr>\n",
       "    </tbody>\n",
       "        <tr>\n",
       "            <td>7   </td> <td>72.19</td> <td>76.78  </td>\n",
       "        </tr>\n",
       "    </tbody>\n",
       "        <tr>\n",
       "            <td>8   </td> <td>71.2 </td> <td>75.78  </td>\n",
       "        </tr>\n",
       "    </tbody>\n",
       "        <tr>\n",
       "            <td>9   </td> <td>70.2 </td> <td>74.78  </td>\n",
       "        </tr>\n",
       "    </tbody>\n",
       "</table>\n",
       "<p>... (100 rows omitted)</p"
      ],
      "text/plain": [
       "Age  | Males | Females\n",
       "0    | 78.75 | 83.38\n",
       "1    | 78.12 | 82.71\n",
       "2    | 77.15 | 81.73\n",
       "3    | 76.16 | 80.74\n",
       "4    | 75.17 | 79.75\n",
       "5    | 74.18 | 78.76\n",
       "6    | 73.18 | 77.77\n",
       "7    | 72.19 | 76.78\n",
       "8    | 71.2  | 75.78\n",
       "9    | 70.2  | 74.78\n",
       "... (100 rows omitted)"
      ]
     },
     "execution_count": 26,
     "metadata": {},
     "output_type": "execute_result"
    }
   ],
   "source": [
    "## SOLUTION\n",
    "ca_lt_ex = Table().with_columns('Age', ca_lt_f['Age'],\n",
    "                                   'Males', ca_lt_m['ex'],\n",
    "                                   'Females', ca_lt_f['ex'])\n",
    "ca_lt_ex"
   ]
  },
  {
   "cell_type": "code",
   "execution_count": 27,
   "metadata": {},
   "outputs": [
    {
     "name": "stdout",
     "output_type": "stream",
     "text": [
      "~~~~~~~~~~~~~~~~~~~~~~~~~~~~~~~~~~~~~~~~~~~~~~~~~~~~~~~~~~~~~~~~~~~~~\n",
      "Running tests\n",
      "\n",
      "---------------------------------------------------------------------\n",
      "Test summary\n",
      "    Passed: 4\n",
      "    Failed: 0\n",
      "[ooooooooook] 100.0% passed\n",
      "\n"
     ]
    }
   ],
   "source": [
    "_ = lab01.grade('test_manual_mf_compare')"
   ]
  },
  {
   "cell_type": "markdown",
   "metadata": {},
   "source": [
    "**Question: Plot the male and female ex column by age (both males and females in one plot)**"
   ]
  },
  {
   "cell_type": "code",
   "execution_count": null,
   "metadata": {},
   "outputs": [],
   "source": [
    "..."
   ]
  },
  {
   "cell_type": "code",
   "execution_count": 28,
   "metadata": {},
   "outputs": [
    {
     "data": {
      "image/png": "[encoded data removed]",
      "text/plain": [
       "<matplotlib.figure.Figure at 0x123728550>"
      ]
     },
     "metadata": {},
     "output_type": "display_data"
    }
   ],
   "source": [
    "## SOLUTION\n",
    "ca_lt_ex.plot('Age')"
   ]
  },
  {
   "cell_type": "markdown",
   "metadata": {},
   "source": [
    "Now we'll generalize the approach above so that it is a function. Our function will be able to plot a comparison between males and females for any life table column. This will save us lots of time, and it's a good example of how writing functions can be helpful."
   ]
  },
  {
   "cell_type": "markdown",
   "metadata": {},
   "source": [
    "**Question: Complete the missing parts of the function below**"
   ]
  },
  {
   "cell_type": "code",
   "execution_count": null,
   "metadata": {},
   "outputs": [],
   "source": [
    "def mf_compare(state, year, col):\n",
    "    \"\"\"\n",
    "    For a given life table column, state, and year, make a plot comparing males and females.\n",
    "    \"\"\"\n",
    "\n",
    "    # open the data for males and females\n",
    "    lt_m = ...\n",
    "    lt_f = ...\n",
    "    \n",
    "    # make a dataframe that has the male ad female values together\n",
    "    lt_comp = Table().with_columns('Age', lt_f['Age'],\n",
    "                                   'Males', ...,\n",
    "                                   'Females', ...)\n",
    "    \n",
    "    return(lt_comp)"
   ]
  },
  {
   "cell_type": "code",
   "execution_count": 29,
   "metadata": {},
   "outputs": [],
   "source": [
    "## SOLUTION\n",
    "def mf_compare(state, year, col):\n",
    "    \"\"\"\n",
    "    For a given life table column, state, and year, make a plot comparing males and females.\n",
    "    \"\"\"\n",
    "\n",
    "    # open the data for males and females\n",
    "    lt_m = get_state_lt(state, 'm', year)\n",
    "    lt_f = get_state_lt(state, 'f', year)\n",
    "    \n",
    "    # make a dataframe that has the male ad female values together\n",
    "    lt_comp = Table().with_columns('Age', lt_f['Age'],\n",
    "                                   'Males', lt_m[col],\n",
    "                                   'Females', lt_f[col])\n",
    "    \n",
    "    return(lt_comp)"
   ]
  },
  {
   "cell_type": "markdown",
   "metadata": {},
   "source": [
    "**Question: Now use the `mf_compare` function to compare the life table age at death (the dx column) for males and females in California in 2015**"
   ]
  },
  {
   "cell_type": "code",
   "execution_count": null,
   "metadata": {},
   "outputs": [],
   "source": [
    "ca_compare_dx = mf_compare(...)\n",
    "ca_compare_dx.plot(\"Age\")"
   ]
  },
  {
   "cell_type": "code",
   "execution_count": 30,
   "metadata": {},
   "outputs": [
    {
     "data": {
      "image/png": "[encoded data removed]",
      "text/plain": [
       "<matplotlib.figure.Figure at 0x122fa0320>"
      ]
     },
     "metadata": {},
     "output_type": "display_data"
    }
   ],
   "source": [
    "## SOLUTION\n",
    "ca_compare_dx = mf_compare('CA', 2015, 'dx')\n",
    "ca_compare_dx.plot(\"Age\")"
   ]
  },
  {
   "cell_type": "code",
   "execution_count": 31,
   "metadata": {},
   "outputs": [
    {
     "name": "stdout",
     "output_type": "stream",
     "text": [
      "~~~~~~~~~~~~~~~~~~~~~~~~~~~~~~~~~~~~~~~~~~~~~~~~~~~~~~~~~~~~~~~~~~~~~\n",
      "Running tests\n",
      "\n",
      "---------------------------------------------------------------------\n",
      "Test summary\n",
      "    Passed: 2\n",
      "    Failed: 0\n",
      "[ooooooooook] 100.0% passed\n",
      "\n"
     ]
    }
   ],
   "source": [
    "_ = lab01.grade('test_mf_compare_dx')"
   ]
  },
  {
   "cell_type": "markdown",
   "metadata": {},
   "source": [
    "**Question: Pick two other states and use the `mf_compare` function to compare the life table age at death (the dx column) for males and females in those two states**"
   ]
  },
  {
   "cell_type": "code",
   "execution_count": null,
   "metadata": {},
   "outputs": [],
   "source": [
    "# first state\n",
    "..."
   ]
  },
  {
   "cell_type": "code",
   "execution_count": null,
   "metadata": {},
   "outputs": [],
   "source": [
    "# second state\n",
    "..."
   ]
  },
  {
   "cell_type": "code",
   "execution_count": 32,
   "metadata": {},
   "outputs": [
    {
     "data": {
      "text/html": [
       "<table border=\"1\" class=\"dataframe\">\n",
       "    <thead>\n",
       "        <tr>\n",
       "            <th>Age</th> <th>Males</th> <th>Females</th>\n",
       "        </tr>\n",
       "    </thead>\n",
       "    <tbody>\n",
       "        <tr>\n",
       "            <td>0   </td> <td>604  </td> <td>533    </td>\n",
       "        </tr>\n",
       "    </tbody>\n",
       "        <tr>\n",
       "            <td>1   </td> <td>52   </td> <td>38     </td>\n",
       "        </tr>\n",
       "    </tbody>\n",
       "        <tr>\n",
       "            <td>2   </td> <td>33   </td> <td>25     </td>\n",
       "        </tr>\n",
       "    </tbody>\n",
       "        <tr>\n",
       "            <td>3   </td> <td>22   </td> <td>19     </td>\n",
       "        </tr>\n",
       "    </tbody>\n",
       "        <tr>\n",
       "            <td>4   </td> <td>16   </td> <td>8      </td>\n",
       "        </tr>\n",
       "    </tbody>\n",
       "        <tr>\n",
       "            <td>5   </td> <td>18   </td> <td>11     </td>\n",
       "        </tr>\n",
       "    </tbody>\n",
       "        <tr>\n",
       "            <td>6   </td> <td>19   </td> <td>12     </td>\n",
       "        </tr>\n",
       "    </tbody>\n",
       "        <tr>\n",
       "            <td>7   </td> <td>13   </td> <td>11     </td>\n",
       "        </tr>\n",
       "    </tbody>\n",
       "        <tr>\n",
       "            <td>8   </td> <td>14   </td> <td>12     </td>\n",
       "        </tr>\n",
       "    </tbody>\n",
       "        <tr>\n",
       "            <td>9   </td> <td>11   </td> <td>5      </td>\n",
       "        </tr>\n",
       "    </tbody>\n",
       "</table>\n",
       "<p>... (100 rows omitted)</p"
      ],
      "text/plain": [
       "Age  | Males | Females\n",
       "0    | 604   | 533\n",
       "1    | 52    | 38\n",
       "2    | 33    | 25\n",
       "3    | 22    | 19\n",
       "4    | 16    | 8\n",
       "5    | 18    | 11\n",
       "6    | 19    | 12\n",
       "7    | 13    | 11\n",
       "8    | 14    | 12\n",
       "9    | 11    | 5\n",
       "... (100 rows omitted)"
      ]
     },
     "execution_count": 32,
     "metadata": {},
     "output_type": "execute_result"
    }
   ],
   "source": [
    "## SOLUTION\n",
    "# first state\n",
    "mf_compare('TX', 2015, 'dx')"
   ]
  },
  {
   "cell_type": "code",
   "execution_count": 33,
   "metadata": {},
   "outputs": [
    {
     "data": {
      "text/html": [
       "<table border=\"1\" class=\"dataframe\">\n",
       "    <thead>\n",
       "        <tr>\n",
       "            <th>Age</th> <th>Males</th> <th>Females</th>\n",
       "        </tr>\n",
       "    </thead>\n",
       "    <tbody>\n",
       "        <tr>\n",
       "            <td>0   </td> <td>514  </td> <td>312    </td>\n",
       "        </tr>\n",
       "    </tbody>\n",
       "        <tr>\n",
       "            <td>1   </td> <td>0    </td> <td>32     </td>\n",
       "        </tr>\n",
       "    </tbody>\n",
       "        <tr>\n",
       "            <td>2   </td> <td>60   </td> <td>0      </td>\n",
       "        </tr>\n",
       "    </tbody>\n",
       "        <tr>\n",
       "            <td>3   </td> <td>0    </td> <td>31     </td>\n",
       "        </tr>\n",
       "    </tbody>\n",
       "        <tr>\n",
       "            <td>4   </td> <td>0    </td> <td>0      </td>\n",
       "        </tr>\n",
       "    </tbody>\n",
       "        <tr>\n",
       "            <td>5   </td> <td>14   </td> <td>0      </td>\n",
       "        </tr>\n",
       "    </tbody>\n",
       "        <tr>\n",
       "            <td>6   </td> <td>28   </td> <td>15     </td>\n",
       "        </tr>\n",
       "    </tbody>\n",
       "        <tr>\n",
       "            <td>7   </td> <td>0    </td> <td>14     </td>\n",
       "        </tr>\n",
       "    </tbody>\n",
       "        <tr>\n",
       "            <td>8   </td> <td>0    </td> <td>14     </td>\n",
       "        </tr>\n",
       "    </tbody>\n",
       "        <tr>\n",
       "            <td>9   </td> <td>13   </td> <td>0      </td>\n",
       "        </tr>\n",
       "    </tbody>\n",
       "</table>\n",
       "<p>... (100 rows omitted)</p"
      ],
      "text/plain": [
       "Age  | Males | Females\n",
       "0    | 514   | 312\n",
       "1    | 0     | 32\n",
       "2    | 60    | 0\n",
       "3    | 0     | 31\n",
       "4    | 0     | 0\n",
       "5    | 14    | 0\n",
       "6    | 28    | 15\n",
       "7    | 0     | 14\n",
       "8    | 0     | 14\n",
       "9    | 13    | 0\n",
       "... (100 rows omitted)"
      ]
     },
     "execution_count": 33,
     "metadata": {},
     "output_type": "execute_result"
    }
   ],
   "source": [
    "## SOLUTION\n",
    "# second state\n",
    "mf_compare('NH', 2015, 'dx')"
   ]
  },
  {
   "cell_type": "markdown",
   "metadata": {},
   "source": [
    "**Question** The general shape of the male/female differences is probably reasonably similar across the three states you examined. What do you notice about male versus female ages at death across all three states?"
   ]
  },
  {
   "cell_type": "markdown",
   "metadata": {},
   "source": [
    "[Answer here]"
   ]
  },
  {
   "cell_type": "markdown",
   "metadata": {},
   "source": [
    "[SOLUTION]  \n",
    "Females tend to die older AND there seems to be more variation in the age at death for males than for females (i.e., the age at death distribution is more spread out for males than for females)"
   ]
  },
  {
   "cell_type": "markdown",
   "metadata": {},
   "source": [
    "### SUBMIT your assignment by MIDNIGHT on the day of class"
   ]
  },
  {
   "cell_type": "markdown",
   "metadata": {},
   "source": [
    "Please submit your lab in **two ways** this first time:\n",
    "\n",
    "1. **Run the cell below**, which will submit via OkPy. You can submit as many times as you want, up to midnight on the day of class.\n",
    "2. As a backup, please **also submit on bCourses** by uploading the .ipynb file\n"
   ]
  },
  {
   "cell_type": "code",
   "execution_count": null,
   "metadata": {},
   "outputs": [
    {
     "data": {
      "application/javascript": [
       "IPython.notebook.save_checkpoint();"
      ],
      "text/plain": [
       "<IPython.core.display.Javascript object>"
      ]
     },
     "metadata": {},
     "output_type": "display_data"
    },
    {
     "data": {
      "application/javascript": [
       "IPython.notebook.save_notebook();"
      ],
      "text/plain": [
       "<IPython.core.display.Javascript object>"
      ]
     },
     "metadata": {},
     "output_type": "display_data"
    },
    {
     "name": "stdout",
     "output_type": "stream",
     "text": [
      "Saving notebook... Could not save your notebook. Make sure your notebook is saved before sending it to OK!\n",
      "Submit... 100% complete\n",
      "Submission successful for user: feehan@berkeley.edu\n",
      "URL: https://okpy.org/cal/ls88_2/fa18/lab01/submissions/G5w09r\n",
      "\n"
     ]
    }
   ],
   "source": [
    "_ = lab01.submit()"
   ]
  },
  {
   "cell_type": "markdown",
   "metadata": {},
   "source": [
    "## Optional challenge problems: Exploring cross-state variation"
   ]
  },
  {
   "cell_type": "markdown",
   "metadata": {},
   "source": [
    "**Question** If you have extra time, see if you can figure out   \n",
    "(a) which state has the highest female life expectancy in 2015?  \n",
    "(b) which state has the lowest female life expectancy in 2015?  \n",
    "What might explain the variation in female life expectancy that you observe?"
   ]
  },
  {
   "cell_type": "code",
   "execution_count": null,
   "metadata": {},
   "outputs": [],
   "source": [
    "..."
   ]
  },
  {
   "cell_type": "code",
   "execution_count": null,
   "metadata": {},
   "outputs": [],
   "source": [
    "## SOLUTION\n",
    "# make a Table to keep track of results\n",
    "state_e0 = Table(make_array('state', 'e0'))\n",
    "\n",
    "# go through each state and get life expectancy at birth for females in 2015; record the results in the table\n",
    "for cur_state in all_states:\n",
    "    cur_lt = get_state_lt(cur_state, 'f', 2015)\n",
    "    state_e0 = state_e0.with_row([cur_state, cur_lt.column('ex')[0]])\n",
    "\n",
    "# sort the table by e0 to see which is highest and lowest\n",
    "state_e0.sort('e0').show()"
   ]
  },
  {
   "cell_type": "markdown",
   "metadata": {},
   "source": [
    "[SOLUTION]  \n",
    "Highest female le in 2015: Hawaii (84.21)  \n",
    "Lowest female le in 2015: Mississippi (77.68)\n",
    "\n",
    "The gap is about 6.5 years"
   ]
  },
  {
   "cell_type": "markdown",
   "metadata": {},
   "source": [
    "**Question** If you **still** have extra time, see if you can figure out which state has the biggest gap between male and female life expectancies."
   ]
  },
  {
   "cell_type": "code",
   "execution_count": null,
   "metadata": {},
   "outputs": [],
   "source": [
    "..."
   ]
  },
  {
   "cell_type": "code",
   "execution_count": null,
   "metadata": {},
   "outputs": [],
   "source": [
    "## SOLUTION\n",
    "# make a Table to keep track of results\n",
    "state_e0_gap = Table(make_array('state', 'e0_m', 'e0_f', 'e0_gap'))\n",
    "\n",
    "# go through each state and get life expectancy at birth for females in 2015; record the results in the table\n",
    "for cur_state in all_states:\n",
    "    cur_lt_f = get_state_lt(cur_state, 'f', 2015)\n",
    "    cur_e0_f = cur_lt_f.column('ex')[0]\n",
    "    \n",
    "    cur_lt_m = get_state_lt(cur_state, 'm', 2015)\n",
    "    cur_e0_m = cur_lt_m.column('ex')[0]\n",
    "    \n",
    "    state_e0_gap = state_e0_gap.with_row([cur_state, cur_e0_f, cur_e0_m, cur_e0_f - cur_e0_m])\n",
    "\n",
    "# sort the table by e0 to see which is highest and lowest\n",
    "state_e0_gap.sort('e0_gap').show()"
   ]
  },
  {
   "cell_type": "markdown",
   "metadata": {},
   "source": [
    "[SOLUTION]  \n",
    "Highest gap is DC (6.14 years)  \n",
    "Lowest gap is Utah (3.34 years) . "
   ]
  },
  {
   "cell_type": "markdown",
   "metadata": {},
   "source": [
    "### Don't forget to SUBMIT your assignment by MIDNIGHT on the day of class"
   ]
  },
  {
   "cell_type": "markdown",
   "metadata": {},
   "source": [
    "If you attempted the challenge questions, great! Be sure to submit afterwards using the instructions in the cell above."
   ]
  }
 ],
 "metadata": {
  "anaconda-cloud": {},
  "kernelspec": {
   "display_name": "Python [default]",
   "language": "python",
   "name": "python3"
  },
  "language_info": {
   "codemirror_mode": {
    "name": "ipython",
    "version": 3
   },
   "file_extension": ".py",
   "mimetype": "text/x-python",
   "name": "python",
   "nbconvert_exporter": "python",
   "pygments_lexer": "ipython3",
   "version": "3.5.2"
  }
 },
 "nbformat": 4,
 "nbformat_minor": 1
}

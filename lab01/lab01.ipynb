{
 "cells": [
  {
   "cell_type": "code",
   "execution_count": null,
   "metadata": {},
   "outputs": [],
   "source": [
    "from IPython.core.display import HTML\n",
    "from datascience import *\n",
    "\n",
    "import matplotlib\n",
    "matplotlib.use('Agg')\n",
    "%matplotlib inline\n",
    "import matplotlib.pyplot as plt\n",
    "import numpy as np\n",
    "import os\n",
    "plt.style.use('fivethirtyeight')\n",
    "\n",
    "import pandas as pd\n",
    "import zipfile\n",
    "import io\n",
    "import math\n",
    "\n",
    "def css_styling():\n",
    "    styles = open('../notebook_styles.css', 'r').read()\n",
    "    return HTML(styles)\n",
    "css_styling()"
   ]
  },
  {
   "cell_type": "code",
   "execution_count": null,
   "metadata": {},
   "outputs": [
    {
     "name": "stdout",
     "output_type": "stream",
     "text": [
      "=====================================================================\n",
      "Assignment: L&S88-02: Lab 01\n",
      "OK, version v1.12.5\n",
      "=====================================================================\n",
      "\n"
     ]
    }
   ],
   "source": [
    "#Loading testing data\n",
    "from client.api.notebook import Notebook \n",
    "lab01 = Notebook('lab01.ok')\n",
    "_ = lab01.auth(inline=True)"
   ]
  },
  {
   "cell_type": "markdown",
   "metadata": {},
   "source": [
    "# Lab 01 - Life and death in the United States"
   ]
  },
  {
   "cell_type": "markdown",
   "metadata": {},
   "source": [
    "## Speedy review of life tables"
   ]
  },
  {
   "cell_type": "markdown",
   "metadata": {},
   "source": [
    "Last class, you learned some of the basics of the **period life table**. The period life table is a key concept in the study of mortality."
   ]
  },
  {
   "cell_type": "markdown",
   "metadata": {},
   "source": [
    "Let's quickly review some of the material that Denys covered in the guest lecture last week."
   ]
  },
  {
   "cell_type": "markdown",
   "metadata": {},
   "source": [
    "**Life table concepts, columns and notation**\n",
    "\n",
    "The life tables we'll work with today describe the experience of hypothetical cohort of people who start at age 0. The mortality experience of this hypothetical cohort is given by observed mortality in a real world population (e.g. a U.S. state).  The number of people who start at age 0 in the hypothetical cohort is called the **radix**; today, we'll use life tables that have a couple of important properties:\n",
    "\n",
    "* the radix is 100,000 people\n",
    "* the width of all of the age intervals is 1\n",
    "\n",
    "With that in mind, we'll use the following names for the columns of the life table:\n",
    "\n",
    "* `lx` - the number of people who survive to exact age $x$ (called $l_x$ in mathematical notation)\n",
    "* `dx` - the number of deaths between ages $x$ and $x + 1$ (called ${}_nd_x$ in mathematical notation)\n",
    "* `qx` - the probability of dying between ages $x$ and $x+1$, given survival to age $x$ (called ${}_nq_x$ in mathematical notation)\n",
    "* `mx` - the death *rate* between ages $x$ and $x+1$ in the life table population (called ${}_nm_x$ in mathematical notation)\n",
    "* `Lx` - the number of person-years lived between ages $x$ and $x + 1$ by people in the life table population (called ${}_nL_x$ in mathematical notation)\n",
    "* `ax` - the average number of years lived *among people who die* in the interval from $x$ to $x + 1$ (called ${}_na_x$ in mathematical notation)\n",
    "* `Tx` - the total number of person-years lived above exact age $x$ (called $T_x$ in mathematical notation)\n",
    "* `ex` - the (remaining) life expectancy at exact age $x$ (called $e_x$ in mathematical notation)\n"
   ]
  },
  {
   "cell_type": "markdown",
   "metadata": {},
   "source": [
    "## Introductions"
   ]
  },
  {
   "cell_type": "markdown",
   "metadata": {},
   "source": [
    "**What is your partner's name?**"
   ]
  },
  {
   "cell_type": "markdown",
   "metadata": {},
   "source": [
    "[ANSWER HERE]"
   ]
  },
  {
   "cell_type": "markdown",
   "metadata": {},
   "source": [
    "**Which U.S. State has your partner spent the most time in?**"
   ]
  },
  {
   "cell_type": "markdown",
   "metadata": {},
   "source": [
    "[ANSWER HERE]"
   ]
  },
  {
   "cell_type": "markdown",
   "metadata": {},
   "source": [
    "**Which U.S. State would your partner most like to visit in the future?**"
   ]
  },
  {
   "cell_type": "markdown",
   "metadata": {},
   "source": [
    "[ANSWER HERE]"
   ]
  },
  {
   "cell_type": "markdown",
   "metadata": {},
   "source": [
    "Let's start with a couple of questions that will check your understanding of life tables. (Be sure to discuss these with your parnter.)"
   ]
  },
  {
   "cell_type": "markdown",
   "metadata": {},
   "source": [
    "**Question** What is another name for $l_0$?"
   ]
  },
  {
   "cell_type": "markdown",
   "metadata": {},
   "source": [
    "[ANSWER HERE]"
   ]
  },
  {
   "cell_type": "markdown",
   "metadata": {},
   "source": [
    "**Question** What is the relationship between `Lx`, `ax`, and `dx`?"
   ]
  },
  {
   "cell_type": "markdown",
   "metadata": {},
   "source": [
    "[ANSWER HERE]"
   ]
  },
  {
   "cell_type": "markdown",
   "metadata": {},
   "source": [
    "**Question** How can life expectancy at age $x$ be calculated from other columns in the life table?"
   ]
  },
  {
   "cell_type": "markdown",
   "metadata": {},
   "source": [
    "[ANSWER HERE]"
   ]
  },
  {
   "cell_type": "markdown",
   "metadata": {},
   "source": [
    " "
   ]
  },
  {
   "cell_type": "markdown",
   "metadata": {},
   "source": [
    "Great -- good to review!\n",
    "\n",
    "Moving forward, in today's class, we'll start to use what we learned last week by exploring life tables for the US states. Our goals are:\n",
    "\n",
    "* to build our understanding of life tables\n",
    "* to start to recognize some characteristic patterns of mortality in human populations\n",
    "* to investigate how different human populations vary in terms of mortality\n",
    "* to get some practice using the tools you're learning in Data 8"
   ]
  },
  {
   "cell_type": "markdown",
   "metadata": {},
   "source": [
    " "
   ]
  },
  {
   "cell_type": "markdown",
   "metadata": {},
   "source": [
    "### The US Mortality Database"
   ]
  },
  {
   "cell_type": "markdown",
   "metadata": {},
   "source": [
    "We'll be looking at life tables from the [United States Mortality Database](https://usa.mortality.org/), a brand-new resource that was produced by researchers here at UC Berkeley, along with collaborators at INED (the French Demographic institute) and the UN. The USMD has life tables for each US state starting several decades in the past, and going up to 2015.\n",
    "\n",
    "You have signed up for access to the USMD as part of the first homework."
   ]
  },
  {
   "cell_type": "markdown",
   "metadata": {},
   "source": [
    "Since we will be looking at life tables for different US States, it will be helpful to have a list that has all of the two-letter  codes for the 50 states and for Washington, D.C."
   ]
  },
  {
   "cell_type": "code",
   "execution_count": null,
   "metadata": {},
   "outputs": [],
   "source": [
    "## all of the state codes\n",
    "all_states = \\\n",
    "       ['AK', 'AL', 'AR', 'AZ', 'CA', 'CO', 'CT', 'DC', 'DE', 'FL', 'GA',\\\n",
    "       'HI', 'IA', 'ID', 'IL', 'IN', 'KS', 'KY', 'LA', 'MA', 'MD', 'ME',\\\n",
    "       'MI', 'MN', 'MO', 'MS', 'MT', 'NC', 'ND', 'NE', 'NH', 'NJ', 'NM',\\\n",
    "       'NV', 'NY', 'OH', 'OK', 'OR', 'PA', 'RI', 'SC', 'SD', 'TN', 'TX',\\\n",
    "       'UT', 'VA', 'VT', 'WA', 'WI', 'WV', 'WY']"
   ]
  },
  {
   "cell_type": "markdown",
   "metadata": {},
   "source": [
    "In order to make it easier to read in data from the USMD, I've written a simple function, `get_state_lt`. Look at the function and try to get a sense for how it works. (It's OK if you don't understand every detail at this point.)"
   ]
  },
  {
   "cell_type": "code",
   "execution_count": null,
   "metadata": {},
   "outputs": [],
   "source": [
    "def get_state_lt(state_code, sex_code, year = None):\n",
    "    \"\"\"\n",
    "    Grab the life table data for a given state, sex, and time period\n",
    "    \n",
    "    Arguments:\n",
    "      state_code - the two-letter state abbreviation, all caps (example: 'CA' or 'NY')\n",
    "      sex_code - either 'f' for females, 'm' for males, or 'b' for both\n",
    "      year - the year (if not used, all years are returned)\n",
    "    \"\"\"\n",
    "    \n",
    "    zipurl = os.path.join('../data/temp-us-lifetables.zip')\n",
    "    \n",
    "    fileurl = os.path.join('States', state_code, state_code + '_' + sex_code + 'ltper_1x1.csv')\n",
    "    \n",
    "    #zipurl = \"https://www.dennisfeehan.org/temp-us-lifetables.zip\"\n",
    "    #r = requests.get(zipurl)\n",
    "    #with zipfile.ZipFile(io.BytesIO(r.content)) as archive:\n",
    "    with zipfile.ZipFile(zipurl) as archive:        \n",
    "        with archive.open(fileurl) as ltfile:\n",
    "            lt_data_raw = pd.read_csv(ltfile)\n",
    "            lt_data = Table.from_df(lt_data_raw)\n",
    "\n",
    "    # remove the highest age group\n",
    "    lt_data = lt_data.where('Age', are.not_equal_to('110+'))\n",
    "    \n",
    "    # convert everything but state name and sex to numeric data types\n",
    "    for cur_col in lt_data.labels[2:]:\n",
    "        lt_data[cur_col] = pd.to_numeric(lt_data[cur_col])\n",
    "    \n",
    "    if year is not None:\n",
    "        lt_data = lt_data.where('Year', are.equal_to(int(year)))\n",
    "    else:\n",
    "        print(\"No year specified, so returning all years.\")\n",
    "        \n",
    "    return(lt_data)\n"
   ]
  },
  {
   "cell_type": "markdown",
   "metadata": {},
   "source": [
    "**Now use the `get_state_lt` function to read in the life table for New York males in 2015**"
   ]
  },
  {
   "cell_type": "code",
   "execution_count": null,
   "metadata": {},
   "outputs": [],
   "source": [
    "test_lt = get_state_lt(...)\n",
    "test_lt"
   ]
  },
  {
   "cell_type": "code",
   "execution_count": null,
   "metadata": {},
   "outputs": [],
   "source": [
    "_ = lab01.grade('test_load_lt')"
   ]
  },
  {
   "cell_type": "markdown",
   "metadata": {},
   "source": [
    "You can see that, in addition to the life table columns you discussed last week, a USMD life table has the following columns:\n",
    "\n",
    "* `PopName` - the state code\n",
    "* `Sex` - 'm' for males, 'f' for females, and 'b' for both\n",
    "* `Year` - the period (calendar year) that the life table is based on. The most recent year is 2015."
   ]
  },
  {
   "cell_type": "markdown",
   "metadata": {},
   "source": [
    "## Visualize columns of the life table for Californian women"
   ]
  },
  {
   "cell_type": "markdown",
   "metadata": {},
   "source": [
    "We'll start a deeper dive into US life tables using Californian women in 2015 as an example."
   ]
  },
  {
   "cell_type": "markdown",
   "metadata": {},
   "source": [
    "**Question: Use the `get_state_lt` function to retrieve the life table for Californan females in 2015**"
   ]
  },
  {
   "cell_type": "code",
   "execution_count": null,
   "metadata": {},
   "outputs": [],
   "source": [
    "ca_f_lt = ...\n",
    "ca_f_lt"
   ]
  },
  {
   "cell_type": "code",
   "execution_count": null,
   "metadata": {},
   "outputs": [],
   "source": [
    "_ = lab01.grade('test_load_lt_caf')"
   ]
  },
  {
   "cell_type": "markdown",
   "metadata": {},
   "source": [
    "**Question: Plot the survivorship column (Lx) by age**"
   ]
  },
  {
   "cell_type": "code",
   "execution_count": null,
   "metadata": {},
   "outputs": [],
   "source": [
    "..."
   ]
  },
  {
   "cell_type": "markdown",
   "metadata": {},
   "source": [
    "**Question: Plot the life table number of deaths (dx) by age**"
   ]
  },
  {
   "cell_type": "code",
   "execution_count": null,
   "metadata": {},
   "outputs": [],
   "source": [
    "..."
   ]
  },
  {
   "cell_type": "markdown",
   "metadata": {},
   "source": [
    "**Question: Plot the life table death rate (mx) by age**"
   ]
  },
  {
   "cell_type": "code",
   "execution_count": null,
   "metadata": {},
   "outputs": [],
   "source": [
    "..."
   ]
  },
  {
   "cell_type": "markdown",
   "metadata": {},
   "source": [
    "Death rates like the ones you just plotted are central to the study of mortality; however, as the plot reveals, they vary tremendously across the age range.  In fact, they vary so much that it can be hard to see much helpful information on a plot like the one above.  Therefore, demographers usually look at the logarithm of the death rate, rather than the death rates themselves."
   ]
  },
  {
   "cell_type": "markdown",
   "metadata": {},
   "source": [
    "**Create a new column called logmx that has the log of the life table death rate; plot logmx by age**  \n",
    "*[HINT: the function `np.log` will take the logarithm of a Series for you]*"
   ]
  },
  {
   "cell_type": "code",
   "execution_count": null,
   "metadata": {},
   "outputs": [],
   "source": [
    "ca_f_lt = ca_f_lt.with_column('logmx', ...)\n",
    "ca_f_lt"
   ]
  },
  {
   "cell_type": "code",
   "execution_count": null,
   "metadata": {},
   "outputs": [],
   "source": [
    "_ = lab01.grade('test_logmx')"
   ]
  },
  {
   "cell_type": "markdown",
   "metadata": {},
   "source": [
    "**Question: Now plot the log of the life table death rate by age**"
   ]
  },
  {
   "cell_type": "code",
   "execution_count": null,
   "metadata": {},
   "outputs": [],
   "source": [
    "..."
   ]
  },
  {
   "cell_type": "markdown",
   "metadata": {},
   "source": [
    "**About what age seems to have the lowest death rate?**"
   ]
  },
  {
   "cell_type": "markdown",
   "metadata": {},
   "source": [
    "[ANSWER HERE]"
   ]
  },
  {
   "cell_type": "markdown",
   "metadata": {},
   "source": [
    "Last class, you discussed how to use the life table to calculate life expectancy at birth: it is the life table number of people who reach age x divided by the total person-years lived above age x."
   ]
  },
  {
   "cell_type": "markdown",
   "metadata": {},
   "source": [
    "**Question: use the CA female life table to calculate life expectancy at birth**"
   ]
  },
  {
   "cell_type": "code",
   "execution_count": null,
   "metadata": {},
   "outputs": [],
   "source": [
    "radix = 100000 # this is the radix for all of the USMD lifetables\n",
    "ca_f_e0 = ... / ...\n",
    "ca_f_e0"
   ]
  },
  {
   "cell_type": "code",
   "execution_count": null,
   "metadata": {},
   "outputs": [],
   "source": [
    "_ = lab01.grade('test_manual_ex')"
   ]
  },
  {
   "cell_type": "markdown",
   "metadata": {},
   "source": [
    "**Question: Now compare your calculation to the `ex` entry in the first row of the life table**"
   ]
  },
  {
   "cell_type": "code",
   "execution_count": null,
   "metadata": {},
   "outputs": [],
   "source": [
    "... # print the first few rows of the life table to compare"
   ]
  },
  {
   "cell_type": "markdown",
   "metadata": {},
   "source": [
    "We most often discuss life expectancy at birth, but life expectancy can be calculated at any age; the *ex* column of the life table has the expected number of years of life to be lived above each age.\n",
    "\n",
    "**Question: Plot life expectancy by age**"
   ]
  },
  {
   "cell_type": "code",
   "execution_count": null,
   "metadata": {},
   "outputs": [],
   "source": [
    "..."
   ]
  },
  {
   "cell_type": "markdown",
   "metadata": {},
   "source": [
    "**Does anything surprise you about the plot of life expectancy by age?**"
   ]
  },
  {
   "cell_type": "markdown",
   "metadata": {},
   "source": [
    "[Answer here]"
   ]
  },
  {
   "cell_type": "markdown",
   "metadata": {},
   "source": [
    "## Comparing California and another state"
   ]
  },
  {
   "cell_type": "markdown",
   "metadata": {},
   "source": [
    "**Question: Now plot the dx column of the life table for New Hampshire females in 2015.**  \n",
    "*[NOTE: naturally, you will have to open the life table before you can plot it]*"
   ]
  },
  {
   "cell_type": "code",
   "execution_count": null,
   "metadata": {},
   "outputs": [],
   "source": [
    "..."
   ]
  },
  {
   "cell_type": "markdown",
   "metadata": {},
   "source": [
    "**Question: ... and calculate the log death rates and plot them by age for NH females as well.**"
   ]
  },
  {
   "cell_type": "code",
   "execution_count": null,
   "metadata": {},
   "outputs": [],
   "source": [
    "nh_f_lt = nh_f_lt.with_column('logmx', ...)\n",
    "nh_f_lt.plot(...)"
   ]
  },
  {
   "cell_type": "markdown",
   "metadata": {},
   "source": [
    "**Question: What difference do you notice between the plots for NH females and the analogous plots you made earlier for CA females? What might explain this difference?**"
   ]
  },
  {
   "cell_type": "markdown",
   "metadata": {},
   "source": [
    "[answer here]"
   ]
  },
  {
   "cell_type": "markdown",
   "metadata": {},
   "source": [
    "**Question: What similarities do you notice between the plot for NH females and the plot you made earlier for CA females?**"
   ]
  },
  {
   "cell_type": "markdown",
   "metadata": {},
   "source": [
    "[answer here]"
   ]
  },
  {
   "cell_type": "markdown",
   "metadata": {},
   "source": [
    "## Comparing males and females"
   ]
  },
  {
   "cell_type": "markdown",
   "metadata": {},
   "source": [
    "Now we'll start to compare some life table quantities for males and for females."
   ]
  },
  {
   "cell_type": "markdown",
   "metadata": {},
   "source": [
    "**Question: Get the life tables for California males and females in 2015**"
   ]
  },
  {
   "cell_type": "code",
   "execution_count": null,
   "metadata": {},
   "outputs": [],
   "source": [
    "ca_lt_f = ...\n",
    "ca_lt_m = ..."
   ]
  },
  {
   "cell_type": "markdown",
   "metadata": {},
   "source": [
    "**Question: Now make a new table whose colums are 'Age', 'Males' (with male ex column), and 'Females' (with female ex column)**"
   ]
  },
  {
   "cell_type": "code",
   "execution_count": null,
   "metadata": {},
   "outputs": [],
   "source": [
    "ca_lt_ex = Table().with_columns('Age', ...,\n",
    "                                'Males', ...,\n",
    "                                'Females', ...)\n",
    "ca_lt_ex"
   ]
  },
  {
   "cell_type": "code",
   "execution_count": null,
   "metadata": {},
   "outputs": [],
   "source": [
    "_ = lab01.grade('test_manual_mf_compare')"
   ]
  },
  {
   "cell_type": "markdown",
   "metadata": {},
   "source": [
    "**Question: Plot the male and female ex column by age (both males and females in one plot)**"
   ]
  },
  {
   "cell_type": "code",
   "execution_count": null,
   "metadata": {},
   "outputs": [],
   "source": [
    "..."
   ]
  },
  {
   "cell_type": "markdown",
   "metadata": {},
   "source": [
    "Now we'll generalize the approach above so that it is a function. Our function will be able to plot a comparison between males and females for any life table column. This will save us lots of time, and it's a good example of how writing functions can be helpful."
   ]
  },
  {
   "cell_type": "markdown",
   "metadata": {},
   "source": [
    "**Question: Complete the missing parts of the function below**"
   ]
  },
  {
   "cell_type": "code",
   "execution_count": null,
   "metadata": {},
   "outputs": [],
   "source": [
    "def mf_compare(state, year, col):\n",
    "    \"\"\"\n",
    "    For a given life table column, state, and year, make a plot comparing males and females.\n",
    "    \"\"\"\n",
    "\n",
    "    # open the data for males and females\n",
    "    lt_m = ...\n",
    "    lt_f = ...\n",
    "    \n",
    "    # make a dataframe that has the male ad female values together\n",
    "    lt_comp = Table().with_columns('Age', lt_f['Age'],\n",
    "                                   'Males', ...,\n",
    "                                   'Females', ...)\n",
    "    \n",
    "    return(lt_comp)"
   ]
  },
  {
   "cell_type": "markdown",
   "metadata": {},
   "source": [
    "**Question: Now use the `mf_compare` function to compare the life table age at death (the dx column) for males and females in California in 2015**"
   ]
  },
  {
   "cell_type": "code",
   "execution_count": null,
   "metadata": {},
   "outputs": [],
   "source": [
    "ca_compare_dx = mf_compare(...)\n",
    "ca_compare_dx.plot(\"Age\")"
   ]
  },
  {
   "cell_type": "code",
   "execution_count": null,
   "metadata": {},
   "outputs": [],
   "source": [
    "_ = lab01.grade('test_mf_compare_dx')"
   ]
  },
  {
   "cell_type": "markdown",
   "metadata": {},
   "source": [
    "**Question: Pick two other states and use the `mf_compare` function to compare the life table age at death (the dx column) for males and females in those two states**"
   ]
  },
  {
   "cell_type": "code",
   "execution_count": null,
   "metadata": {},
   "outputs": [],
   "source": [
    "# first state\n",
    "..."
   ]
  },
  {
   "cell_type": "code",
   "execution_count": null,
   "metadata": {},
   "outputs": [],
   "source": [
    "# second state\n",
    "..."
   ]
  },
  {
   "cell_type": "markdown",
   "metadata": {},
   "source": [
    "**Question** The general shape of the male/female differences is probably reasonably similar across the three states you examined. What do you notice about male versus female ages at death across all three states?"
   ]
  },
  {
   "cell_type": "markdown",
   "metadata": {},
   "source": [
    "[Answer here]"
   ]
  },
  {
   "cell_type": "markdown",
   "metadata": {},
   "source": [
    "### SUBMIT your assignment by MIDNIGHT on the day of class"
   ]
  },
  {
   "cell_type": "markdown",
   "metadata": {},
   "source": [
    "Please submit your lab in **two ways** this first time:\n",
    "\n",
    "1. **Run the cell below**, which will submit via OkPy. You can submit as many times as you want, up to midnight on the day of class.\n",
    "2. As a backup, please **also submit on bCourses** by uploading the .ipynb file\n"
   ]
  },
  {
   "cell_type": "code",
   "execution_count": null,
   "metadata": {},
   "outputs": [],
   "source": [
    "_ = lab01.submit()"
   ]
  },
  {
   "cell_type": "markdown",
   "metadata": {},
   "source": [
    "## Optional challenge problems: Exploring cross-state variation"
   ]
  },
  {
   "cell_type": "markdown",
   "metadata": {},
   "source": [
    "**Question** If you have extra time, see if you can figure out   \n",
    "(a) which state has the highest female life expectancy in 2015?  \n",
    "(b) which state has the lowest female life expectancy in 2015?  \n",
    "What might explain the variation in female life expectancy that you observe?"
   ]
  },
  {
   "cell_type": "code",
   "execution_count": null,
   "metadata": {},
   "outputs": [],
   "source": [
    "..."
   ]
  },
  {
   "cell_type": "markdown",
   "metadata": {},
   "source": [
    "**Question** If you **still** have extra time, see if you can figure out which state has the biggest gap between male and female life expectancies."
   ]
  },
  {
   "cell_type": "code",
   "execution_count": null,
   "metadata": {},
   "outputs": [],
   "source": [
    "..."
   ]
  },
  {
   "cell_type": "markdown",
   "metadata": {},
   "source": [
    "### Don't forget to SUBMIT your assignment by MIDNIGHT on the day of class"
   ]
  },
  {
   "cell_type": "markdown",
   "metadata": {},
   "source": [
    "If you attempted the challenge questions, great! Be sure to submit afterwards using the instructions in the cell above."
   ]
  }
 ],
 "metadata": {
  "anaconda-cloud": {},
  "kernelspec": {
   "display_name": "Python [default]",
   "language": "python",
   "name": "python3"
  },
  "language_info": {
   "codemirror_mode": {
    "name": "ipython",
    "version": 3
   },
   "file_extension": ".py",
   "mimetype": "text/x-python",
   "name": "python",
   "nbconvert_exporter": "python",
   "pygments_lexer": "ipython3",
   "version": "3.5.2"
  }
 },
 "nbformat": 4,
 "nbformat_minor": 1
}

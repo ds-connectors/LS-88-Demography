{
 "cells": [
  {
   "cell_type": "code",
   "execution_count": null,
   "metadata": {},
   "outputs": [],
   "source": [
    "from IPython.core.display import HTML\n",
    "from datascience import *\n",
    "\n",
    "import matplotlib\n",
    "matplotlib.use('Agg')\n",
    "%matplotlib inline\n",
    "import matplotlib.pyplot as plt\n",
    "import numpy as np\n",
    "import os\n",
    "plt.style.use('fivethirtyeight')\n",
    "\n",
    "import pandas as pd\n",
    "import zipfile\n",
    "import io\n",
    "import math\n",
    "\n",
    "def css_styling():\n",
    "    styles = open('../notebook_styles.css', 'r').read()\n",
    "    return HTML(styles)\n",
    "css_styling()"
   ]
  },
  {
   "cell_type": "code",
   "execution_count": null,
   "metadata": {},
   "outputs": [],
   "source": [
    "#Loading testing data\n",
    "from client.api.notebook import Notebook \n",
    "lab03 = Notebook('lab03.ok')\n",
    "_ = lab03.auth(inline=True)"
   ]
  },
  {
   "cell_type": "markdown",
   "metadata": {},
   "source": [
    "# Lab 03 - Fertility"
   ]
  },
  {
   "cell_type": "markdown",
   "metadata": {
    "slideshow": {
     "slide_type": "subslide"
    }
   },
   "source": [
    "So far, we've focused on one aspect of population wellbeing, and a key cause of population change: mortality.\n",
    "\n",
    "Today, we're going to start to look at another way that populations change: fertility (i.e., having babies).\n",
    "\n",
    "In many ways, fertility is more complex than mortality. Everyone who is born dies exactly once. On the other hand, there is no fixed number of children that women have: some women have many children, while others have none. Moreover, women who do have children can do so in many different ways: some women have children at young ages, some at older ages. The number of children women want to have may change with age, and the relationship between desired and realized fertility can be less than perfect. Generally, fertility is a complex social phenomenon that resists overly simplistic explanations. As we will start to see in this lab, though, there are still patterns and structure to human fertility that we can use to understand it better."
   ]
  },
  {
   "cell_type": "markdown",
   "metadata": {},
   "source": [
    "### Age-Specific Fertility Rates"
   ]
  },
  {
   "cell_type": "markdown",
   "metadata": {},
   "source": [
    "$$\n",
    "ASFR_a = \\frac{\\text{# Births to women in age group}}{\\text{Person-years of exposure among women in age group}}\n",
    "$$"
   ]
  },
  {
   "cell_type": "markdown",
   "metadata": {},
   "source": [
    "Note that, technically, what we'll look at today is called a *period age-specific fertility rate*. There are some subtle differences between period and cohort age-specific fertility rates, and we won't have time to go into details here. If you're curious to learn more, take Demography 110!"
   ]
  },
  {
   "cell_type": "markdown",
   "metadata": {},
   "source": [
    "### The Total Fertility Rate"
   ]
  },
  {
   "cell_type": "markdown",
   "metadata": {},
   "source": [
    "The TFR answers a hypothetical question: if a woman survived to the end of her childbearing years giving birth to children at the rate implied by the ASFRs, then the number of children she would, on average, give birth to is the TFR. Thus, the TFR can be roughly interpreted as an average number of children per woman.\n",
    "\n",
    "Again, there are some subtleties here; to fully understand this approach, you'll have to take Demog 110.  \n",
    "\n",
    "Mathematically, the TFR is fairly easy to define:\n",
    "\n",
    "$$\n",
    "TFR = \\sum_a ASFR_a\n",
    "$$\n",
    "\n",
    "where $a$ runs across each year of age that women have children. (Often, this is taken to be from age 15 to about 50.)  \n",
    "\n",
    "In the data we look at below, we'll be using five year age groups. In that case, a crude way to calculate the TFR from the ASFRs is to assume that the ASFR is the same for each year of age in the five year age groups. That means that our formula becomes\n",
    "\n",
    "$$\n",
    "TFR = 5 \\sum_g ASFR_g,\n",
    "$$\n",
    "\n",
    "where $g$ ranges over the 5-year age groups. We multiply by 5 because there are 5 years in each age group."
   ]
  },
  {
   "cell_type": "markdown",
   "metadata": {},
   "source": [
    "### Mean age at childbearing"
   ]
  },
  {
   "cell_type": "markdown",
   "metadata": {},
   "source": [
    "The age-specific fertility rates provide a lot of detail about the timing and level of fertility: we can see how high or low rates are, and we can see the pattern in which ages have the most childbearing.  The TFR, on the other hand, is a summary that only provides information about the fertility level; it does not tell us about the timing of fertility (at least not directly).\n",
    "\n",
    "Since women in many countries are waiting until older ages to have children, it turns out to be useful to have an indicator that captures the timing of fertility. In fact, demographers tend to distinguish between the amount of fertility (captured by the TFR) and the *tempo* or timing of fertility.\n",
    "\n",
    "The **mean age at childbearing (MAC)** is a way to summarize the timing of fertility. MAC can be derived from ASFRs as follows:\n",
    "\n",
    "$$\n",
    "MAC = \\frac{\\sum_a a \\times ASFR_a}{\\sum_a ASFR_a},\n",
    "$$\n",
    "\n",
    "where $a$ ranges over the ages of childbearing (usually 15-50).  \n",
    "\n",
    "If you stare at the equation for a little while, you'll see that the mean age at childbearing is a weighted average of the childbearing ages, where the weights are given by the fertility rates at each age."
   ]
  },
  {
   "cell_type": "markdown",
   "metadata": {},
   "source": [
    "We'll get a chance to explore these three concepts -- age-specific fertility rate (ASFR), total fertility rate (TFR), and mean age at childbearing (MAC) in greater detail in the lab today."
   ]
  },
  {
   "cell_type": "markdown",
   "metadata": {},
   "source": [
    "## Introductions"
   ]
  },
  {
   "cell_type": "markdown",
   "metadata": {},
   "source": [
    "**What is your partner's name?**"
   ]
  },
  {
   "cell_type": "markdown",
   "metadata": {},
   "source": [
    "[ANSWER HERE]"
   ]
  },
  {
   "cell_type": "markdown",
   "metadata": {},
   "source": [
    "**What year is your partner in? (Freshman, Sophomore, etc)**"
   ]
  },
  {
   "cell_type": "markdown",
   "metadata": {},
   "source": [
    "[ANSWER HERE]"
   ]
  },
  {
   "cell_type": "markdown",
   "metadata": {},
   "source": [
    "**How many siblings does your partner have? What are their names?**"
   ]
  },
  {
   "cell_type": "markdown",
   "metadata": {},
   "source": [
    "[ANSWER HERE]"
   ]
  },
  {
   "cell_type": "markdown",
   "metadata": {},
   "source": [
    " "
   ]
  },
  {
   "cell_type": "markdown",
   "metadata": {},
   "source": [
    "### Getting started"
   ]
  },
  {
   "cell_type": "markdown",
   "metadata": {},
   "source": [
    "First, we'll read in a couple of datasets that have estimated fertility measures for all of the countries in the world. Like the life tables we used in the last lab, these fertility measures come from the United Nations Population Division.\n",
    "\n",
    "We'll start by loading estimated Total Fertility Rates (TFRs):"
   ]
  },
  {
   "cell_type": "code",
   "execution_count": null,
   "metadata": {},
   "outputs": [],
   "source": [
    "unpd_tfr = Table.read_table('../data/UNPD/unpd_tfr_cleaned.csv')\n",
    "unpd_tfr"
   ]
  },
  {
   "cell_type": "markdown",
   "metadata": {},
   "source": [
    "We'll also load a datafile that has additional information about the countries in the UNPD dataset."
   ]
  },
  {
   "cell_type": "code",
   "execution_count": null,
   "metadata": {},
   "outputs": [],
   "source": [
    "geo = Table.read_table('../data/UNPD/unpd_geo_cleaned.csv')\n",
    "# we'll only use a few columns from this dataset\n",
    "geo = geo.select(['area', 'region_name', 'subregion_name', 'income_level'])\n",
    "geo"
   ]
  },
  {
   "cell_type": "markdown",
   "metadata": {},
   "source": [
    "Like before, it will be useful to make a list that has the names of all of the countries in the dataset."
   ]
  },
  {
   "cell_type": "code",
   "execution_count": null,
   "metadata": {},
   "outputs": [],
   "source": [
    "all_countries = np.unique(unpd_tfr['area'])\n",
    "all_countries"
   ]
  },
  {
   "cell_type": "code",
   "execution_count": null,
   "metadata": {},
   "outputs": [],
   "source": [
    "print(\"There are\", len(all_countries), \"countries in the dataset.\")"
   ]
  },
  {
   "cell_type": "markdown",
   "metadata": {},
   "source": [
    "**Question - Make a dataset called `unpd_tfr_2015` that filters the TFR dataset down into rows that correspond to the 2015 time period only**"
   ]
  },
  {
   "cell_type": "code",
   "execution_count": null,
   "metadata": {},
   "outputs": [],
   "source": [
    "unpd_tfr_2015 = ...\n",
    "unpd_tfr_2015"
   ]
  },
  {
   "cell_type": "code",
   "execution_count": null,
   "metadata": {},
   "outputs": [],
   "source": [
    "_ = lab03.grade('test_2015_tfr')"
   ]
  },
  {
   "cell_type": "markdown",
   "metadata": {},
   "source": [
    "**Question - Make a histogram of the TFR values around the world in 2015**"
   ]
  },
  {
   "cell_type": "code",
   "execution_count": null,
   "metadata": {},
   "outputs": [],
   "source": [
    "..."
   ]
  },
  {
   "cell_type": "markdown",
   "metadata": {},
   "source": [
    "Your histogram should reveal that TFR values vary enormously: some countries seem to have TFRs that are quite high -- in the range of 6 or 7 children per woman, while other countries have very low TFRs -- two or fewer children per women."
   ]
  },
  {
   "cell_type": "markdown",
   "metadata": {},
   "source": [
    "One reason for this huge amount of variation is that we are looking at all of the countries in the world at once.  Let's dig a little deeper to see if we can find groups of countries that have more similar TFRs."
   ]
  },
  {
   "cell_type": "markdown",
   "metadata": {},
   "source": [
    "**Question - There's more information about the countries in the dataset in the `geo` table.  Please join the table `geo` onto  `unpd_tfr_2015` so we can use this information; call your new table `unpd_tfr_2015`.**"
   ]
  },
  {
   "cell_type": "code",
   "execution_count": null,
   "metadata": {},
   "outputs": [],
   "source": [
    "unpd_tfr_2015 = ...\n",
    "unpd_tfr_2015"
   ]
  },
  {
   "cell_type": "code",
   "execution_count": null,
   "metadata": {},
   "outputs": [],
   "source": [
    "_ = lab03.grade('test_2015_tfr_withgeo')"
   ]
  },
  {
   "cell_type": "markdown",
   "metadata": {},
   "source": [
    "**Question - Fill in the loop below to make histograms of the total fertility rate separately for each region in the world. Make sure your histogram has bins of width 0.5 that go from 0 up to 8; this will make it easier to compare the regions.**  \n",
    "*[HINT: the variable `region_name` has the region that each country is in]*"
   ]
  },
  {
   "cell_type": "code",
   "execution_count": null,
   "metadata": {},
   "outputs": [],
   "source": [
    "# list of all regions that we can use to loop through\n",
    "all_regions = np.unique(...)\n",
    "\n",
    "for region in all_regions:\n",
    "    \n",
    "    ## be sure to use the dataset you made with TFR values for 2015 (not all time periods)\n",
    "    cur_region_tfr = ...\n",
    "    cur_region_tfr.hist(..., bins=...)\n",
    "    \n",
    "    ## (this adds a title to your plot)\n",
    "    plt.title(region)\n"
   ]
  },
  {
   "cell_type": "markdown",
   "metadata": {},
   "source": [
    "**Question - Using the same pattern as above, make a histogram for each value of the `income_level` variable. This will show how TFR is distributed for countries that are relatively wealthy and poor.**  \n",
    "*[NOTE: income level is not available for some small countries; these countries will be at income level nan (for 'not a number'. This is essentially missing data.]*"
   ]
  },
  {
   "cell_type": "code",
   "execution_count": null,
   "metadata": {},
   "outputs": [],
   "source": [
    "## SOLUTION\n",
    "\n",
    "# list of all regions that we can use to loop through\n",
    "all_incomes = ...\n",
    "\n",
    "for ... in ...:\n",
    "    \n",
    "    cur_region_tfr = ...\n",
    "    cur_region_tfr.hist(..., bins=...)\n",
    "    \n",
    "    ## (this adds a title to your plot)\n",
    "    plt.title(income)\n"
   ]
  },
  {
   "cell_type": "markdown",
   "metadata": {},
   "source": [
    "To complement the visualization, let's calculate a quantitative summary for each region by taking the average of the region's TFR values."
   ]
  },
  {
   "cell_type": "markdown",
   "metadata": {},
   "source": [
    "**Question - Calculate the average TFR by region, and make a table that has a sorted list of the regions by average TFR**  \n",
    "*[HINT: You can do this using the `select`, `group`, and `sort` methods]*"
   ]
  },
  {
   "cell_type": "code",
   "execution_count": null,
   "metadata": {},
   "outputs": [],
   "source": [
    "regional_tfr = ...\n",
    "regional_tfr"
   ]
  },
  {
   "cell_type": "markdown",
   "metadata": {},
   "source": [
    "(If you've done the calculations correctly, you should see an average TFR very close to 3.05 for Oceania.)"
   ]
  },
  {
   "cell_type": "markdown",
   "metadata": {},
   "source": [
    "If you have extra time, you could also calculate average TFR by income level; you should see a pretty clear pattern."
   ]
  },
  {
   "cell_type": "code",
   "execution_count": null,
   "metadata": {},
   "outputs": [],
   "source": [
    "income_tfr = ...\n",
    "income_tfr"
   ]
  },
  {
   "cell_type": "markdown",
   "metadata": {},
   "source": [
    "### Join in economic indicators"
   ]
  },
  {
   "cell_type": "markdown",
   "metadata": {},
   "source": [
    "The analysis above suggested that both region and income seem to be pretty strongly related to levels of fertility. Let's bring in some economic and social data to dig deeper.  \n",
    "  \n",
    "This code reads in a dataset that has a few of the World Bank's World Development Indicators:"
   ]
  },
  {
   "cell_type": "code",
   "execution_count": null,
   "metadata": {},
   "outputs": [],
   "source": [
    "wdi_dat = Table.read_table('../data/WB/wdi_health_2015_cleaned.csv')\n",
    "wdi_dat"
   ]
  },
  {
   "cell_type": "markdown",
   "metadata": {},
   "source": [
    "**Question - Join the WDI data onto the TFR data for 2015**"
   ]
  },
  {
   "cell_type": "code",
   "execution_count": null,
   "metadata": {},
   "outputs": [],
   "source": [
    "unpd_tfr_2015_econ = unpd_tfr_2015.join(..., ..., ...)\n",
    "unpd_tfr_2015_econ"
   ]
  },
  {
   "cell_type": "code",
   "execution_count": null,
   "metadata": {},
   "outputs": [],
   "source": [
    "_ = lab03.grade('test_2015_tfr_withecon')"
   ]
  },
  {
   "cell_type": "markdown",
   "metadata": {},
   "source": [
    "Now we'll make a few plots to get a sense for how a couple of these economic/social indicators are associated with TFR."
   ]
  },
  {
   "cell_type": "markdown",
   "metadata": {},
   "source": [
    "**Question - Make a scatterplot that compares GDP (x axis) and TFR (y axis)**"
   ]
  },
  {
   "cell_type": "code",
   "execution_count": null,
   "metadata": {},
   "outputs": [],
   "source": [
    "..."
   ]
  },
  {
   "cell_type": "markdown",
   "metadata": {},
   "source": [
    "**Question - Now calculate the log of gdp and store it in a column called `loggdp`**"
   ]
  },
  {
   "cell_type": "code",
   "execution_count": null,
   "metadata": {},
   "outputs": [],
   "source": [
    "unpd_tfr_2015_econ['loggdp'] = ..."
   ]
  },
  {
   "cell_type": "markdown",
   "metadata": {},
   "source": [
    "**Question - Now make a scatterplot that compares log gdp (x axis) to TFR (y axis).**  "
   ]
  },
  {
   "cell_type": "code",
   "execution_count": null,
   "metadata": {},
   "outputs": [],
   "source": [
    "unpd_tfr_2015_econ.scatter('loggdp', 'tfr')"
   ]
  },
  {
   "cell_type": "markdown",
   "metadata": {},
   "source": [
    "**Question - In general, what relationship is evident between a country's wealth (as measured by GDP per capita) and its fertility (as measured by TFR)?**"
   ]
  },
  {
   "cell_type": "markdown",
   "metadata": {},
   "source": [
    "[ANSWER HERE]"
   ]
  },
  {
   "cell_type": "markdown",
   "metadata": {},
   "source": [
    "**Question - Now make a scatterplot that shows the relationship between the percentage of secondary students that is female (`pctf_secondary`, x axis) and TFR (y axis)**"
   ]
  },
  {
   "cell_type": "code",
   "execution_count": null,
   "metadata": {},
   "outputs": [],
   "source": [
    "..."
   ]
  },
  {
   "cell_type": "markdown",
   "metadata": {},
   "source": [
    "**Question - In general, what relationship is evident between a country's gender equity in education (as measured by `pctf_secondary`) and its fertility (as measured by TFR)?**"
   ]
  },
  {
   "cell_type": "markdown",
   "metadata": {},
   "source": [
    "[ANSWER HERE]"
   ]
  },
  {
   "cell_type": "markdown",
   "metadata": {},
   "source": [
    "## Fertility by age: Age-specific fertility rates"
   ]
  },
  {
   "cell_type": "markdown",
   "metadata": {},
   "source": [
    "We've seen that aggregate levels of fertility, as captured by the TFR, vary tremendously around the world. From our analysis so far, it appears that wealther countries with more gender-balanced educational programs tend to have lower TFRs.\n",
    "\n",
    "Now we'll dig deeper into the phenomenon of fertility, looking closely at age-specific fertility rates. These ASFRs contain much more detailed information about the fertility experience of women in the UNPD countries, as we will see."
   ]
  },
  {
   "cell_type": "markdown",
   "metadata": {},
   "source": [
    "We'll start by reading in Age-Specific Fertility Rates (ASFRs):"
   ]
  },
  {
   "cell_type": "code",
   "execution_count": null,
   "metadata": {},
   "outputs": [],
   "source": [
    "unpd_asfr = Table.read_table('../data/UNPD/unpd_asfr_cleaned.csv')\n",
    "unpd_asfr"
   ]
  },
  {
   "cell_type": "markdown",
   "metadata": {},
   "source": [
    "And we'll make a dataset that just has the ASFRs for 2015."
   ]
  },
  {
   "cell_type": "code",
   "execution_count": null,
   "metadata": {},
   "outputs": [],
   "source": [
    "unpd_asfr_2015 = unpd_asfr.where('period', are.equal_to(2015))\n",
    "unpd_asfr_2015"
   ]
  },
  {
   "cell_type": "markdown",
   "metadata": {},
   "source": [
    "It will be helpful to work with a specific example to get started. Let's take a look at the age-specific rates in Canada:"
   ]
  },
  {
   "cell_type": "code",
   "execution_count": null,
   "metadata": {},
   "outputs": [],
   "source": [
    "can_asfr = unpd_asfr_2015.where('area', are.equal_to('Canada'))\n",
    "can_asfr"
   ]
  },
  {
   "cell_type": "markdown",
   "metadata": {},
   "source": [
    "**Question - plot the age-specific fertility rates for Canada, with age on the x axis and the fertility rates on the y axis**"
   ]
  },
  {
   "cell_type": "code",
   "execution_count": null,
   "metadata": {},
   "outputs": [],
   "source": [
    "..."
   ]
  },
  {
   "cell_type": "markdown",
   "metadata": {},
   "source": [
    "You'll see that fertility in Canada looks like a hump: fertility rates increase with age until about 30-35, where they peak; then they decrease until 45-50.  This general shape is pretty common, though the level (height) of the ASFRs and the exact shape of the hump varies quite a bit from country to country.  \n",
    "\n",
    "To help explore this variation, let's write some code to facilitate comparing two countries' ASFRs."
   ]
  },
  {
   "cell_type": "markdown",
   "metadata": {},
   "source": [
    "**Question - Fill in the missing code below to make a dataset that compares age-specific fertility rates for two countries**"
   ]
  },
  {
   "cell_type": "code",
   "execution_count": null,
   "metadata": {},
   "outputs": [],
   "source": [
    "## SOLUTION\n",
    "def compare_asfr(country1, country2, period):\n",
    "    \"\"\"\n",
    "    This function returns a Table with three columns: the first column is age groups,\n",
    "    the second column is the ASFRs of country1 in the given time period, and the third column\n",
    "    is the ASFRs of country2 in the given time period.\n",
    "    \"\"\"\n",
    "    \n",
    "    c1_asfr = unpd_asfr.where('period', are.equal_to(period)).where('area', are.equal_to(country1))\n",
    "    c2_asfr = unpd_asfr.where('period', are.equal_to(period)).where('area', are.equal_to(country2))\n",
    "    \n",
    "    result = Table().with_columns('age', c1_asfr['age'],\n",
    "                                  country1, c1_asfr['asfr'],\n",
    "                                  country2, c2_asfr['asfr'])\n",
    "    \n",
    "    return(result)\n",
    "\n",
    "canmex = compare_asfr('Canada', 'Mexico', 2015)\n",
    "canmex"
   ]
  },
  {
   "cell_type": "code",
   "execution_count": null,
   "metadata": {},
   "outputs": [],
   "source": [
    "_ = lab03.grade('test_compare_asfr')"
   ]
  },
  {
   "cell_type": "markdown",
   "metadata": {},
   "source": [
    "Now that we have written our function, we can easily compare two countries' ASFRs on a plot:"
   ]
  },
  {
   "cell_type": "code",
   "execution_count": null,
   "metadata": {},
   "outputs": [],
   "source": [
    "canmex.plot('age')"
   ]
  },
  {
   "cell_type": "markdown",
   "metadata": {},
   "source": [
    "**Question - Pick two countries in each region (except North America, which we've done), and plot the ASFRs of the two countries to compare them.** "
   ]
  },
  {
   "cell_type": "code",
   "execution_count": null,
   "metadata": {},
   "outputs": [],
   "source": [
    "... ## you can create new cells or make several plots in this cell"
   ]
  },
  {
   "cell_type": "markdown",
   "metadata": {},
   "source": [
    "**Question - Do your plots suggest that the general pattern of ASFRs are similar within region? Between regions?**"
   ]
  },
  {
   "cell_type": "markdown",
   "metadata": {},
   "source": [
    "[ANSWER HERE]"
   ]
  },
  {
   "cell_type": "markdown",
   "metadata": {},
   "source": [
    "### The relationship between TFR and ASFR"
   ]
  },
  {
   "cell_type": "markdown",
   "metadata": {},
   "source": [
    "**Question - Using the `canmex` dataset you created above, check that the TFR for Canada is about 1.61.**  \n",
    "*[HINT: Use the equation for TFR described at the top of the lab]*  \n",
    "*[NOTE: the ASFRs in the UNPD data are shown per 1,000 to make them easier to read. So, for example, when the dataset has a value of 200, this corresponds to an ASFR of 200 per 1,000 which is otherwise known as 0.2]*"
   ]
  },
  {
   "cell_type": "code",
   "execution_count": null,
   "metadata": {},
   "outputs": [],
   "source": [
    "..."
   ]
  },
  {
   "cell_type": "markdown",
   "metadata": {},
   "source": [
    "## Mean age at childbearing"
   ]
  },
  {
   "cell_type": "markdown",
   "metadata": {},
   "source": [
    "Finally, we'll take a look at the timing of childbearing. As we discussed above, the mean age at childbearing is one indicator of timing.  \n",
    "\n",
    "The ASFR dataset has age groups listed by the lowest age in the 5-year group. So, for example, the row in the dataset corresponding to age 15 means the age group of 15 to 19 year olds.  In order to calculate the mean age at childbearing, we need the midpoint of the age group, which we can find by adding 2.5 (which is half of 5) to the lowest age in the group."
   ]
  },
  {
   "cell_type": "markdown",
   "metadata": {},
   "source": [
    "Let's look again at the ASFR data for Canada in 2015:"
   ]
  },
  {
   "cell_type": "code",
   "execution_count": null,
   "metadata": {},
   "outputs": [],
   "source": [
    "can_asfr"
   ]
  },
  {
   "cell_type": "markdown",
   "metadata": {},
   "source": [
    "**Question - Create a new column in `can_asfr` that has the midpoint of each age group. Call the new column `mid_age`.**"
   ]
  },
  {
   "cell_type": "code",
   "execution_count": null,
   "metadata": {},
   "outputs": [],
   "source": [
    "can_asfr = ...\n",
    "can_asfr"
   ]
  },
  {
   "cell_type": "markdown",
   "metadata": {},
   "source": [
    "**Question - Using your new column `mid_age` and the formula at the start of the lab, calculate the mean age at childbearing for Canada in 2015.**"
   ]
  },
  {
   "cell_type": "code",
   "execution_count": null,
   "metadata": {},
   "outputs": [],
   "source": [
    "np.sum(can_asfr['mid_age'] * can_asfr['asfr'])/np.sum(can_asfr['asfr'])"
   ]
  },
  {
   "cell_type": "markdown",
   "metadata": {},
   "source": [
    "You should get an answer close to 30.27.  \n",
    "  \n",
    "Following our usual pattern, let's take this example and generalize it by writing a function. Then we can use the function to calculate the mean age at childbearing for every country in the world."
   ]
  },
  {
   "cell_type": "markdown",
   "metadata": {},
   "source": [
    "**Question - Fill in the code below to write a function that calculates MAC given the age-specific fertility rates**"
   ]
  },
  {
   "cell_type": "code",
   "execution_count": null,
   "metadata": {},
   "outputs": [],
   "source": [
    "def calculate_mac(asfr_data):\n",
    "    asfr_data = asfr_data.with_column('mid_age', ...)\n",
    "    mac = ...\n",
    "    return(mac)\n",
    "\n",
    "calculate_mac(can_asfr) # you should get the same answer you did above for Canada's 2015 MAC"
   ]
  },
  {
   "cell_type": "markdown",
   "metadata": {},
   "source": [
    "**Question - Now complete the loop below to calculate MAC for all of the countries in the world in 2015**  \n",
    "*[Hint: loop through each country in the dataset to do this]*"
   ]
  },
  {
   "cell_type": "code",
   "execution_count": null,
   "metadata": {},
   "outputs": [],
   "source": [
    "mac_values = make_array()\n",
    "\n",
    "for country in ... :\n",
    "    cur_asfrs = unpd_asfr_2015.where(..., ...)\n",
    "    mac_values = np.append(mac_values, ...)\n",
    "    \n",
    "mac_2015 = Table().with_columns('area', all_countries,\n",
    "                                'mac', mac_values)\n",
    "mac_2015"
   ]
  },
  {
   "cell_type": "markdown",
   "metadata": {},
   "source": [
    "**Question - Finally, join the MAC values onto the TFR values and economic indicators in `unpd_tfr_2015_econ`**"
   ]
  },
  {
   "cell_type": "code",
   "execution_count": null,
   "metadata": {},
   "outputs": [],
   "source": [
    "unpd_tfr_2015_econ = ...\n",
    "unpd_tfr_2015_econ"
   ]
  },
  {
   "cell_type": "code",
   "execution_count": null,
   "metadata": {},
   "outputs": [],
   "source": [
    "_ = lab03.grade('test_join_mac')"
   ]
  },
  {
   "cell_type": "markdown",
   "metadata": {},
   "source": [
    "**Question - Use your combined dataset to plot the mean age at childbearing (x axis) and the TFR (y axis).**"
   ]
  },
  {
   "cell_type": "code",
   "execution_count": null,
   "metadata": {},
   "outputs": [],
   "source": [
    "..."
   ]
  },
  {
   "cell_type": "code",
   "execution_count": null,
   "metadata": {},
   "outputs": [],
   "source": [
    "unpd_tfr_2015_econ.scatter('mac', 'tfr')"
   ]
  },
  {
   "cell_type": "markdown",
   "metadata": {},
   "source": [
    "**Question - What relationship do you see between MAC and TFR? Does it appear as though the amount of fertility (TFR) and the timing of fertility (MAC) are linked?**"
   ]
  },
  {
   "cell_type": "markdown",
   "metadata": {},
   "source": [
    "[ANSWER HERE]"
   ]
  },
  {
   "cell_type": "markdown",
   "metadata": {},
   "source": [
    "## Run all tests"
   ]
  },
  {
   "cell_type": "markdown",
   "metadata": {},
   "source": [
    "This cell just re-runs all of the unit tests in the notebook, to summarize the results"
   ]
  },
  {
   "cell_type": "code",
   "execution_count": null,
   "metadata": {},
   "outputs": [],
   "source": [
    "# this cell runs all the tests at once!\n",
    "print(\"Running all tests...\")\n",
    "_ = [lab03.grade(q[:-3]) for q in os.listdir(\"tests\") if q.startswith('test')]\n",
    "print(\"Finished running all tests.\")"
   ]
  },
  {
   "cell_type": "markdown",
   "metadata": {},
   "source": [
    "### Submit your assignment by MIDNIGHT on the day of class"
   ]
  },
  {
   "cell_type": "markdown",
   "metadata": {},
   "source": [
    "Please submit your lab in by running the cell below. You can submit as many times as you want, up to midnight on the day of the class. No late submissions are allowed, and the system will prevent you from being able to submit late."
   ]
  },
  {
   "cell_type": "code",
   "execution_count": null,
   "metadata": {},
   "outputs": [],
   "source": [
    "_ = lab03.submit()"
   ]
  },
  {
   "cell_type": "markdown",
   "metadata": {},
   "source": [
    "## Optional challenge questions"
   ]
  },
  {
   "cell_type": "markdown",
   "metadata": {},
   "source": [
    "**Question - Using a loop similar to the ones we constructed above, make scatterplots that show the relationship between MAC (x axis) and TFR (y axis) within each region. Do the within-region relationships look qualitatively different from the global analysis we performed above?**"
   ]
  },
  {
   "cell_type": "code",
   "execution_count": null,
   "metadata": {},
   "outputs": [],
   "source": [
    "..."
   ]
  },
  {
   "cell_type": "markdown",
   "metadata": {},
   "source": [
    "### Look at Age-Specific Fertility Rates over time\n",
    "\n",
    "So far, we've examined age-specific fertility rates in one time period (2010-15), and we've summarized the timing of age-specific fertility by looking at the mean age at childbearing.\n",
    "\n",
    "Now we're going to explore another visualization that will help us understand how a country's fertility has changed over time."
   ]
  },
  {
   "cell_type": "markdown",
   "metadata": {},
   "source": [
    "**Question - Fill in the missing code to produce a function that will plot the age-specific fertility rates for a single country over many time periods**"
   ]
  },
  {
   "cell_type": "code",
   "execution_count": null,
   "metadata": {},
   "outputs": [],
   "source": [
    "def compare_asfr_bytime(country):\n",
    "    \n",
    "    ## get the data for the country (across all periods)\n",
    "    c1_asfr = unpd_asfr.where(..., ...)\n",
    "    \n",
    "    ## get a list with each period\n",
    "    all_periods = ...\n",
    "    \n",
    "    ## get a list with all of the ages, which we'll include with the output\n",
    "    all_ages = ...\n",
    "    \n",
    "    ## we'll store our output in this table;\n",
    "    ## to start, we'll include the ages\n",
    "    result = Table().with_columns('age', ...)\n",
    "    \n",
    "    for period in all_periods:\n",
    "        \n",
    "        these_asfrs = ...\n",
    "        result = result.with_column(str(period), these_asfrs)\n",
    "\n",
    "    return(result)\n",
    "\n",
    "can_history = compare_asfr_bytime('Canada')\n",
    "can_history"
   ]
  },
  {
   "cell_type": "markdown",
   "metadata": {},
   "source": [
    "You can use your function to make plots like this one:"
   ]
  },
  {
   "cell_type": "code",
   "execution_count": null,
   "metadata": {},
   "outputs": [],
   "source": [
    "can_history = compare_asfr_bytime('Canada')\n",
    "can_history.plot('age')\n",
    "plt.title('Canada')"
   ]
  },
  {
   "cell_type": "markdown",
   "metadata": {},
   "source": [
    "**Question - Pick several countries that you expect to have very different socioeconomic conditions and use the `compare_asfr_bytime` function to look at how the shape of their ASFRs has changed. Do you notice anything systematic about how fertility has been changing?**"
   ]
  },
  {
   "cell_type": "code",
   "execution_count": null,
   "metadata": {},
   "outputs": [],
   "source": [
    "..."
   ]
  },
  {
   "cell_type": "markdown",
   "metadata": {},
   "source": [
    "**Challenge question (optional) -- See if you can get the colors on that plot to smoothly change from light to dark, based on the period. (I couldn't figure out how to do this!)**"
   ]
  },
  {
   "cell_type": "code",
   "execution_count": null,
   "metadata": {},
   "outputs": [],
   "source": []
  }
 ],
 "metadata": {
  "anaconda-cloud": {},
  "kernelspec": {
   "display_name": "Python [default]",
   "language": "python",
   "name": "python3"
  },
  "language_info": {
   "codemirror_mode": {
    "name": "ipython",
    "version": 3
   },
   "file_extension": ".py",
   "mimetype": "text/x-python",
   "name": "python",
   "nbconvert_exporter": "python",
   "pygments_lexer": "ipython3",
   "version": "3.5.2"
  }
 },
 "nbformat": 4,
 "nbformat_minor": 1
}

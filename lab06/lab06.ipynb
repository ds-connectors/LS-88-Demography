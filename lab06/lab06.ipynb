{
 "cells": [
  {
   "cell_type": "code",
   "execution_count": null,
   "metadata": {},
   "outputs": [],
   "source": [
    "from IPython.core.display import HTML\n",
    "from datascience import *\n",
    "\n",
    "import matplotlib\n",
    "matplotlib.use('Agg')\n",
    "%matplotlib inline\n",
    "import matplotlib.pyplot as plt\n",
    "import numpy as np\n",
    "import os\n",
    "plt.style.use('fivethirtyeight')\n",
    "\n",
    "import pandas as pd\n",
    "import zipfile\n",
    "import io\n",
    "import math\n",
    "\n",
    "def css_styling():\n",
    "    styles = open('../notebook_styles.css', 'r').read()\n",
    "    return HTML(styles)\n",
    "css_styling()"
   ]
  },
  {
   "cell_type": "code",
   "execution_count": null,
   "metadata": {},
   "outputs": [],
   "source": [
    "#Loading testing data\n",
    "from client.api.notebook import Notebook \n",
    "lab06 = Notebook('lab06.ok')\n",
    "_ = lab06.auth(inline=True)"
   ]
  },
  {
   "cell_type": "markdown",
   "metadata": {},
   "source": [
    "# Lab 06 - The Demographic Dividend"
   ]
  },
  {
   "cell_type": "markdown",
   "metadata": {},
   "source": [
    "## Introductions"
   ]
  },
  {
   "cell_type": "markdown",
   "metadata": {},
   "source": [
    "**What is your partner's name?**"
   ]
  },
  {
   "cell_type": "markdown",
   "metadata": {},
   "source": [
    "[ANSWER HERE]"
   ]
  },
  {
   "cell_type": "markdown",
   "metadata": {},
   "source": [
    "**What is your partner's favorite movie?**"
   ]
  },
  {
   "cell_type": "markdown",
   "metadata": {},
   "source": [
    "[ANSWER HERE]"
   ]
  },
  {
   "cell_type": "markdown",
   "metadata": {},
   "source": [
    "**What is your partner's favorite food?**"
   ]
  },
  {
   "cell_type": "markdown",
   "metadata": {},
   "source": [
    "[ANSWER HERE]"
   ]
  },
  {
   "cell_type": "markdown",
   "metadata": {},
   "source": [
    " "
   ]
  },
  {
   "cell_type": "markdown",
   "metadata": {},
   "source": [
    "## Age structure and economic productivity"
   ]
  },
  {
   "cell_type": "markdown",
   "metadata": {},
   "source": [
    "A [dependency ratio](https://en.wikipedia.org/wiki/Dependency_ratio) is a quantity that is intended to roughly capture what fraction of a population is at economically productive age ranges. Thus, a dependency ratio can be thought of as a summary of how conducive a population's age structure is to economic productivity.\n",
    "\n",
    "We'll focus on three different dependency ratios today. The first is the **child dependency ratio**:\n",
    "\n",
    "$$\n",
    "\\text{Child Dependency Ratio} = 100 \\times \\frac{\\text{# children aged 0-14}}{\\text{# adults aged 15-64}}.\n",
    "$$\n",
    "\n",
    "The child dependency ratio captures, on average, how many children each working-age adult supports.\n",
    "\n",
    "The second metric is the **old-age dependency ratio**:\n",
    "\n",
    "$$\n",
    "\\text{Old-age Dependency Ratio} = 100 \\times \\frac{\\text{# adults aged 65+}}{\\text{# adults aged 15-64}}.\n",
    "$$\n",
    "\n",
    "The old-age dependency ratio captures, on average, how many older people each working-age adult supports.\n",
    "\n",
    "Finally, the **total dependency ratio** is given by\n",
    "\n",
    "$$\n",
    "\\text{Total Dependency Ratio} = 100 \\times \\frac{\\text{# children aged 0-14} + \\text{# adults aged 65+}}{\\text{# adults aged 15-64}}.\n",
    "$$\n",
    "\n",
    "The total dependency ratio captures how many children and adults are supported by the average working-age adult."
   ]
  },
  {
   "cell_type": "markdown",
   "metadata": {},
   "source": [
    "**Question - What is the range of possible values that the total dependency ratio can take on?**"
   ]
  },
  {
   "cell_type": "markdown",
   "metadata": {},
   "source": [
    "[ANSWER HERE]"
   ]
  },
  {
   "cell_type": "markdown",
   "metadata": {},
   "source": [
    "**Question - Mathematically, what is the relationship between the total, child, and old-age dependency ratios?**  \n",
    "*[HINT: If given the child and old-age dependency ratios, how might you calculate the total dependency ratio?]*"
   ]
  },
  {
   "cell_type": "markdown",
   "metadata": {},
   "source": [
    "[ANSWER HERE]"
   ]
  },
  {
   "cell_type": "markdown",
   "metadata": {},
   "source": [
    "**Question - In the data exercises below, we're going to look only at the female population, ignoring males. What impact, if any, do you think this will have on the old-age dependency ratio?**"
   ]
  },
  {
   "cell_type": "markdown",
   "metadata": {},
   "source": [
    "[ANSWER HERE]"
   ]
  },
  {
   "cell_type": "markdown",
   "metadata": {},
   "source": [
    "**Question - The total dependency ratio is a widely used way to try to quantify how many people need to be supported by people who are working. What are two limitations of the total dependency ratio when used for this purpose?**"
   ]
  },
  {
   "cell_type": "markdown",
   "metadata": {},
   "source": [
    "[ANSWER HERE]"
   ]
  },
  {
   "cell_type": "markdown",
   "metadata": {},
   "source": [
    "## Looking at historical dependency ratios around the world"
   ]
  },
  {
   "cell_type": "markdown",
   "metadata": {},
   "source": [
    "We'll open up a dataset with the UNPD estimates for the age-distribution of countries around the world, over time. (To keep things simple, we'll only look at female populations today.)"
   ]
  },
  {
   "cell_type": "code",
   "execution_count": null,
   "metadata": {},
   "outputs": [],
   "source": [
    "unpd_pop = Table.read_table('../data/UNPD/unpd_f_pop_byage_cleaned.csv')\n",
    "unpd_pop"
   ]
  },
  {
   "cell_type": "markdown",
   "metadata": {},
   "source": [
    "This function is from Lab 05; it will help us grab population distributions from the UNPD dataset."
   ]
  },
  {
   "cell_type": "code",
   "execution_count": null,
   "metadata": {},
   "outputs": [],
   "source": [
    "def get_pop(country, reference_date):\n",
    "    raw_dat = unpd_pop.where('area', country).where('reference_date', reference_date)\n",
    "    return(raw_dat)\n",
    "\n",
    "get_pop('United States of America', 1980).show()"
   ]
  },
  {
   "cell_type": "markdown",
   "metadata": {},
   "source": [
    "It will also be helpful to have a list with all of the periods available in the UNPD dataset."
   ]
  },
  {
   "cell_type": "code",
   "execution_count": null,
   "metadata": {},
   "outputs": [],
   "source": [
    "all_periods = np.unique(unpd_pop['reference_date'])\n",
    "all_periods"
   ]
  },
  {
   "cell_type": "markdown",
   "metadata": {},
   "source": [
    "**Question - fill in the code below to write a function that takes information about a population (returned by `get_pop`) and calculates the old-age dependency ratio.**"
   ]
  },
  {
   "cell_type": "code",
   "execution_count": null,
   "metadata": {},
   "outputs": [],
   "source": [
    "def calculate_old_dr(population_data):\n",
    "    \n",
    "    # calculate the total number of old people\n",
    "    tot_old = ...\n",
    "    # calculate the total number of working-age people\n",
    "    tot_working = ...\n",
    "    \n",
    "    # use tot_old and tot_working to calculate the old-age dependency ratio\n",
    "    old_dr = ...\n",
    "    return(old_dr)\n",
    "    \n",
    "us_old_dr = calculate_old_dr(get_pop('United States of America', 1980))\n",
    "us_old_dr"
   ]
  },
  {
   "cell_type": "code",
   "execution_count": null,
   "metadata": {},
   "outputs": [],
   "source": [
    "_ = lab06.grade('test_old_dr')"
   ]
  },
  {
   "cell_type": "markdown",
   "metadata": {},
   "source": [
    "**Question - fill in the code below to write a function that takes information about a population (returned by `get_pop`) and calculates the child dependency ratio.**"
   ]
  },
  {
   "cell_type": "code",
   "execution_count": null,
   "metadata": {},
   "outputs": [],
   "source": [
    "def calculate_child_dr(population_data):\n",
    "    \n",
    "    # calculate the total number of old people\n",
    "    tot_child = ...\n",
    "    # calculate the total number of working-age people\n",
    "    tot_working = ...\n",
    "    \n",
    "    # use tot_child and tot_working to calculate the child dependency ratio\n",
    "    child_dr = ...\n",
    "    \n",
    "    return(child_dr)\n",
    "    \n",
    "us_child_dr = calculate_child_dr(get_pop('United States of America', 1980))\n",
    "us_child_dr"
   ]
  },
  {
   "cell_type": "code",
   "execution_count": null,
   "metadata": {},
   "outputs": [],
   "source": [
    "_ = lab06.grade('test_child_dr')"
   ]
  },
  {
   "cell_type": "markdown",
   "metadata": {},
   "source": [
    "**Question - fill in the code below to write a function that takes information about a population (returned by `get_pop`) and calculates the total dependency ratio.**  \n",
    "*[HINT: you should make use of the two functions you just wrote]*"
   ]
  },
  {
   "cell_type": "code",
   "execution_count": null,
   "metadata": {},
   "outputs": [],
   "source": [
    "def calculate_total_dr(population_data):\n",
    "    \n",
    "    total_dr = ...\n",
    "\n",
    "    return(total_dr)\n",
    "    \n",
    "us_total_dr = calculate_total_dr(get_pop('United States of America', 1980))\n",
    "us_total_dr"
   ]
  },
  {
   "cell_type": "code",
   "execution_count": null,
   "metadata": {},
   "outputs": [],
   "source": [
    "_ = lab06.grade('test_total_dr')"
   ]
  },
  {
   "cell_type": "markdown",
   "metadata": {},
   "source": [
    "Now that we can calculate the various dependency ratios, we'd like to be able to take a look at how they have changed over time.  This will help us understand what potential there has been for different countries to experience the demographic dividend."
   ]
  },
  {
   "cell_type": "markdown",
   "metadata": {},
   "source": [
    "**Question - What pattern in dependency ratios would be favorable for producing a demographic dividend? In other words, what time trend in dependency ratios would lead to the opportunity for economic development?**"
   ]
  },
  {
   "cell_type": "markdown",
   "metadata": {},
   "source": [
    "[ANSWER HERE]"
   ]
  },
  {
   "cell_type": "markdown",
   "metadata": {},
   "source": [
    "OK, now we'll look at actual time trends in dependency ratios."
   ]
  },
  {
   "cell_type": "markdown",
   "metadata": {},
   "source": [
    "**Question - fill in the function below to make it calculate a get time series of the child, old-age, and total dependency ratios for the given country.**"
   ]
  },
  {
   "cell_type": "code",
   "execution_count": null,
   "metadata": {},
   "outputs": [],
   "source": [
    "def get_all_dr(country):\n",
    "    \n",
    "    total_dr = make_array()\n",
    "    child_dr = make_array()\n",
    "    old_dr = make_array()\n",
    "    \n",
    "    for period in all_periods:\n",
    "        \n",
    "        ## grab the population data for this country and time period\n",
    "        pop_data = ...\n",
    "        \n",
    "        ## calculate the total, old-age, and child dependency ratios\n",
    "        ## (hint: use the functions you wrote above!)\n",
    "        current_total_dr = ...\n",
    "        current_old_dr = ...\n",
    "        current_child_dr = ...\n",
    "        \n",
    "        ## save the dependency ratios you just calculated\n",
    "        total_dr = ...\n",
    "        child_dr = ...\n",
    "        old_dr = ...\n",
    "        \n",
    "    result = Table().with_columns('period', all_periods,\n",
    "                                  'total_dr', total_dr,\n",
    "                                  'old_dr', old_dr,\n",
    "                                  'child_dr', child_dr,                                  \n",
    "                                  'area', country)\n",
    "    return(result)\n",
    "\n",
    "us_all_dr = get_all_dr('United States of America')\n",
    "us_all_dr.show()"
   ]
  },
  {
   "cell_type": "code",
   "execution_count": null,
   "metadata": {},
   "outputs": [],
   "source": [
    "_ = lab06.grade('test_get_all_dr')"
   ]
  },
  {
   "cell_type": "markdown",
   "metadata": {},
   "source": [
    "**Question - Plot the time-trajectory of the three dependency ratios for the US**   \n",
    "*[HINT: In the cell above, you calculated the rates for the us and stored them in the Table `us_all_dr`]*"
   ]
  },
  {
   "cell_type": "code",
   "execution_count": null,
   "metadata": {},
   "outputs": [],
   "source": [
    "us_all_dr.plot(...)\n",
    "plt.title(\"United States\");"
   ]
  },
  {
   "cell_type": "markdown",
   "metadata": {},
   "source": [
    "**Question - Fill in the code below to make a function that will first calculate and then plot the three dependency ratios over time for the given country.**  \n",
    "*[HINT: You should be sure to use the `get_all_dr` function you wrote earlier]*"
   ]
  },
  {
   "cell_type": "code",
   "execution_count": null,
   "metadata": {},
   "outputs": [],
   "source": [
    "def plot_all_dr(country):\n",
    "    \n",
    "    ## get the dependency ratios for the country\n",
    "    dr_data = ...\n",
    "    \n",
    "    ## plot the results\n",
    "    ...\n",
    "\n",
    "plot_all_dr('Germany')"
   ]
  },
  {
   "cell_type": "markdown",
   "metadata": {},
   "source": [
    "**Question - Use `plot_all_dr` to plot the time-trajectory of the three dependency ratios for Uganda, Guatemala, Sweden, and Japan.**"
   ]
  },
  {
   "cell_type": "code",
   "execution_count": null,
   "metadata": {},
   "outputs": [],
   "source": [
    "...\n",
    "...\n",
    "...\n",
    "..."
   ]
  },
  {
   "cell_type": "markdown",
   "metadata": {},
   "source": [
    "**Question - Sort the four countries you just looked at into the stage of the demographic transition they are in; use the categories early, middle, and late. Do the dependency ratio patterns look like they are related to the demographic transition?**"
   ]
  },
  {
   "cell_type": "markdown",
   "metadata": {},
   "source": [
    "[ANSWER HERE]"
   ]
  },
  {
   "cell_type": "markdown",
   "metadata": {},
   "source": [
    "## Looking at dependency ratios using simulation"
   ]
  },
  {
   "cell_type": "markdown",
   "metadata": {},
   "source": [
    "In the first part of the lab, which you've just finished, you looked at how dependency ratios have changed over time in the real world.\n",
    "\n",
    "In the second part of the lab, we're going to use the simulation tools that we developed last lab to get a sense for how dependency ratios change as populations do. This analysis will help us understand what kind of factors affect dependency ratios in the long run. For example, we might wonder if a given set of fertility and mortality rates implies a relatively high or low dependency ratio. Understanding this would help us know how to come up with policy suggestions that could help countries manage their dependency ratios. It might even help them develop economically.\n",
    "\n",
    "One way to study this question would be do use mathematical demography. But in this class, we're practicing our coding, so we'll use simulations instead.  We'll re-use some of the code that we developed in the formal demography lab.  To save us from having to type all of those population projection functions in again, I've put them in a module called `leslie`. We can load the module like this:"
   ]
  },
  {
   "cell_type": "code",
   "execution_count": null,
   "metadata": {},
   "outputs": [],
   "source": [
    "import leslie"
   ]
  },
  {
   "cell_type": "markdown",
   "metadata": {},
   "source": [
    "To see an example of using the module, recall that in the formal demography lab, we wrote a function called `self_project` that takes a country and a time period and projects that country's population at that time period forward, assuming that birth and death rates are fixed.  `self_project` is in the `leslie` module, so we can use it now. The only difference from last week is that we have to specify that the `self_project` function is inside of the `leslie` module by calling it like this:"
   ]
  },
  {
   "cell_type": "code",
   "execution_count": null,
   "metadata": {},
   "outputs": [],
   "source": [
    "india_proj = leslie.self_project('India', 1970, 20)\n",
    "india_proj"
   ]
  },
  {
   "cell_type": "markdown",
   "metadata": {},
   "source": [
    "Note that we called `leslie.self_projct(...)` to use the `self_project` function that is inside the `leslie` module."
   ]
  },
  {
   "cell_type": "markdown",
   "metadata": {},
   "source": [
    "We'd like to develop an understanding of what happens to dependency ratios when birth and death rates are fixed over long periods of time. We'll do this by taking the results of `self_project` and calculating the three dependency ratios for each iteration of the projection."
   ]
  },
  {
   "cell_type": "markdown",
   "metadata": {},
   "source": [
    "In order to make this a bit easier, we're providing you with a function that will calculate, for each row in a table, the sum across a given set of columns:"
   ]
  },
  {
   "cell_type": "code",
   "execution_count": null,
   "metadata": {},
   "outputs": [],
   "source": [
    "def row_sums(tab, which_cols):\n",
    "    \"\"\"\n",
    "    Calculate the sum across which_cols in the Table tab\n",
    "    row by row.\n",
    "    \"\"\"\n",
    "    tab_forsum = tab.select(which_cols)\n",
    "    return(make_array(tab_forsum.to_df().sum(axis=1))[0])"
   ]
  },
  {
   "cell_type": "markdown",
   "metadata": {},
   "source": [
    "To see an example of this function in action, let's create a test Table:"
   ]
  },
  {
   "cell_type": "code",
   "execution_count": null,
   "metadata": {},
   "outputs": [],
   "source": [
    "test_table = Table().with_columns('a', np.arange(4),\n",
    "                                  'b', make_array('a', 'b', 'c', 'd'),\n",
    "                                  'c', np.arange(4),\n",
    "                                  'd', np.arange(start=10, stop=14))\n",
    "test_table"
   ]
  },
  {
   "cell_type": "markdown",
   "metadata": {},
   "source": [
    "We can use `row_sums` to calculate the row-wise sum of columns 'c' and 'd' like this:"
   ]
  },
  {
   "cell_type": "code",
   "execution_count": null,
   "metadata": {},
   "outputs": [],
   "source": [
    "row_sums(test_table, np.arange(start=2,stop=4))"
   ]
  },
  {
   "cell_type": "markdown",
   "metadata": {},
   "source": [
    "We passed in `np.arange(start=2, stop=4)` because columns 'c' and 'd' are at indexes 2 and 3."
   ]
  },
  {
   "cell_type": "markdown",
   "metadata": {},
   "source": [
    "**Question - Fill in the code below to calculate the three dependency ratios for the given population projection output.**   \n",
    "*[HINT: You should use the function `row_sums` here. Note also that the columns with the child ages are at indexes 2 to 4; the working ages are indexes 5 to 14; and the old ages are indexes 15 to 19]*"
   ]
  },
  {
   "cell_type": "code",
   "execution_count": null,
   "metadata": {},
   "outputs": [],
   "source": [
    "def add_dep_ratios(proj_output):\n",
    "    \n",
    "    # add columns for the proportion of the population that is\n",
    "    # at child, working, and adult ages (hint: use the row_sums function)\n",
    "    res = proj_output.with_columns('prop_old', ...,\n",
    "                                   'prop_child', ...,\n",
    "                                   'prop_working', ...)\n",
    "    \n",
    "    # calculate the dependency ratios (hint: use the columns you just added above)\n",
    "    res = res.with_columns('total_dr', ...,\n",
    "                           'child_dr', ...,\n",
    "                           'old_dr',   ...)\n",
    "    return(res)\n",
    "\n",
    "india_proj_withdr = add_dep_ratios(india_proj)\n",
    "india_proj_withdr"
   ]
  },
  {
   "cell_type": "code",
   "execution_count": null,
   "metadata": {},
   "outputs": [],
   "source": [
    "_ = lab06.grade('test_add_dep_ratios')"
   ]
  },
  {
   "cell_type": "markdown",
   "metadata": {},
   "source": [
    "**Question - Fill in the code below to plot the total, child, and old-age dependency ratios (y axis) by iteration (x axis). This plot will show how the dependency ratios change as the population is projected forward in time.**"
   ]
  },
  {
   "cell_type": "code",
   "execution_count": null,
   "metadata": {},
   "outputs": [],
   "source": [
    "...\n",
    "plt.title(\"India (1970) projection\");"
   ]
  },
  {
   "cell_type": "markdown",
   "metadata": {},
   "source": [
    "**Question - Now fill in the code below to project the 2015 Uganda population forward 20 time steps, calculate the dependency ratios, and plot the results**  \n",
    "*[HINT: Be sure to use the `leslie.self_project` and `add_dep_ratios` functions]*"
   ]
  },
  {
   "cell_type": "code",
   "execution_count": null,
   "metadata": {},
   "outputs": [],
   "source": [
    "## project 2015 Uganda forward 20 time steps\n",
    "uganda_proj = ...\n",
    "## calculate dependency ratios\n",
    "uganda_proj_withdr = ...\n",
    "## plot the result\n",
    "...\n",
    "plt.title(\"Uganda (2105) projection\");"
   ]
  },
  {
   "cell_type": "markdown",
   "metadata": {},
   "source": [
    "**Question - Finally, do the same thing for Japan. That is, write some code to project the 2015 Japan population forward 20 time steps, calculate the dependency ratios, and plot the results**"
   ]
  },
  {
   "cell_type": "code",
   "execution_count": null,
   "metadata": {
    "scrolled": true
   },
   "outputs": [],
   "source": [
    "japan_proj = ...\n",
    "japan_proj_withdr = ...\n",
    "...\n",
    "plt.title(\"Japan (2015) projection\");"
   ]
  },
  {
   "cell_type": "markdown",
   "metadata": {},
   "source": [
    "**Question - From these examples, what do you conclude about the dependency ratios -- do they change over time, or do they tend to converge to stable values?**"
   ]
  },
  {
   "cell_type": "markdown",
   "metadata": {},
   "source": [
    "[ANSWER HERE]"
   ]
  },
  {
   "cell_type": "markdown",
   "metadata": {},
   "source": [
    "**Question - From these examples, what do you conclude about how dependency ratios are related to the population rates that are used in the projection? Do the dependency ratios tend to settle on the same values no matter what the rates are? Or might they depend on the rates?**"
   ]
  },
  {
   "cell_type": "markdown",
   "metadata": {},
   "source": [
    "[ANSWER HERE]"
   ]
  },
  {
   "cell_type": "markdown",
   "metadata": {},
   "source": [
    "If you are interested in finding more information about the demographic dividend, here are some resources:\n",
    "\n",
    "* [The Wikipedia page](https://en.wikipedia.org/wiki/Demographic_dividend) has an overview\n",
    "* The Health Policy Project has developed [DemDiv](http://www.healthpolicyproject.com/index.cfm?id=software&get=DemDiv), a spreadsheet-based model for projecting population scenarios related to the demographic dividend\n",
    "* JHU and the Gates Institute have creaded [www.demographicdividend.org](http://www.demographicdividend.org/). Among other things, the site has different case studies related to the demographic dividend in Africa"
   ]
  },
  {
   "cell_type": "markdown",
   "metadata": {},
   "source": [
    "## Run all tests\n",
    "\n",
    "This cell just re-runs all of the unit tests in the notebook, to summarize the results"
   ]
  },
  {
   "cell_type": "code",
   "execution_count": null,
   "metadata": {},
   "outputs": [],
   "source": [
    "# this cell runs all the tests at once!\n",
    "print(\"Running all tests...\")\n",
    "_ = [lab06.grade(q[:-3]) for q in os.listdir(\"tests\") if q.startswith('test')]\n",
    "print(\"Finished running all tests.\")"
   ]
  },
  {
   "cell_type": "markdown",
   "metadata": {},
   "source": [
    "### Submit your assignment by MIDNIGHT on the day of class\n",
    "\n",
    "Please submit your lab in by running the cell below. You can submit as many times as you want, up to midnight on the day of the class. No late submissions are allowed, and the system will prevent you from being able to submit late."
   ]
  },
  {
   "cell_type": "code",
   "execution_count": null,
   "metadata": {},
   "outputs": [],
   "source": [
    "_ = lab06.submit()"
   ]
  }
 ],
 "metadata": {
  "anaconda-cloud": {},
  "kernelspec": {
   "display_name": "Python [default]",
   "language": "python",
   "name": "python3"
  },
  "language_info": {
   "codemirror_mode": {
    "name": "ipython",
    "version": 3
   },
   "file_extension": ".py",
   "mimetype": "text/x-python",
   "name": "python",
   "nbconvert_exporter": "python",
   "pygments_lexer": "ipython3",
   "version": "3.5.2"
  }
 },
 "nbformat": 4,
 "nbformat_minor": 1
}

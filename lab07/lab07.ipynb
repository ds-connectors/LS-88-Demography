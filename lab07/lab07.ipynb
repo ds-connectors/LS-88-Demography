{
 "cells": [
  {
   "cell_type": "code",
   "execution_count": null,
   "metadata": {},
   "outputs": [],
   "source": [
    "from IPython.core.display import HTML\n",
    "from datascience import *\n",
    "\n",
    "import matplotlib\n",
    "matplotlib.use('Agg')\n",
    "%matplotlib inline\n",
    "import matplotlib.pyplot as plt\n",
    "import numpy as np\n",
    "import os\n",
    "plt.style.use('fivethirtyeight')\n",
    "\n",
    "import pandas as pd\n",
    "import zipfile\n",
    "import io\n",
    "import math\n",
    "\n",
    "import folium\n",
    "import json\n",
    "import pandas as pd\n",
    "import folium.colormap as cm\n",
    "\n",
    "def css_styling():\n",
    "    styles = open('../notebook_styles.css', 'r').read()\n",
    "    return HTML(styles)\n",
    "css_styling()"
   ]
  },
  {
   "cell_type": "code",
   "execution_count": null,
   "metadata": {},
   "outputs": [],
   "source": [
    "#Loading testing data\n",
    "from client.api.notebook import Notebook \n",
    "lab07 = Notebook('lab07.ok')\n",
    "_ = lab07.auth(inline=True)"
   ]
  },
  {
   "cell_type": "markdown",
   "metadata": {},
   "source": [
    "# Lab 07 - Migration and space"
   ]
  },
  {
   "cell_type": "markdown",
   "metadata": {},
   "source": [
    "## Introductions"
   ]
  },
  {
   "cell_type": "markdown",
   "metadata": {},
   "source": [
    "**What is your partner's name?**"
   ]
  },
  {
   "cell_type": "markdown",
   "metadata": {},
   "source": [
    "[ANSWER HERE]"
   ]
  },
  {
   "cell_type": "markdown",
   "metadata": {},
   "source": [
    "**What is your partner's favorite place on campus?**"
   ]
  },
  {
   "cell_type": "markdown",
   "metadata": {},
   "source": [
    "[ANSWER HERE]"
   ]
  },
  {
   "cell_type": "markdown",
   "metadata": {},
   "source": [
    "**What was your partner's favorite class in high school?**"
   ]
  },
  {
   "cell_type": "markdown",
   "metadata": {},
   "source": [
    "[ANSWER HERE]"
   ]
  },
  {
   "cell_type": "markdown",
   "metadata": {},
   "source": [
    "## Migration in the US"
   ]
  },
  {
   "cell_type": "markdown",
   "metadata": {},
   "source": [
    "So far, we have discussed mortality and fertility.  The third and last major component of demographic change is migration, our subject today.\n",
    "\n",
    "Although migration is very important for understanding populations and how they change, it is probably the element of demographic change that is least understood. Why?  Data on migration are very hard to get. Migration inherently involves people changing location, and different locations invariably have different authorities who gather and produce population statistics. It can be quite difficult to reconstruct even reasonably basic features of migration.\n",
    "\n",
    "Nonetheless, we'll be working with data today! We'll explore some aspects of migration within the United States, by looking at county to county flows of people over the course of a year. Our data will come from the [Internal Revenue Service](https://www.irs.gov/uac/soi-tax-stats-migration-data-2014-2015). We'll be looking at migration from 2014-2015.\n",
    "\n",
    "The [documentation for the IRS migration data](https://www.irs.gov/pub/irs-soi/1415inpublicmigdoc.pdf) has some more information about how these data were produced."
   ]
  },
  {
   "cell_type": "markdown",
   "metadata": {},
   "source": [
    "**Question - The IRS dataset has information on, among other things, county to county migration flows. Look at the documentation for the IRS data. How exactly are these flows defined?**"
   ]
  },
  {
   "cell_type": "markdown",
   "metadata": {},
   "source": [
    "[ANSWER HERE]"
   ]
  },
  {
   "cell_type": "markdown",
   "metadata": {},
   "source": [
    "**Question - Given the definition of county to county flows, what are the limitations of studying internal US migration using the IRS data? (I.e., who might not show up in the IRS data? What other problems might the data have?)**"
   ]
  },
  {
   "cell_type": "markdown",
   "metadata": {},
   "source": [
    "[ANSWER HERE]"
   ]
  },
  {
   "cell_type": "markdown",
   "metadata": {},
   "source": [
    "Some [additional documentation](https://www.irs.gov/statistics/soi-tax-stats-migration-data) tells us that the number of returns filed can be considered an approximation of the number of households who move, and the number of exemptions can be considered an approximation of the number of people who move.\n",
    "\n",
    "The number of returns is called `n1` in the tables below, and the number of exemptions is called `n2`. We'll focus on `n2`, the number of exemptions, in lab today."
   ]
  },
  {
   "cell_type": "code",
   "execution_count": null,
   "metadata": {},
   "outputs": [],
   "source": [
    "irs_mig = Table.read_table('../data/IRS/us_migration_14to15_irs.csv')\n",
    "irs_mig"
   ]
  },
  {
   "cell_type": "markdown",
   "metadata": {},
   "source": [
    "The first thing to notice about these data is that the counties have an ID called a FIPS code. You can see the FIPS code for all of the counties in the US by looking at a\n",
    "[FIPS lookup table](https://www.nrcs.usda.gov/wps/portal/nrcs/detail/national/home/?cid=nrcs143_013697).\n",
    "Keep a tab with this FIPS lookup table open as you work on this lab; you may find it helpful to refer to it below."
   ]
  },
  {
   "cell_type": "markdown",
   "metadata": {},
   "source": [
    "We'll also be interested in the distance between different counties, so we'll join some data about these distances to the migration info. Here's a datset with some info on county to county distances (this is a subset of the [county distance database](http://www.nber.org/data/county-distance-database.html) which is provided on the NBER website):"
   ]
  },
  {
   "cell_type": "code",
   "execution_count": null,
   "metadata": {},
   "outputs": [],
   "source": [
    "irs_dist = Table.read_table('../data/IRS/irs_mig_county_distances.csv')\n",
    "irs_dist"
   ]
  },
  {
   "cell_type": "markdown",
   "metadata": {},
   "source": [
    "Because we are joining on two columns, we need to use Pandas to do the join. We haven't talked about this in class, or in Data 8, so don't worrry if the code below isn't completely familiar."
   ]
  },
  {
   "cell_type": "code",
   "execution_count": null,
   "metadata": {},
   "outputs": [],
   "source": [
    "irs_mig = Table().from_df(irs_mig.to_df().join(irs_dist.to_df(), how='left', rsuffix='2')).drop(['from_fips2', 'to_fips2'])\n",
    "irs_mig"
   ]
  },
  {
   "cell_type": "markdown",
   "metadata": {},
   "source": [
    "In order to get a sense for how the amount of migration flow is related to the size of each county, we'll also want information about the size of each county. So we'll open up this dataset, which has [US Census population estimates by county](https://www.census.gov/data/tables/2017/demo/popest/counties-total.html):"
   ]
  },
  {
   "cell_type": "code",
   "execution_count": null,
   "metadata": {},
   "outputs": [],
   "source": [
    "county_pops = Table.read_table('../data/us-census/us-county-pops-2015.csv')\n",
    "county_pops"
   ]
  },
  {
   "cell_type": "markdown",
   "metadata": {},
   "source": [
    "It will be helpful to have a dataset that has the fips code and the name of each county in the US.  This code chunk makes a `fips_names` Table:"
   ]
  },
  {
   "cell_type": "code",
   "execution_count": null,
   "metadata": {},
   "outputs": [],
   "source": [
    "def first_from_col(col):    \n",
    "    return(col[0])\n",
    "\n",
    "fips_names = irs_mig.select(['to_fips', 'y2_countyname', 'y2_state']).group('to_fips', first_from_col)\n",
    "fips_names = fips_names.relabeled(make_array('to_fips', 'y2_countyname first_from_col', 'y2_state first_from_col'), \n",
    "                                  make_array('fips', 'county_name', 'state'))\n",
    "fips_names"
   ]
  },
  {
   "cell_type": "markdown",
   "metadata": {},
   "source": [
    "Finally, we'll join in the name of the origin state, for completeness (this is missing from the IRS file)."
   ]
  },
  {
   "cell_type": "code",
   "execution_count": null,
   "metadata": {},
   "outputs": [],
   "source": [
    "irs_mig = irs_mig.join('from_fips', fips_names.select('fips', 'state').relabel('state', 'y1_state'), 'fips')\n",
    "irs_mig"
   ]
  },
  {
   "cell_type": "markdown",
   "metadata": {},
   "source": [
    "Now we can begin the lab in earnest."
   ]
  },
  {
   "cell_type": "markdown",
   "metadata": {},
   "source": [
    "## Looking at county populations in aggregate"
   ]
  },
  {
   "cell_type": "markdown",
   "metadata": {},
   "source": [
    "Before we investigate migration, let's take a brief look at the spatial distribution of the US population. We'll investigate the population by US county, which is in the `county_pops` dataset:"
   ]
  },
  {
   "cell_type": "code",
   "execution_count": null,
   "metadata": {},
   "outputs": [],
   "source": [
    "county_pops"
   ]
  },
  {
   "cell_type": "markdown",
   "metadata": {},
   "source": [
    "It looks like these counties vary a lot in size. Let's dig deeper by plotting the distribution of county sizes:"
   ]
  },
  {
   "cell_type": "markdown",
   "metadata": {},
   "source": [
    "**Question - Make a histogram of the distribution of county sizes.**"
   ]
  },
  {
   "cell_type": "code",
   "execution_count": null,
   "metadata": {},
   "outputs": [],
   "source": [
    "..."
   ]
  },
  {
   "cell_type": "markdown",
   "metadata": {},
   "source": [
    "Your histogram should confirm that counties vary a great deal in population.  Is there any rhyme or reason to this distribution of county population sizes?"
   ]
  },
  {
   "cell_type": "markdown",
   "metadata": {},
   "source": [
    "Wachter (in *Essential Demographic Methods*) has suggested that the spatial distribution of populations across administrative areas often tend to fall on a straight line in a *rank-size plot*. We will not study mechanisms that might lead to this pattern in depth, but if you are curious you can check out [Zipf's Law](https://en.wikipedia.org/wiki/Zipf%27s_law) as a starting point. For our purposes, we'd like to see if these county sizes - which seem to vary tremendously - seem to have any kind of structure to them.\n",
    "\n",
    "For US counties, we can produce a rank-size plot by\n",
    "\n",
    "* calculating the rank-order of each population's size, with the biggest population ranked 1\n",
    "* plotting on the x-axis minus the log-rank of each county\n",
    "* plotting on the y-axis the log of each county's size\n",
    "\n",
    "The claim is that the resulting plot should be a straight line."
   ]
  },
  {
   "cell_type": "markdown",
   "metadata": {},
   "source": [
    "The following function will calculate the rank of the elements of the array that are passed into it:"
   ]
  },
  {
   "cell_type": "code",
   "execution_count": null,
   "metadata": {},
   "outputs": [],
   "source": [
    "# see https://stackoverflow.com/questions/5284646/rank-items-in-an-array-using-python-numpy\n",
    "def rank_array(array):\n",
    "    temp = array.argsort()\n",
    "    ranks = np.empty_like(temp)\n",
    "    ranks[temp] = np.arange(start=1, stop=len(array)+1)[::-1]\n",
    "    return(ranks)\n",
    "\n",
    "rank_array(make_array(10, 3, 65, 1))"
   ]
  },
  {
   "cell_type": "markdown",
   "metadata": {},
   "source": [
    "**Question - Use the `rank_array` function create a new table, `county_pop_rank`, which is the table `county_pops` with a new column, `pop_rank`, that has the rank of each county's size.**"
   ]
  },
  {
   "cell_type": "code",
   "execution_count": null,
   "metadata": {},
   "outputs": [],
   "source": [
    "county_pop_rank = ...\n",
    "county_pop_rank"
   ]
  },
  {
   "cell_type": "code",
   "execution_count": null,
   "metadata": {},
   "outputs": [],
   "source": [
    "_ = lab07.grade('test_county_pop_rank')"
   ]
  },
  {
   "cell_type": "markdown",
   "metadata": {},
   "source": [
    "**Question - Now add two columns to `county_pop_rank`:**\n",
    "- **one column, `minus_log_rank` with minus the log rank of population size for each county**\n",
    "- **one column, `log_pop_2015` with the log of the population size for each county**"
   ]
  },
  {
   "cell_type": "code",
   "execution_count": null,
   "metadata": {},
   "outputs": [],
   "source": [
    "county_pop_rank = county_pop_rank.with_column(...,\n",
    "                                              ...)"
   ]
  },
  {
   "cell_type": "code",
   "execution_count": null,
   "metadata": {},
   "outputs": [],
   "source": [
    "_ = lab07.grade('test_log_county_pop_rank')"
   ]
  },
  {
   "cell_type": "markdown",
   "metadata": {},
   "source": [
    "**Question - Now make a scatterplot with minus log rank on the x axis and log population size on the y axis**"
   ]
  },
  {
   "cell_type": "code",
   "execution_count": null,
   "metadata": {},
   "outputs": [],
   "source": [
    "..."
   ]
  },
  {
   "cell_type": "markdown",
   "metadata": {},
   "source": [
    "**Question - Does the relationship seem to be a straight line?**"
   ]
  },
  {
   "cell_type": "markdown",
   "metadata": {},
   "source": [
    "[ANSWER HERE]"
   ]
  },
  {
   "cell_type": "markdown",
   "metadata": {},
   "source": [
    "**Question - Des some subset of counties appear to produce a straight line on the plot? (If so, make a scatterplot restricted to that subset of counties as an illustration)**"
   ]
  },
  {
   "cell_type": "code",
   "execution_count": null,
   "metadata": {},
   "outputs": [],
   "source": [
    "..."
   ]
  },
  {
   "cell_type": "markdown",
   "metadata": {},
   "source": [
    "The next chunk of code defines a function that will help us visualize the quantities on a map."
   ]
  },
  {
   "cell_type": "code",
   "execution_count": null,
   "metadata": {},
   "outputs": [],
   "source": [
    "us_counties = '../data/us-counties.json'\n",
    "geo_json_county_data = json.load(open(us_counties))\n",
    "\n",
    "def map_counties(table, qty, colormap=None):\n",
    "    \"\"\"\n",
    "    table - the Table. must have a 'fips' column with county-level FIPS codes\n",
    "    qty - the column in the table to map\n",
    "    \"\"\"\n",
    "    \n",
    "    df = table.to_df()\n",
    "    df['fips'] = df['fips'].astype(str)\n",
    "    \n",
    "    qty_dict = df.set_index('fips')[qty]\n",
    "    \n",
    "    if colormap is None:\n",
    "        cmin = np.percentile(qty_dict, 10)\n",
    "        cmax = np.percentile(qty_dict, 90)\n",
    "        colormap = cm.LinearColormap(['Red', 'Orange', 'Yellow', 'Green'], \n",
    "                                   vmin=cmin,\n",
    "                                   vmax=cmax)\\\n",
    "\n",
    "                    .to_step(n=30)\n",
    "                #.to_step(n=20,\n",
    "                #         data=nmr_dict,\n",
    "                #         method='quantiles')\n",
    "\n",
    "            \n",
    "    def get_map_color(id):\n",
    "        if id not in qty_dict.keys():\n",
    "            return('#00000000')\n",
    "        else:\n",
    "            return colormap(qty_dict[id])\n",
    "\n",
    "    m = folium.Map(location=[39, -96], \n",
    "                   #tiles=\"Stamen Toner\",\n",
    "                   tiles='cartodbpositron',\n",
    "                   zoom_start=4)\n",
    "\n",
    "    # add the legend\n",
    "    colormap.caption = qty\n",
    "    m.add_child(colormap)\n",
    "    \n",
    "    folium.GeoJson(geo_json_county_data,\n",
    "                   style_function=lambda feature: {\n",
    "                       'fillColor' : get_map_color(feature['id']),\n",
    "                       'color' : 'black',\n",
    "                       'weight' : .5,\n",
    "                       'opacity' : .8,\n",
    "                       #'line_opacity' : .3,\n",
    "                   }).add_to(m)\n",
    "    \n",
    "\n",
    "    return(m)"
   ]
  },
  {
   "cell_type": "markdown",
   "metadata": {},
   "source": [
    "The function `map_counties` can be used by passing it two arguments: the first argument should be a dataset that has a column called `fips`, corresponding to county fips codes; the second argument is the name of the column that has a numeric variable we'd like to visualize across counties on a map."
   ]
  },
  {
   "cell_type": "markdown",
   "metadata": {},
   "source": [
    "**Question - use the `map_counties` function to plot county population (`pop_2015`) in the `county_pop_rank` Table.**"
   ]
  },
  {
   "cell_type": "code",
   "execution_count": null,
   "metadata": {},
   "outputs": [],
   "source": [
    "..."
   ]
  },
  {
   "cell_type": "markdown",
   "metadata": {},
   "source": [
    "**Question - Looking at the map you just created, what do you notice about the physical size of counties in different parts of the country?**"
   ]
  },
  {
   "cell_type": "markdown",
   "metadata": {},
   "source": [
    "[ANSWER HERE]"
   ]
  },
  {
   "cell_type": "markdown",
   "metadata": {},
   "source": [
    "**Question Looking again at the map you just created, what do you notice about the spatial distribution of the US population?**"
   ]
  },
  {
   "cell_type": "markdown",
   "metadata": {},
   "source": [
    "[ANSWER HERE]"
   ]
  },
  {
   "cell_type": "markdown",
   "metadata": {},
   "source": [
    "# Migration"
   ]
  },
  {
   "cell_type": "markdown",
   "metadata": {},
   "source": [
    "Now we'll start to investigate migration -- that is, how population changes across space and time."
   ]
  },
  {
   "cell_type": "markdown",
   "metadata": {},
   "source": [
    "## An example: out-migrants from Alameda County"
   ]
  },
  {
   "cell_type": "markdown",
   "metadata": {},
   "source": [
    "One way to look at migration data is to take a particular county and examine the other counties that people move away to.  To help do this, we'd like to write a function, `county_destination_dist`, that shows how many people move from a given a county to each other county (i.e., the distribution of destinations from the given county)."
   ]
  },
  {
   "cell_type": "markdown",
   "metadata": {},
   "source": [
    "As a part of writing this function, we'd like to rename the columns to make them fit our analysis better. (This is something you'll often want to do as part of data analaysis). Specificaly, we'd like to end up with columns named\n",
    "\n",
    "* origin_fips\n",
    "* origin_state\n",
    "* origin_county\n",
    "* dest_fips\n",
    "* dest_state\n",
    "* dest_county\n",
    "* num_out_migrants\n",
    "* mi_to_county"
   ]
  },
  {
   "cell_type": "markdown",
   "metadata": {},
   "source": [
    "**Question - Fill in the code to complete the `county_destination_dist` function below.**   \n",
    "*[HINT: Check out the `table_relabel` function for info on renaming columns]*   \n",
    "*[HINT: remember that the `n2` column has the approximate number of people who move]*"
   ]
  },
  {
   "cell_type": "code",
   "execution_count": null,
   "metadata": {},
   "outputs": [],
   "source": [
    "def county_destination_dist(fips):\n",
    "    orig = irs_mig.where(..., ...)\n",
    "    orig = orig.relabel(...,\n",
    "                        ...)\n",
    "    \n",
    "    # select only the relabeled columns, plus also 'mi_to_country' to include in the result\n",
    "    orig = orig.select(...)\n",
    "    \n",
    "    # sort the result in descending order of the number of out migrants to each county\n",
    "    orig = orig.sort(..., ...)\n",
    "    return(orig)\n",
    "\n",
    "cd = county_destination_dist(1001)\n",
    "cd"
   ]
  },
  {
   "cell_type": "code",
   "execution_count": null,
   "metadata": {},
   "outputs": [],
   "source": [
    "_ = lab07.grade('test_county_dest')"
   ]
  },
  {
   "cell_type": "markdown",
   "metadata": {},
   "source": [
    "**Question - Use the `county_destination_dist` function to get the destinations for people who migrate away from Alameda County, California**  \n",
    "*[HINT: You can use the FIPS lookup table linked to above to find the FIPS code for Alameda County]*"
   ]
  },
  {
   "cell_type": "code",
   "execution_count": null,
   "metadata": {},
   "outputs": [],
   "source": [
    "alameda_dest = ...\n",
    "alameda_dest.show()"
   ]
  },
  {
   "cell_type": "markdown",
   "metadata": {},
   "source": [
    "**Question - Make a bar plot that shows a bar for each county people move to from Alameda County; the height of each bar should be proportional to the number of people who move to each county.**"
   ]
  },
  {
   "cell_type": "code",
   "execution_count": null,
   "metadata": {},
   "outputs": [],
   "source": [
    "..."
   ]
  },
  {
   "cell_type": "markdown",
   "metadata": {},
   "source": [
    "Now that we have a function that will give us the distribution of destinations for out-migrants from any county, we can make use of the next function to help us visualize the results:"
   ]
  },
  {
   "cell_type": "code",
   "execution_count": null,
   "metadata": {},
   "outputs": [],
   "source": [
    "def map_out_migrants(fips):\n",
    "    tab = county_destination_dist(fips)\n",
    "    sending_fips = tab.column('origin_fips').item(0)\n",
    "    tot_sent = -1*np.sum(tab['num_out_migrants'])\n",
    "    tomap = tab.relabel(make_array('dest_fips', 'num_out_migrants'), make_array('fips', 'num')).select('fips', 'num')\n",
    "    tomap = tomap.with_row([sending_fips, tot_sent])\n",
    "    \n",
    "    cmin = np.min(tomap['num'])\n",
    "    cmax = np.max(tomap['num'])\n",
    "    colormap = cm.LinearColormap(['Red', 'Green', 'DarkGreen'], \n",
    "                                 index=[cmin,0,cmax],\n",
    "                                 vmin=cmin, vmax=cmax)\n",
    "\n",
    "    return(map_counties(tomap, 'num', colormap=colormap))"
   ]
  },
  {
   "cell_type": "markdown",
   "metadata": {},
   "source": [
    "The `map_out_migrants` function takes the fips code for a county, and it produces a map that shows the destinations of outmigrants from that county."
   ]
  },
  {
   "cell_type": "markdown",
   "metadata": {},
   "source": [
    "**Question - Use `map_out_migrants` to visualize (make a map) of where out-migrants from Alameda County, CA end up**"
   ]
  },
  {
   "cell_type": "code",
   "execution_count": null,
   "metadata": {},
   "outputs": [],
   "source": [
    "..."
   ]
  },
  {
   "cell_type": "markdown",
   "metadata": {},
   "source": [
    "**Question - looking at the map you just made, come up with two factors that you think might affect where people from Alameda county decide to migrate**"
   ]
  },
  {
   "cell_type": "markdown",
   "metadata": {},
   "source": [
    "[ANSWER HERE]"
   ]
  },
  {
   "cell_type": "markdown",
   "metadata": {},
   "source": [
    "**Question - Investigate the relationship between the number of out migrants from Alameda to each county and the size of each county. Does there appear to be a relationship? Do counties with bigger populations attract more out-migrants?**"
   ]
  },
  {
   "cell_type": "code",
   "execution_count": null,
   "metadata": {},
   "outputs": [],
   "source": [
    "..."
   ]
  },
  {
   "cell_type": "markdown",
   "metadata": {},
   "source": [
    "**Question - Investigate the relationship between the number of out migrants from Alameda to each county and the distance to each county. Does there appear to be a relationship? Do counties that are closer attract more out-migrants?**   \n",
    "*[HINT: the column `mi_to_county` has the approximate distance from one county to another in miles]*"
   ]
  },
  {
   "cell_type": "code",
   "execution_count": null,
   "metadata": {},
   "outputs": [],
   "source": [
    "..."
   ]
  },
  {
   "cell_type": "markdown",
   "metadata": {},
   "source": [
    "**Question - How would you synthesize the previous two results? Do distance and population explain why people migrate to a given county?**"
   ]
  },
  {
   "cell_type": "markdown",
   "metadata": {},
   "source": [
    "[ANSWER HERE]"
   ]
  },
  {
   "cell_type": "markdown",
   "metadata": {},
   "source": [
    "## An example, continued: in-migrants to Alameda County"
   ]
  },
  {
   "cell_type": "markdown",
   "metadata": {},
   "source": [
    "Continuing with the specific example of Alameda County, we'll now turn our previous analysis on its head: instead of investigating who moves away from Alameda County, we'll look at who moves into Alameda County."
   ]
  },
  {
   "cell_type": "markdown",
   "metadata": {},
   "source": [
    "To start with, we will want to make a `county_arrivals_dist` function that returns the counties that send people to Alameda County. (This is like the reverse of the `county_destination_dist` function that you wrote above."
   ]
  },
  {
   "cell_type": "markdown",
   "metadata": {},
   "source": [
    "Once again, as a part of writing this function, we'd like to rename the columns to make them fit our analysis better. (This is something you'll often want to do as part of data analaysis). Specificaly, we'd like to end up with columns named\n",
    "\n",
    "* origin_fips\n",
    "* origin_state\n",
    "* origin_county\n",
    "* dest_fips\n",
    "* dest_state\n",
    "* dest_county\n",
    "* num_in_migrants\n",
    "* mi_to_county"
   ]
  },
  {
   "cell_type": "code",
   "execution_count": null,
   "metadata": {},
   "outputs": [],
   "source": [
    "def county_arrivals_dist(fips):\n",
    "    ## see the `county_destination_dist` function above for inspiration here\n",
    "    dest = irs_mig.where(..., ...)\n",
    "    dest = dest.relabel(..., ...)\n",
    "    dest = dest.select(...)\n",
    "    dest = dest.sort(..., ...)    \n",
    "    return(dest)\n",
    "\n",
    "ca = county_arrivals_dist(1001)\n",
    "ca"
   ]
  },
  {
   "cell_type": "code",
   "execution_count": null,
   "metadata": {},
   "outputs": [],
   "source": [
    "_ = lab07.grade('test_county_arrivals')"
   ]
  },
  {
   "cell_type": "markdown",
   "metadata": {},
   "source": [
    "**Question - Use the `county_arrivals_dist` function to get the destinations for people who migrate into Alameda County, California**  "
   ]
  },
  {
   "cell_type": "code",
   "execution_count": null,
   "metadata": {},
   "outputs": [],
   "source": [
    "alameda_arrivals = ...\n",
    "alameda_arrivals.show()"
   ]
  },
  {
   "cell_type": "code",
   "execution_count": null,
   "metadata": {},
   "outputs": [],
   "source": [
    "_ = lab07.grade('test_alameda_arrivals')"
   ]
  },
  {
   "cell_type": "markdown",
   "metadata": {},
   "source": [
    "Like before, we've made a `map_in_migrants` function to help you visualize where migrants are arriving from."
   ]
  },
  {
   "cell_type": "code",
   "execution_count": null,
   "metadata": {},
   "outputs": [],
   "source": [
    "def map_in_migrants(fips):\n",
    "    tab = county_arrivals_dist(fips)\n",
    "    receiving_fips = tab.column('dest_fips').item(0)\n",
    "    tot_arrived = np.sum(tab['num_in_migrants'])\n",
    "    tomap = tab.relabel(make_array('origin_fips', 'num_in_migrants'), \n",
    "                        make_array('fips', 'num')).select('fips', 'num')\n",
    "    tomap['num'] = -1*tomap.column('num')\n",
    "    tomap = tomap.with_row([receiving_fips, tot_arrived])\n",
    "    \n",
    "    cmin = np.min(tomap['num'])\n",
    "    cmax = np.max(tomap['num'])\n",
    "    colormap = cm.LinearColormap(['DarkRed', 'red', 'DarkGreen'], \n",
    "                                 index=[cmin,0,cmax],\n",
    "                                 vmin=cmin, vmax=cmax)\n",
    "\n",
    "    return(map_counties(tomap, 'num', colormap=colormap))\n",
    "    #return(tomap)"
   ]
  },
  {
   "cell_type": "markdown",
   "metadata": {},
   "source": [
    "`map_in_migrants` takes the fips code for a county and visualizes where migrants to that county arrive from."
   ]
  },
  {
   "cell_type": "markdown",
   "metadata": {},
   "source": [
    "**Quesiton - use `map_in_migrants` to visualize where people move to Alameda County from**"
   ]
  },
  {
   "cell_type": "code",
   "execution_count": null,
   "metadata": {
    "scrolled": false
   },
   "outputs": [],
   "source": [
    "..."
   ]
  },
  {
   "cell_type": "markdown",
   "metadata": {},
   "source": [
    "## Looking at migration in aggregate"
   ]
  },
  {
   "cell_type": "markdown",
   "metadata": {},
   "source": [
    "Having developed some tools for investigating in- and out-migration using the specific example of Alameda County, we'll now try to study the phenomenon of in- and out-migration across counties.  Our approach will be to develop rate-like quantities that measure the intensity of in- and out-migration. We'll start with out-migration, which can be measured using an *out-migration rate*:\n",
    "\n",
    "$$\n",
    "\\text{Out-Migration Rate (OMR)} = \\frac{\\text{# people moving out of county}}{\\text{# people in county}}\n",
    "$$\n",
    "\n",
    "The out-migration rate captures how much out-migration is happening, relative to the number of people who could possibly out-migrate."
   ]
  },
  {
   "cell_type": "markdown",
   "metadata": {},
   "source": [
    "**Question - Make a table of out-migrants for each county by summing the number of people who move out of each county. (The sum is taken across all of the counties people move to.)**   \n",
    "*[HINT: Use the `group` function here]*"
   ]
  },
  {
   "cell_type": "code",
   "execution_count": null,
   "metadata": {},
   "outputs": [],
   "source": [
    "out_migrants = irs_mig....\n",
    "\n",
    "# the resulting Table should have two columns: fips and num_out_migrants\n",
    "out_migrants = out_migrants.relabel(..., ...)\n",
    "out_migrants"
   ]
  },
  {
   "cell_type": "code",
   "execution_count": null,
   "metadata": {},
   "outputs": [],
   "source": [
    "_ = lab07.grade('test_out_migrants')"
   ]
  },
  {
   "cell_type": "markdown",
   "metadata": {},
   "source": [
    "**Question - Add readable county and state names to the `out_migrants` dataset by joining it onto the `fips_names` table.**"
   ]
  },
  {
   "cell_type": "code",
   "execution_count": null,
   "metadata": {},
   "outputs": [],
   "source": [
    "out_migrants = ...\n",
    "out_migrants"
   ]
  },
  {
   "cell_type": "markdown",
   "metadata": {},
   "source": [
    "**Question - Finally, add information about county sizes to the `out_migrants` table by joining it onto the `county_pops` table.**"
   ]
  },
  {
   "cell_type": "code",
   "execution_count": null,
   "metadata": {},
   "outputs": [],
   "source": [
    "out_migrants = ...\n",
    "out_migrants"
   ]
  },
  {
   "cell_type": "code",
   "execution_count": null,
   "metadata": {},
   "outputs": [],
   "source": [
    "_ = lab07.grade('test_out_migrants2')"
   ]
  },
  {
   "cell_type": "markdown",
   "metadata": {},
   "source": [
    "**Question - Plot the relationship between county population (x axis) and number of out migrants (y axis). Do these two quantities appear to be linked?**"
   ]
  },
  {
   "cell_type": "code",
   "execution_count": null,
   "metadata": {},
   "outputs": [],
   "source": [
    "..."
   ]
  },
  {
   "cell_type": "markdown",
   "metadata": {},
   "source": [
    "**Question - Now calculate the out-migration rate for each county; add it to the `out_migrants` dataset in a column called `omr`.**"
   ]
  },
  {
   "cell_type": "code",
   "execution_count": null,
   "metadata": {},
   "outputs": [],
   "source": [
    "out_migrants = ...\n",
    "out_migrants"
   ]
  },
  {
   "cell_type": "code",
   "execution_count": null,
   "metadata": {},
   "outputs": [],
   "source": [
    "_ = lab07.grade('test_omr')"
   ]
  },
  {
   "cell_type": "markdown",
   "metadata": {},
   "source": [
    "**Question - Make a histogram that has the distribution of out-migration rates across counties.**"
   ]
  },
  {
   "cell_type": "code",
   "execution_count": null,
   "metadata": {},
   "outputs": [],
   "source": [
    "..."
   ]
  },
  {
   "cell_type": "markdown",
   "metadata": {},
   "source": [
    "You should see that out-migration rates are often greater than 0, with the modal values being between 0.01 and 0.02 (or between 1 and 2 percent)."
   ]
  },
  {
   "cell_type": "markdown",
   "metadata": {},
   "source": [
    "### In-migration"
   ]
  },
  {
   "cell_type": "markdown",
   "metadata": {},
   "source": [
    "We can study in-migration in aggregate using a quantity that we'll call the in-migration rate. The in-migratino rate is (sort of) analogous to the out-migration rate:\n",
    "\n",
    "$$\n",
    "\\text{In-Migration Rate (IMR)} = \\frac{\\text{# people moving into county}}{\\text{# people in county}}\n",
    "$$"
   ]
  },
  {
   "cell_type": "markdown",
   "metadata": {},
   "source": [
    "**Question - Most demographers would argue that the in-migration rate does not make as much sense as the out-migraiton rate. What problem do you think most demographers would point out in our definition of the in-migration rate?**   \n",
    "*[NB: This is slightly tricky - do your best!]*"
   ]
  },
  {
   "cell_type": "markdown",
   "metadata": {},
   "source": [
    "[ANSWER HERE]"
   ]
  },
  {
   "cell_type": "markdown",
   "metadata": {},
   "source": [
    "**Question - Following the pattern from our study of out-migration above, make a table with total in-migration to each county.**"
   ]
  },
  {
   "cell_type": "code",
   "execution_count": null,
   "metadata": {},
   "outputs": [],
   "source": [
    "in_migrants = irs_mig....\n",
    "\n",
    "# the resulting Table should have two columns: fips and num_out_migrants\n",
    "in_migrants = ...\n",
    "in_migrants"
   ]
  },
  {
   "cell_type": "code",
   "execution_count": null,
   "metadata": {},
   "outputs": [],
   "source": [
    "_ = lab07.grade('test_in_migrants')"
   ]
  },
  {
   "cell_type": "markdown",
   "metadata": {},
   "source": [
    "**Question - Add county and state names to your `in_migrants` table by joining `fips_names` onto it.**"
   ]
  },
  {
   "cell_type": "code",
   "execution_count": null,
   "metadata": {},
   "outputs": [],
   "source": [
    "in_migrants = ...\n",
    "in_migrants"
   ]
  },
  {
   "cell_type": "markdown",
   "metadata": {},
   "source": [
    "**Question - Add county sizes to your `in_migrants` table by joining `county_pops` onto it.**"
   ]
  },
  {
   "cell_type": "code",
   "execution_count": null,
   "metadata": {},
   "outputs": [],
   "source": [
    "in_migrants = ...\n",
    "in_migrants"
   ]
  },
  {
   "cell_type": "code",
   "execution_count": null,
   "metadata": {},
   "outputs": [],
   "source": [
    "_ = lab07.grade('test_in_migrants2')"
   ]
  },
  {
   "cell_type": "markdown",
   "metadata": {},
   "source": [
    "**Question - Plot in-migrant numbers (y axis) against population counts (x axis). Do these two quantities seem related?**"
   ]
  },
  {
   "cell_type": "code",
   "execution_count": null,
   "metadata": {},
   "outputs": [],
   "source": [
    "..."
   ]
  },
  {
   "cell_type": "markdown",
   "metadata": {},
   "source": [
    "**Question - calculate the in-migration rate and add it to a column of `in_migrants`; call the new column `imr`.**"
   ]
  },
  {
   "cell_type": "code",
   "execution_count": null,
   "metadata": {},
   "outputs": [],
   "source": [
    "in_migrants = in_migrants....\n",
    "in_migrants"
   ]
  },
  {
   "cell_type": "code",
   "execution_count": null,
   "metadata": {},
   "outputs": [],
   "source": [
    "_ = lab07.grade('test_imr')"
   ]
  },
  {
   "cell_type": "markdown",
   "metadata": {},
   "source": [
    "**Question - Make a histogram that has the distribution of in-migration rates across counties.**"
   ]
  },
  {
   "cell_type": "code",
   "execution_count": null,
   "metadata": {},
   "outputs": [],
   "source": [
    "..."
   ]
  },
  {
   "cell_type": "markdown",
   "metadata": {},
   "source": [
    "**Question - Did you find that there was more variation in the out-migration rates or the in-migratino rates?**"
   ]
  },
  {
   "cell_type": "markdown",
   "metadata": {},
   "source": [
    "[ANSWER HERE]"
   ]
  },
  {
   "cell_type": "markdown",
   "metadata": {},
   "source": [
    "**More resources for the curious**"
   ]
  },
  {
   "cell_type": "markdown",
   "metadata": {},
   "source": [
    "The US Census has a [Flows mapper](https://flowsmapper.geo.census.gov/map.html) website, where you can visualize migration from county to county in the US.  \n",
    "Note that the US Census estimates are from a different source--the American Community Survey--and from a wider range of time-periods than the IRS data. So the two sources may not be exactly the same. The ACS data are probably better, actually, than the IRS data, but they are considerably more complex to work with."
   ]
  },
  {
   "cell_type": "markdown",
   "metadata": {},
   "source": [
    "## Challenge question (optional)"
   ]
  },
  {
   "cell_type": "markdown",
   "metadata": {},
   "source": [
    "If you have extra time, use the visualization tools we developed to explore in- and out-migration patterns for different counties. Can you find any general patterns that are suggestive of a particular social or economic process that causes migration?"
   ]
  },
  {
   "cell_type": "code",
   "execution_count": null,
   "metadata": {},
   "outputs": [],
   "source": []
  },
  {
   "cell_type": "markdown",
   "metadata": {},
   "source": [
    " "
   ]
  },
  {
   "cell_type": "markdown",
   "metadata": {},
   "source": [
    "## Run all tests\n",
    "\n",
    "This cell just re-runs all of the unit tests in the notebook, to summarize the results"
   ]
  },
  {
   "cell_type": "code",
   "execution_count": null,
   "metadata": {},
   "outputs": [],
   "source": [
    "# this cell runs all the tests at once!\n",
    "print(\"Running all tests...\")\n",
    "_ = [lab07.grade(q[:-3]) for q in os.listdir(\"tests\") if q.startswith('test')]\n",
    "print(\"Finished running all tests.\")"
   ]
  },
  {
   "cell_type": "markdown",
   "metadata": {},
   "source": [
    "### Submit your assignment by MIDNIGHT on the day of class\n",
    "\n",
    "Please submit your lab in by running the cell below. You can submit as many times as you want, up to midnight on the day of the class. No late submissions are allowed, and the system will prevent you from being able to submit late."
   ]
  },
  {
   "cell_type": "code",
   "execution_count": null,
   "metadata": {},
   "outputs": [],
   "source": [
    "_ = lab07.submit()"
   ]
  }
 ],
 "metadata": {
  "anaconda-cloud": {},
  "kernelspec": {
   "display_name": "Python [default]",
   "language": "python",
   "name": "python3"
  },
  "language_info": {
   "codemirror_mode": {
    "name": "ipython",
    "version": 3
   },
   "file_extension": ".py",
   "mimetype": "text/x-python",
   "name": "python",
   "nbconvert_exporter": "python",
   "pygments_lexer": "ipython3",
   "version": "3.5.2"
  }
 },
 "nbformat": 4,
 "nbformat_minor": 1
}
